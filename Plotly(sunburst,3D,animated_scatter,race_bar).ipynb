{
  "nbformat": 4,
  "nbformat_minor": 0,
  "metadata": {
    "colab": {
      "provenance": [],
      "authorship_tag": "ABX9TyOKM3evQU6ldWMIW+5dQOoF",
      "include_colab_link": true
    },
    "kernelspec": {
      "name": "python3",
      "display_name": "Python 3"
    },
    "language_info": {
      "name": "python"
    }
  },
  "cells": [
    {
      "cell_type": "markdown",
      "metadata": {
        "id": "view-in-github",
        "colab_type": "text"
      },
      "source": [
        "<a href=\"https://colab.research.google.com/github/Nobel712/Visualisation-library/blob/main/Plotly(sunburst%2C3D%2Canimated_scatter%2Crace_bar).ipynb\" target=\"_parent\"><img src=\"https://colab.research.google.com/assets/colab-badge.svg\" alt=\"Open In Colab\"/></a>"
      ]
    },
    {
      "cell_type": "code",
      "execution_count": null,
      "metadata": {
        "id": "iabz08qRs3RI"
      },
      "outputs": [],
      "source": [
        "import pandas as pd\n",
        "import numpy as np\n",
        "import plotly.express as px"
      ]
    },
    {
      "cell_type": "code",
      "source": [
        "df=pd.read_csv(\"/content/MPVDataset.csv\")\n",
        "df.head()"
      ],
      "metadata": {
        "colab": {
          "base_uri": "https://localhost:8080/",
          "height": 560
        },
        "id": "KsOnXOTauGIY",
        "outputId": "1b56c2df-64a4-4562-c824-a28056d58398"
      },
      "execution_count": null,
      "outputs": [
        {
          "output_type": "execute_result",
          "data": {
            "text/plain": [
              "         Victim's name Victim's age Victim's gender Victim's race  \\\n",
              "0    Andrew L. Closson           21            Male         White   \n",
              "1  Christopher Tavares           21            Male      Hispanic   \n",
              "2        Andrew Layton           26            Male         White   \n",
              "3         Abel Gurrola           26            Male      Hispanic   \n",
              "4           Tyree Bell           31            Male         Black   \n",
              "\n",
              "                              URL of image of victim  \\\n",
              "0  http://www.superiortelegram.com/sites/default/...   \n",
              "1  http://www.krdo.com/image/view/-/17980228/medR...   \n",
              "2  http://bloximages.chicago2.vip.townnews.com/ma...   \n",
              "3  http://www.bakersfieldnow.com/news/local/A-26-...   \n",
              "4  http://content.omaha.com/media/maps/ps/2013/ja...   \n",
              "\n",
              "  Date of Incident (month/day/year)             Street Address of Incident  \\\n",
              "0                          1/1/2013                        U.S. Highway 53   \n",
              "1                          1/1/2013  Highway 50 and North Elizabeth Street   \n",
              "2                          1/1/2013                 410 S Riverfront Drive   \n",
              "3                          1/1/2013                        720 Terrace Way   \n",
              "4                          1/1/2013                       3727 N. 42nd St.   \n",
              "\n",
              "          City State  Zipcode  ... Symptoms of mental illness?  \\\n",
              "0       Gordon    WI  54838.0  ...         Drug or alcohol use   \n",
              "1       Pueblo    CO  81008.0  ...                          No   \n",
              "2      Mankato    MN  56001.0  ...                          No   \n",
              "3  Bakersfield    CA  93304.0  ...                          No   \n",
              "4        Omaha    NE  68111.0  ...                         Yes   \n",
              "\n",
              "           Unarmed Alleged Weapon (Source: WaPo)  \\\n",
              "0  Allegedly Armed                           gun   \n",
              "1  Allegedly Armed                           gun   \n",
              "2          Unarmed                       unarmed   \n",
              "3  Allegedly Armed                           gun   \n",
              "4  Allegedly Armed                           gun   \n",
              "\n",
              "  Alleged Threat Level (Source: WaPo) Fleeing (Source: WaPo)  \\\n",
              "0                                 NaN                Unknown   \n",
              "1                                 NaN                Unknown   \n",
              "2                                 NaN                Unknown   \n",
              "3                                 NaN                Unknown   \n",
              "4                                 NaN                Unknown   \n",
              "\n",
              "  Body Camera (Source: WaPo) WaPo ID (If included in WaPo database)  \\\n",
              "0                    Unknown                                    NaN   \n",
              "1                    Unknown                                    NaN   \n",
              "2                    Unknown                                    NaN   \n",
              "3                    Unknown                                    NaN   \n",
              "4                    Unknown                                    NaN   \n",
              "\n",
              "  Off-Duty Killing? Geography   ID  \n",
              "0               NaN     Rural  5.0  \n",
              "1               NaN  Suburban  4.0  \n",
              "2               NaN  Suburban  6.0  \n",
              "3               NaN     Urban  3.0  \n",
              "4               NaN     Urban  2.0  \n",
              "\n",
              "[5 rows x 27 columns]"
            ],
            "text/html": [
              "\n",
              "  <div id=\"df-8db6d5dd-5779-42f8-9601-05927febf003\">\n",
              "    <div class=\"colab-df-container\">\n",
              "      <div>\n",
              "<style scoped>\n",
              "    .dataframe tbody tr th:only-of-type {\n",
              "        vertical-align: middle;\n",
              "    }\n",
              "\n",
              "    .dataframe tbody tr th {\n",
              "        vertical-align: top;\n",
              "    }\n",
              "\n",
              "    .dataframe thead th {\n",
              "        text-align: right;\n",
              "    }\n",
              "</style>\n",
              "<table border=\"1\" class=\"dataframe\">\n",
              "  <thead>\n",
              "    <tr style=\"text-align: right;\">\n",
              "      <th></th>\n",
              "      <th>Victim's name</th>\n",
              "      <th>Victim's age</th>\n",
              "      <th>Victim's gender</th>\n",
              "      <th>Victim's race</th>\n",
              "      <th>URL of image of victim</th>\n",
              "      <th>Date of Incident (month/day/year)</th>\n",
              "      <th>Street Address of Incident</th>\n",
              "      <th>City</th>\n",
              "      <th>State</th>\n",
              "      <th>Zipcode</th>\n",
              "      <th>...</th>\n",
              "      <th>Symptoms of mental illness?</th>\n",
              "      <th>Unarmed</th>\n",
              "      <th>Alleged Weapon (Source: WaPo)</th>\n",
              "      <th>Alleged Threat Level (Source: WaPo)</th>\n",
              "      <th>Fleeing (Source: WaPo)</th>\n",
              "      <th>Body Camera (Source: WaPo)</th>\n",
              "      <th>WaPo ID (If included in WaPo database)</th>\n",
              "      <th>Off-Duty Killing?</th>\n",
              "      <th>Geography</th>\n",
              "      <th>ID</th>\n",
              "    </tr>\n",
              "  </thead>\n",
              "  <tbody>\n",
              "    <tr>\n",
              "      <th>0</th>\n",
              "      <td>Andrew L. Closson</td>\n",
              "      <td>21</td>\n",
              "      <td>Male</td>\n",
              "      <td>White</td>\n",
              "      <td>http://www.superiortelegram.com/sites/default/...</td>\n",
              "      <td>1/1/2013</td>\n",
              "      <td>U.S. Highway 53</td>\n",
              "      <td>Gordon</td>\n",
              "      <td>WI</td>\n",
              "      <td>54838.0</td>\n",
              "      <td>...</td>\n",
              "      <td>Drug or alcohol use</td>\n",
              "      <td>Allegedly Armed</td>\n",
              "      <td>gun</td>\n",
              "      <td>NaN</td>\n",
              "      <td>Unknown</td>\n",
              "      <td>Unknown</td>\n",
              "      <td>NaN</td>\n",
              "      <td>NaN</td>\n",
              "      <td>Rural</td>\n",
              "      <td>5.0</td>\n",
              "    </tr>\n",
              "    <tr>\n",
              "      <th>1</th>\n",
              "      <td>Christopher Tavares</td>\n",
              "      <td>21</td>\n",
              "      <td>Male</td>\n",
              "      <td>Hispanic</td>\n",
              "      <td>http://www.krdo.com/image/view/-/17980228/medR...</td>\n",
              "      <td>1/1/2013</td>\n",
              "      <td>Highway 50 and North Elizabeth Street</td>\n",
              "      <td>Pueblo</td>\n",
              "      <td>CO</td>\n",
              "      <td>81008.0</td>\n",
              "      <td>...</td>\n",
              "      <td>No</td>\n",
              "      <td>Allegedly Armed</td>\n",
              "      <td>gun</td>\n",
              "      <td>NaN</td>\n",
              "      <td>Unknown</td>\n",
              "      <td>Unknown</td>\n",
              "      <td>NaN</td>\n",
              "      <td>NaN</td>\n",
              "      <td>Suburban</td>\n",
              "      <td>4.0</td>\n",
              "    </tr>\n",
              "    <tr>\n",
              "      <th>2</th>\n",
              "      <td>Andrew Layton</td>\n",
              "      <td>26</td>\n",
              "      <td>Male</td>\n",
              "      <td>White</td>\n",
              "      <td>http://bloximages.chicago2.vip.townnews.com/ma...</td>\n",
              "      <td>1/1/2013</td>\n",
              "      <td>410 S Riverfront Drive</td>\n",
              "      <td>Mankato</td>\n",
              "      <td>MN</td>\n",
              "      <td>56001.0</td>\n",
              "      <td>...</td>\n",
              "      <td>No</td>\n",
              "      <td>Unarmed</td>\n",
              "      <td>unarmed</td>\n",
              "      <td>NaN</td>\n",
              "      <td>Unknown</td>\n",
              "      <td>Unknown</td>\n",
              "      <td>NaN</td>\n",
              "      <td>NaN</td>\n",
              "      <td>Suburban</td>\n",
              "      <td>6.0</td>\n",
              "    </tr>\n",
              "    <tr>\n",
              "      <th>3</th>\n",
              "      <td>Abel Gurrola</td>\n",
              "      <td>26</td>\n",
              "      <td>Male</td>\n",
              "      <td>Hispanic</td>\n",
              "      <td>http://www.bakersfieldnow.com/news/local/A-26-...</td>\n",
              "      <td>1/1/2013</td>\n",
              "      <td>720 Terrace Way</td>\n",
              "      <td>Bakersfield</td>\n",
              "      <td>CA</td>\n",
              "      <td>93304.0</td>\n",
              "      <td>...</td>\n",
              "      <td>No</td>\n",
              "      <td>Allegedly Armed</td>\n",
              "      <td>gun</td>\n",
              "      <td>NaN</td>\n",
              "      <td>Unknown</td>\n",
              "      <td>Unknown</td>\n",
              "      <td>NaN</td>\n",
              "      <td>NaN</td>\n",
              "      <td>Urban</td>\n",
              "      <td>3.0</td>\n",
              "    </tr>\n",
              "    <tr>\n",
              "      <th>4</th>\n",
              "      <td>Tyree Bell</td>\n",
              "      <td>31</td>\n",
              "      <td>Male</td>\n",
              "      <td>Black</td>\n",
              "      <td>http://content.omaha.com/media/maps/ps/2013/ja...</td>\n",
              "      <td>1/1/2013</td>\n",
              "      <td>3727 N. 42nd St.</td>\n",
              "      <td>Omaha</td>\n",
              "      <td>NE</td>\n",
              "      <td>68111.0</td>\n",
              "      <td>...</td>\n",
              "      <td>Yes</td>\n",
              "      <td>Allegedly Armed</td>\n",
              "      <td>gun</td>\n",
              "      <td>NaN</td>\n",
              "      <td>Unknown</td>\n",
              "      <td>Unknown</td>\n",
              "      <td>NaN</td>\n",
              "      <td>NaN</td>\n",
              "      <td>Urban</td>\n",
              "      <td>2.0</td>\n",
              "    </tr>\n",
              "  </tbody>\n",
              "</table>\n",
              "<p>5 rows × 27 columns</p>\n",
              "</div>\n",
              "      <button class=\"colab-df-convert\" onclick=\"convertToInteractive('df-8db6d5dd-5779-42f8-9601-05927febf003')\"\n",
              "              title=\"Convert this dataframe to an interactive table.\"\n",
              "              style=\"display:none;\">\n",
              "        \n",
              "  <svg xmlns=\"http://www.w3.org/2000/svg\" height=\"24px\"viewBox=\"0 0 24 24\"\n",
              "       width=\"24px\">\n",
              "    <path d=\"M0 0h24v24H0V0z\" fill=\"none\"/>\n",
              "    <path d=\"M18.56 5.44l.94 2.06.94-2.06 2.06-.94-2.06-.94-.94-2.06-.94 2.06-2.06.94zm-11 1L8.5 8.5l.94-2.06 2.06-.94-2.06-.94L8.5 2.5l-.94 2.06-2.06.94zm10 10l.94 2.06.94-2.06 2.06-.94-2.06-.94-.94-2.06-.94 2.06-2.06.94z\"/><path d=\"M17.41 7.96l-1.37-1.37c-.4-.4-.92-.59-1.43-.59-.52 0-1.04.2-1.43.59L10.3 9.45l-7.72 7.72c-.78.78-.78 2.05 0 2.83L4 21.41c.39.39.9.59 1.41.59.51 0 1.02-.2 1.41-.59l7.78-7.78 2.81-2.81c.8-.78.8-2.07 0-2.86zM5.41 20L4 18.59l7.72-7.72 1.47 1.35L5.41 20z\"/>\n",
              "  </svg>\n",
              "      </button>\n",
              "      \n",
              "  <style>\n",
              "    .colab-df-container {\n",
              "      display:flex;\n",
              "      flex-wrap:wrap;\n",
              "      gap: 12px;\n",
              "    }\n",
              "\n",
              "    .colab-df-convert {\n",
              "      background-color: #E8F0FE;\n",
              "      border: none;\n",
              "      border-radius: 50%;\n",
              "      cursor: pointer;\n",
              "      display: none;\n",
              "      fill: #1967D2;\n",
              "      height: 32px;\n",
              "      padding: 0 0 0 0;\n",
              "      width: 32px;\n",
              "    }\n",
              "\n",
              "    .colab-df-convert:hover {\n",
              "      background-color: #E2EBFA;\n",
              "      box-shadow: 0px 1px 2px rgba(60, 64, 67, 0.3), 0px 1px 3px 1px rgba(60, 64, 67, 0.15);\n",
              "      fill: #174EA6;\n",
              "    }\n",
              "\n",
              "    [theme=dark] .colab-df-convert {\n",
              "      background-color: #3B4455;\n",
              "      fill: #D2E3FC;\n",
              "    }\n",
              "\n",
              "    [theme=dark] .colab-df-convert:hover {\n",
              "      background-color: #434B5C;\n",
              "      box-shadow: 0px 1px 3px 1px rgba(0, 0, 0, 0.15);\n",
              "      filter: drop-shadow(0px 1px 2px rgba(0, 0, 0, 0.3));\n",
              "      fill: #FFFFFF;\n",
              "    }\n",
              "  </style>\n",
              "\n",
              "      <script>\n",
              "        const buttonEl =\n",
              "          document.querySelector('#df-8db6d5dd-5779-42f8-9601-05927febf003 button.colab-df-convert');\n",
              "        buttonEl.style.display =\n",
              "          google.colab.kernel.accessAllowed ? 'block' : 'none';\n",
              "\n",
              "        async function convertToInteractive(key) {\n",
              "          const element = document.querySelector('#df-8db6d5dd-5779-42f8-9601-05927febf003');\n",
              "          const dataTable =\n",
              "            await google.colab.kernel.invokeFunction('convertToInteractive',\n",
              "                                                     [key], {});\n",
              "          if (!dataTable) return;\n",
              "\n",
              "          const docLinkHtml = 'Like what you see? Visit the ' +\n",
              "            '<a target=\"_blank\" href=https://colab.research.google.com/notebooks/data_table.ipynb>data table notebook</a>'\n",
              "            + ' to learn more about interactive tables.';\n",
              "          element.innerHTML = '';\n",
              "          dataTable['output_type'] = 'display_data';\n",
              "          await google.colab.output.renderOutput(dataTable, element);\n",
              "          const docLink = document.createElement('div');\n",
              "          docLink.innerHTML = docLinkHtml;\n",
              "          element.appendChild(docLink);\n",
              "        }\n",
              "      </script>\n",
              "    </div>\n",
              "  </div>\n",
              "  "
            ]
          },
          "metadata": {},
          "execution_count": 3
        }
      ]
    },
    {
      "cell_type": "code",
      "source": [
        "df[\"Victim's age\"]=pd.to_numeric(df[\"Victim's age\"],\n",
        "                                 errors='coerce').fillna(0).astype(np.int64)\n",
        "                                 "
      ],
      "metadata": {
        "id": "QJ9BTJZhuoAB"
      },
      "execution_count": null,
      "outputs": []
    },
    {
      "cell_type": "code",
      "source": [
        "df.rename(columns={'Fleeing (Source:Wapo)': \"Fleeing\"},inplace=True)"
      ],
      "metadata": {
        "id": "wJB9SCH4ywtx"
      },
      "execution_count": null,
      "outputs": []
    },
    {
      "cell_type": "code",
      "source": [
        "df=df[df['State'].isin(['NY','CA','TX'])]"
      ],
      "metadata": {
        "id": "CHp7uwaizNCu"
      },
      "execution_count": null,
      "outputs": []
    },
    {
      "cell_type": "code",
      "source": [
        "df.State"
      ],
      "metadata": {
        "colab": {
          "base_uri": "https://localhost:8080/"
        },
        "id": "9ThAZTvDzdS_",
        "outputId": "089aa8eb-c69b-4b45-b287-1665e21960c0"
      },
      "execution_count": null,
      "outputs": [
        {
          "output_type": "execute_result",
          "data": {
            "text/plain": [
              "3       CA\n",
              "7       CA\n",
              "9       NY\n",
              "21      CA\n",
              "39      CA\n",
              "        ..\n",
              "7646    CA\n",
              "7649    CA\n",
              "7650    TX\n",
              "7653    CA\n",
              "7658    TX\n",
              "Name: State, Length: 2061, dtype: object"
            ]
          },
          "metadata": {},
          "execution_count": 7
        }
      ]
    },
    {
      "cell_type": "code",
      "source": [
        "df=df[df[\"Victim's race\"].isin(['White','Black','Hispanic','Asian'])]"
      ],
      "metadata": {
        "id": "RFQyloE8zik2"
      },
      "execution_count": null,
      "outputs": []
    },
    {
      "cell_type": "code",
      "source": [
        "fig=px.sunburst(data_frame=df,path=['Unarmed','State',\"Victim's race\",\"Victim's gender\"],\n",
        "                color=\"Unarmed\",\n",
        "                color_discrete_sequence=px.colors.qualitative.Pastel,\n",
        "                maxdepth=-1)"
      ],
      "metadata": {
        "id": "jkQd0cH9z4in"
      },
      "execution_count": null,
      "outputs": []
    },
    {
      "cell_type": "code",
      "source": [
        "fig.update_traces(textinfo='label+percent entry',insidetextfont=dict(color=\"RED\"))\n",
        "fig.update_layout(margin=dict(t=0,l=0,r=0,b=0))\n",
        "fig.show()"
      ],
      "metadata": {
        "colab": {
          "base_uri": "https://localhost:8080/",
          "height": 542
        },
        "id": "Mt0kaYoIz8f4",
        "outputId": "55921939-098a-427e-9fee-28d8c1ac897f"
      },
      "execution_count": null,
      "outputs": [
        {
          "output_type": "display_data",
          "data": {
            "text/html": [
              "<html>\n",
              "<head><meta charset=\"utf-8\" /></head>\n",
              "<body>\n",
              "    <div>            <script src=\"https://cdnjs.cloudflare.com/ajax/libs/mathjax/2.7.5/MathJax.js?config=TeX-AMS-MML_SVG\"></script><script type=\"text/javascript\">if (window.MathJax) {MathJax.Hub.Config({SVG: {font: \"STIX-Web\"}});}</script>                <script type=\"text/javascript\">window.PlotlyConfig = {MathJaxConfig: 'local'};</script>\n",
              "        <script src=\"https://cdn.plot.ly/plotly-2.8.3.min.js\"></script>                <div id=\"ac6d8c0f-909a-44f6-88a9-39026b18a59d\" class=\"plotly-graph-div\" style=\"height:525px; width:100%;\"></div>            <script type=\"text/javascript\">                                    window.PLOTLYENV=window.PLOTLYENV || {};                                    if (document.getElementById(\"ac6d8c0f-909a-44f6-88a9-39026b18a59d\")) {                    Plotly.newPlot(                        \"ac6d8c0f-909a-44f6-88a9-39026b18a59d\",                        [{\"branchvalues\":\"total\",\"customdata\":[[\"Allegedly Armed\"],[\"Vehicle\"],[\"Unarmed\"],[\"Vehicle\"],[\"Unclear\"],[\"Allegedly Armed\"],[\"Vehicle\"],[\"Allegedly Armed\"],[\"Unclear\"],[\"Unarmed\"],[\"Allegedly Armed\"],[\"Vehicle\"],[\"Unclear\"],[\"Unarmed\"],[\"Unclear\"],[\"Unarmed\"],[\"Unclear\"],[\"Unclear\"],[\"Unarmed\"],[\"Allegedly Armed\"],[\"Allegedly Armed\"],[\"Unarmed\"],[\"Unclear\"],[\"Unarmed\"],[\"Unarmed\"],[\"Allegedly Armed\"],[\"Unclear\"],[\"Unarmed\"],[\"Vehicle\"],[\"Unarmed\"],[\"Vehicle\"],[\"Unclear\"],[\"Unarmed\"],[\"Vehicle\"],[\"Allegedly Armed\"],[\"Unclear\"],[\"Unarmed\"],[\"Vehicle\"],[\"Unclear\"],[\"Unarmed\"],[\"Allegedly Armed\"],[\"Vehicle\"],[\"Unclear\"],[\"Unarmed\"],[\"Allegedly Armed\"],[\"Unclear\"],[\"Vehicle\"],[\"Vehicle\"],[\"Unclear\"],[\"Unarmed\"],[\"Unarmed\"],[\"Allegedly Armed\"],[\"Vehicle\"],[\"Unarmed\"],[\"Allegedly Armed\"],[\"Allegedly Armed\"],[\"Allegedly Armed\"],[\"Unarmed\"],[\"Allegedly Armed\"],[\"Allegedly Armed\"],[\"Unarmed\"],[\"Vehicle\"],[\"Unarmed\"],[\"Vehicle\"],[\"Allegedly Armed\"],[\"Unclear\"],[\"Unarmed\"],[\"Unarmed\"],[\"Unclear\"],[\"Vehicle\"],[\"Vehicle\"],[\"Allegedly Armed\"],[\"Allegedly Armed\"],[\"Vehicle\"],[\"Allegedly Armed\"],[\"Allegedly Armed\"],[\"Unarmed\"],[\"Allegedly Armed\"],[\"Unclear\"],[\"Vehicle\"],[\"Vehicle\"],[\"Allegedly Armed\"],[\"Unclear\"],[\"Unarmed\"],[\"Unclear\"],[\"Vehicle\"],[\"Unclear\"],[\"Vehicle\"],[\"Vehicle\"],[\"Unclear\"],[\"Allegedly Armed\"],[\"Allegedly Armed\"],[\"Allegedly Armed\"],[\"Unarmed\"],[\"Vehicle\"],[\"Unarmed\"],[\"Allegedly Armed\"],[\"Allegedly Armed\"],[\"Unarmed\"],[\"Vehicle\"],[\"Unarmed\"],[\"Unclear\"],[\"Unarmed\"],[\"Unarmed\"],[\"Unclear\"],[\"Allegedly Armed\"],[\"Unclear\"],[\"Allegedly Armed\"],[\"Unarmed\"],[\"Vehicle\"],[\"Allegedly Armed\"],[\"Allegedly Armed\"],[\"Unarmed\"],[\"Allegedly Armed\"],[\"Unarmed\"],[\"Unarmed\"],[\"Allegedly Armed\"],[\"Allegedly Armed\"],[\"Vehicle\"],[\"Allegedly Armed\"],[\"Vehicle\"],[\"Unclear\"],[\"Unclear\"],[\"Allegedly Armed\"],[\"Allegedly Armed\"]],\"domain\":{\"x\":[0.0,1.0],\"y\":[0.0,1.0]},\"hovertemplate\":\"labels=%{label}<br>count=%{value}<br>parent=%{parent}<br>id=%{id}<br>Unarmed=%{customdata[0]}<extra></extra>\",\"ids\":[\"Allegedly Armed/CA/Asian/Female\",\"Vehicle/NY/Black\",\"Unarmed/NY/Black\",\"Vehicle/CA/Black\",\"Unclear/CA/Black\",\"Allegedly Armed/CA/Black\",\"Vehicle/TX/Asian\",\"Allegedly Armed/NY/Asian\",\"Unclear/CA/Asian\",\"Unarmed/CA/Asian\",\"Allegedly Armed/CA/Asian\",\"Vehicle/TX/White/Male\",\"Unclear/TX/White/Male\",\"Unarmed/NY/White/Male\",\"Unclear/CA/White/Male\",\"Unarmed/CA/White/Male\",\"Unclear/TX/Hispanic/Male\",\"Unclear/NY/Hispanic/Male\",\"Unarmed/NY/Hispanic/Male\",\"Allegedly Armed/NY/Hispanic/Male\",\"Allegedly Armed/TX/Black\",\"Unarmed/TX/Black\",\"Unclear/CA/Hispanic\",\"Unarmed/NY/Hispanic\",\"Unarmed\",\"Allegedly Armed\",\"Unclear/TX\",\"Unarmed/TX\",\"Vehicle/NY\",\"Unarmed/NY\",\"Vehicle/CA\",\"Unclear/CA\",\"Unarmed/CA\",\"Vehicle/CA/Hispanic/Male\",\"Allegedly Armed/CA\",\"Unclear/NY/White\",\"Unarmed/NY/White\",\"Vehicle/CA/White\",\"Unclear/CA/White\",\"Unarmed/CA/White\",\"Allegedly Armed/CA/White\",\"Vehicle/TX/Hispanic\",\"Unclear/TX/Hispanic\",\"Unarmed/TX/Hispanic\",\"Allegedly Armed/TX/White\",\"Unclear/CA/Hispanic/Male\",\"Vehicle\",\"Vehicle/CA/Black/Male\",\"Unclear/CA/White/Female\",\"Unarmed/CA/White/Female\",\"Unarmed/CA/Black/Male\",\"Allegedly Armed/CA/White/Female\",\"Vehicle/TX/Hispanic/Female\",\"Unarmed/TX/Hispanic/Female\",\"Allegedly Armed/CA/Asian/Male\",\"Allegedly Armed/NY/Black/Male\",\"Allegedly Armed/TX/Hispanic/Female\",\"Unarmed/NY/Hispanic/Female\",\"Allegedly Armed/TX/White/Female\",\"Allegedly Armed/NY/White/Female\",\"Unarmed/NY/Black/Male\",\"Vehicle/CA/Asian/Male\",\"Unarmed/TX/Black/Female\",\"Vehicle/NY/Black/Male\",\"Allegedly Armed/TX/Black/Female\",\"Unclear/CA/Asian/Male\",\"Unarmed/TX/White/Female\",\"Unarmed/CA/Black/Female\",\"Unclear/TX/Black/Male\",\"Vehicle/TX/Black/Male\",\"Vehicle/CA/Hispanic/Female\",\"Allegedly Armed/NY/Asian/Male\",\"Allegedly Armed/NY/Hispanic\",\"Vehicle/TX/Black\",\"Allegedly Armed/CA/Hispanic/Male\",\"Allegedly Armed/TX/Hispanic\",\"Unarmed/TX/White\",\"Allegedly Armed/CA/Hispanic/Female\",\"Unclear/NY\",\"Vehicle/CA/Black/Female\",\"Vehicle/TX\",\"Allegedly Armed/CA/Black/Female\",\"Unclear/NY/Hispanic\",\"Unarmed/CA/Hispanic/Male\",\"Unclear/TX/Black\",\"Vehicle/TX/White/Female\",\"Unclear/TX/White/Female\",\"Vehicle/CA/Asian\",\"Vehicle/CA/White/Male\",\"Unclear/NY/Black/Male\",\"Allegedly Armed/TX/Black/Unknown\",\"Allegedly Armed/CA/White/Male\",\"Allegedly Armed/TX/Asian/Male\",\"Unarmed/CA/Asian/Male\",\"Vehicle/TX/Hispanic/Male\",\"Unarmed/TX/Hispanic/Transgender\",\"Allegedly Armed/TX\",\"Allegedly Armed/TX/Black/Male\",\"Unarmed/CA/Hispanic/Female\",\"Vehicle/TX/White\",\"Unarmed/TX/Hispanic/Male\",\"Unclear\",\"Unarmed/TX/Black/Male\",\"Unarmed/TX/White/Male\",\"Unclear/CA/Black/Male\",\"Allegedly Armed/CA/Black/Male\",\"Unclear/NY/Black\",\"Allegedly Armed/CA/Hispanic\",\"Unarmed/NY/White/Female\",\"Vehicle/CA/Hispanic\",\"Allegedly Armed/NY/Black\",\"Allegedly Armed/TX/Hispanic/Male\",\"Unarmed/CA/Hispanic\",\"Allegedly Armed/NY/Black/Female\",\"Unarmed/NY/Black/Female\",\"Unarmed/CA/Black\",\"Allegedly Armed/NY\",\"Allegedly Armed/TX/Asian\",\"Vehicle/TX/Asian/Male\",\"Allegedly Armed/NY/White/Male\",\"Vehicle/CA/White/Female\",\"Unclear/TX/White\",\"Unclear/NY/White/Male\",\"Allegedly Armed/NY/White\",\"Allegedly Armed/TX/White/Male\"],\"labels\":[\"Female\",\"Black\",\"Black\",\"Black\",\"Black\",\"Black\",\"Asian\",\"Asian\",\"Asian\",\"Asian\",\"Asian\",\"Male\",\"Male\",\"Male\",\"Male\",\"Male\",\"Male\",\"Male\",\"Male\",\"Male\",\"Black\",\"Black\",\"Hispanic\",\"Hispanic\",\"Unarmed\",\"Allegedly Armed\",\"TX\",\"TX\",\"NY\",\"NY\",\"CA\",\"CA\",\"CA\",\"Male\",\"CA\",\"White\",\"White\",\"White\",\"White\",\"White\",\"White\",\"Hispanic\",\"Hispanic\",\"Hispanic\",\"White\",\"Male\",\"Vehicle\",\"Male\",\"Female\",\"Female\",\"Male\",\"Female\",\"Female\",\"Female\",\"Male\",\"Male\",\"Female\",\"Female\",\"Female\",\"Female\",\"Male\",\"Male\",\"Female\",\"Male\",\"Female\",\"Male\",\"Female\",\"Female\",\"Male\",\"Male\",\"Female\",\"Male\",\"Hispanic\",\"Black\",\"Male\",\"Hispanic\",\"White\",\"Female\",\"NY\",\"Female\",\"TX\",\"Female\",\"Hispanic\",\"Male\",\"Black\",\"Female\",\"Female\",\"Asian\",\"Male\",\"Male\",\"Unknown\",\"Male\",\"Male\",\"Male\",\"Male\",\"Transgender\",\"TX\",\"Male\",\"Female\",\"White\",\"Male\",\"Unclear\",\"Male\",\"Male\",\"Male\",\"Male\",\"Black\",\"Hispanic\",\"Female\",\"Hispanic\",\"Black\",\"Male\",\"Hispanic\",\"Female\",\"Female\",\"Black\",\"NY\",\"Asian\",\"Male\",\"Male\",\"Female\",\"White\",\"Male\",\"White\",\"Male\"],\"marker\":{\"colors\":[\"rgb(102, 197, 204)\",\"rgb(246, 207, 113)\",\"rgb(248, 156, 116)\",\"rgb(246, 207, 113)\",\"rgb(220, 176, 242)\",\"rgb(102, 197, 204)\",\"rgb(246, 207, 113)\",\"rgb(102, 197, 204)\",\"rgb(220, 176, 242)\",\"rgb(248, 156, 116)\",\"rgb(102, 197, 204)\",\"rgb(246, 207, 113)\",\"rgb(220, 176, 242)\",\"rgb(248, 156, 116)\",\"rgb(220, 176, 242)\",\"rgb(248, 156, 116)\",\"rgb(220, 176, 242)\",\"rgb(220, 176, 242)\",\"rgb(248, 156, 116)\",\"rgb(102, 197, 204)\",\"rgb(102, 197, 204)\",\"rgb(248, 156, 116)\",\"rgb(220, 176, 242)\",\"rgb(248, 156, 116)\",\"rgb(248, 156, 116)\",\"rgb(102, 197, 204)\",\"rgb(220, 176, 242)\",\"rgb(248, 156, 116)\",\"rgb(246, 207, 113)\",\"rgb(248, 156, 116)\",\"rgb(246, 207, 113)\",\"rgb(220, 176, 242)\",\"rgb(248, 156, 116)\",\"rgb(246, 207, 113)\",\"rgb(102, 197, 204)\",\"rgb(220, 176, 242)\",\"rgb(248, 156, 116)\",\"rgb(246, 207, 113)\",\"rgb(220, 176, 242)\",\"rgb(248, 156, 116)\",\"rgb(102, 197, 204)\",\"rgb(246, 207, 113)\",\"rgb(220, 176, 242)\",\"rgb(248, 156, 116)\",\"rgb(102, 197, 204)\",\"rgb(220, 176, 242)\",\"rgb(246, 207, 113)\",\"rgb(246, 207, 113)\",\"rgb(220, 176, 242)\",\"rgb(248, 156, 116)\",\"rgb(248, 156, 116)\",\"rgb(102, 197, 204)\",\"rgb(246, 207, 113)\",\"rgb(248, 156, 116)\",\"rgb(102, 197, 204)\",\"rgb(102, 197, 204)\",\"rgb(102, 197, 204)\",\"rgb(248, 156, 116)\",\"rgb(102, 197, 204)\",\"rgb(102, 197, 204)\",\"rgb(248, 156, 116)\",\"rgb(246, 207, 113)\",\"rgb(248, 156, 116)\",\"rgb(246, 207, 113)\",\"rgb(102, 197, 204)\",\"rgb(220, 176, 242)\",\"rgb(248, 156, 116)\",\"rgb(248, 156, 116)\",\"rgb(220, 176, 242)\",\"rgb(246, 207, 113)\",\"rgb(246, 207, 113)\",\"rgb(102, 197, 204)\",\"rgb(102, 197, 204)\",\"rgb(246, 207, 113)\",\"rgb(102, 197, 204)\",\"rgb(102, 197, 204)\",\"rgb(248, 156, 116)\",\"rgb(102, 197, 204)\",\"rgb(220, 176, 242)\",\"rgb(246, 207, 113)\",\"rgb(246, 207, 113)\",\"rgb(102, 197, 204)\",\"rgb(220, 176, 242)\",\"rgb(248, 156, 116)\",\"rgb(220, 176, 242)\",\"rgb(246, 207, 113)\",\"rgb(220, 176, 242)\",\"rgb(246, 207, 113)\",\"rgb(246, 207, 113)\",\"rgb(220, 176, 242)\",\"rgb(102, 197, 204)\",\"rgb(102, 197, 204)\",\"rgb(102, 197, 204)\",\"rgb(248, 156, 116)\",\"rgb(246, 207, 113)\",\"rgb(248, 156, 116)\",\"rgb(102, 197, 204)\",\"rgb(102, 197, 204)\",\"rgb(248, 156, 116)\",\"rgb(246, 207, 113)\",\"rgb(248, 156, 116)\",\"rgb(220, 176, 242)\",\"rgb(248, 156, 116)\",\"rgb(248, 156, 116)\",\"rgb(220, 176, 242)\",\"rgb(102, 197, 204)\",\"rgb(220, 176, 242)\",\"rgb(102, 197, 204)\",\"rgb(248, 156, 116)\",\"rgb(246, 207, 113)\",\"rgb(102, 197, 204)\",\"rgb(102, 197, 204)\",\"rgb(248, 156, 116)\",\"rgb(102, 197, 204)\",\"rgb(248, 156, 116)\",\"rgb(248, 156, 116)\",\"rgb(102, 197, 204)\",\"rgb(102, 197, 204)\",\"rgb(246, 207, 113)\",\"rgb(102, 197, 204)\",\"rgb(246, 207, 113)\",\"rgb(220, 176, 242)\",\"rgb(220, 176, 242)\",\"rgb(102, 197, 204)\",\"rgb(102, 197, 204)\"]},\"name\":\"\",\"parents\":[\"Allegedly Armed/CA/Asian\",\"Vehicle/NY\",\"Unarmed/NY\",\"Vehicle/CA\",\"Unclear/CA\",\"Allegedly Armed/CA\",\"Vehicle/TX\",\"Allegedly Armed/NY\",\"Unclear/CA\",\"Unarmed/CA\",\"Allegedly Armed/CA\",\"Vehicle/TX/White\",\"Unclear/TX/White\",\"Unarmed/NY/White\",\"Unclear/CA/White\",\"Unarmed/CA/White\",\"Unclear/TX/Hispanic\",\"Unclear/NY/Hispanic\",\"Unarmed/NY/Hispanic\",\"Allegedly Armed/NY/Hispanic\",\"Allegedly Armed/TX\",\"Unarmed/TX\",\"Unclear/CA\",\"Unarmed/NY\",\"\",\"\",\"Unclear\",\"Unarmed\",\"Vehicle\",\"Unarmed\",\"Vehicle\",\"Unclear\",\"Unarmed\",\"Vehicle/CA/Hispanic\",\"Allegedly Armed\",\"Unclear/NY\",\"Unarmed/NY\",\"Vehicle/CA\",\"Unclear/CA\",\"Unarmed/CA\",\"Allegedly Armed/CA\",\"Vehicle/TX\",\"Unclear/TX\",\"Unarmed/TX\",\"Allegedly Armed/TX\",\"Unclear/CA/Hispanic\",\"\",\"Vehicle/CA/Black\",\"Unclear/CA/White\",\"Unarmed/CA/White\",\"Unarmed/CA/Black\",\"Allegedly Armed/CA/White\",\"Vehicle/TX/Hispanic\",\"Unarmed/TX/Hispanic\",\"Allegedly Armed/CA/Asian\",\"Allegedly Armed/NY/Black\",\"Allegedly Armed/TX/Hispanic\",\"Unarmed/NY/Hispanic\",\"Allegedly Armed/TX/White\",\"Allegedly Armed/NY/White\",\"Unarmed/NY/Black\",\"Vehicle/CA/Asian\",\"Unarmed/TX/Black\",\"Vehicle/NY/Black\",\"Allegedly Armed/TX/Black\",\"Unclear/CA/Asian\",\"Unarmed/TX/White\",\"Unarmed/CA/Black\",\"Unclear/TX/Black\",\"Vehicle/TX/Black\",\"Vehicle/CA/Hispanic\",\"Allegedly Armed/NY/Asian\",\"Allegedly Armed/NY\",\"Vehicle/TX\",\"Allegedly Armed/CA/Hispanic\",\"Allegedly Armed/TX\",\"Unarmed/TX\",\"Allegedly Armed/CA/Hispanic\",\"Unclear\",\"Vehicle/CA/Black\",\"Vehicle\",\"Allegedly Armed/CA/Black\",\"Unclear/NY\",\"Unarmed/CA/Hispanic\",\"Unclear/TX\",\"Vehicle/TX/White\",\"Unclear/TX/White\",\"Vehicle/CA\",\"Vehicle/CA/White\",\"Unclear/NY/Black\",\"Allegedly Armed/TX/Black\",\"Allegedly Armed/CA/White\",\"Allegedly Armed/TX/Asian\",\"Unarmed/CA/Asian\",\"Vehicle/TX/Hispanic\",\"Unarmed/TX/Hispanic\",\"Allegedly Armed\",\"Allegedly Armed/TX/Black\",\"Unarmed/CA/Hispanic\",\"Vehicle/TX\",\"Unarmed/TX/Hispanic\",\"\",\"Unarmed/TX/Black\",\"Unarmed/TX/White\",\"Unclear/CA/Black\",\"Allegedly Armed/CA/Black\",\"Unclear/NY\",\"Allegedly Armed/CA\",\"Unarmed/NY/White\",\"Vehicle/CA\",\"Allegedly Armed/NY\",\"Allegedly Armed/TX/Hispanic\",\"Unarmed/CA\",\"Allegedly Armed/NY/Black\",\"Unarmed/NY/Black\",\"Unarmed/CA\",\"Allegedly Armed\",\"Allegedly Armed/TX\",\"Vehicle/TX/Asian\",\"Allegedly Armed/NY/White\",\"Vehicle/CA/White\",\"Unclear/TX\",\"Unclear/NY/White\",\"Allegedly Armed/NY\",\"Allegedly Armed/TX/White\"],\"values\":[2,2,17,12,22,112,1,1,3,5,34,12,17,9,33,49,16,1,5,11,93,40,55,6,327,1245,43,102,2,34,63,114,191,25,685,1,11,19,34,56,224,10,16,29,194,55,104,10,1,7,39,13,1,6,32,44,2,1,18,1,16,2,4,2,4,3,7,1,9,15,5,1,11,15,306,164,33,9,7,2,39,5,1,85,9,1,1,2,14,5,1,211,9,5,9,1,460,88,5,13,22,164,36,26,22,107,5,315,2,30,47,162,90,3,1,40,100,9,1,40,5,18,1,41,176],\"type\":\"sunburst\",\"insidetextfont\":{\"color\":\"RED\"},\"textinfo\":\"label+percent entry\"}],                        {\"template\":{\"data\":{\"bar\":[{\"error_x\":{\"color\":\"#2a3f5f\"},\"error_y\":{\"color\":\"#2a3f5f\"},\"marker\":{\"line\":{\"color\":\"#E5ECF6\",\"width\":0.5},\"pattern\":{\"fillmode\":\"overlay\",\"size\":10,\"solidity\":0.2}},\"type\":\"bar\"}],\"barpolar\":[{\"marker\":{\"line\":{\"color\":\"#E5ECF6\",\"width\":0.5},\"pattern\":{\"fillmode\":\"overlay\",\"size\":10,\"solidity\":0.2}},\"type\":\"barpolar\"}],\"carpet\":[{\"aaxis\":{\"endlinecolor\":\"#2a3f5f\",\"gridcolor\":\"white\",\"linecolor\":\"white\",\"minorgridcolor\":\"white\",\"startlinecolor\":\"#2a3f5f\"},\"baxis\":{\"endlinecolor\":\"#2a3f5f\",\"gridcolor\":\"white\",\"linecolor\":\"white\",\"minorgridcolor\":\"white\",\"startlinecolor\":\"#2a3f5f\"},\"type\":\"carpet\"}],\"choropleth\":[{\"colorbar\":{\"outlinewidth\":0,\"ticks\":\"\"},\"type\":\"choropleth\"}],\"contour\":[{\"colorbar\":{\"outlinewidth\":0,\"ticks\":\"\"},\"colorscale\":[[0.0,\"#0d0887\"],[0.1111111111111111,\"#46039f\"],[0.2222222222222222,\"#7201a8\"],[0.3333333333333333,\"#9c179e\"],[0.4444444444444444,\"#bd3786\"],[0.5555555555555556,\"#d8576b\"],[0.6666666666666666,\"#ed7953\"],[0.7777777777777778,\"#fb9f3a\"],[0.8888888888888888,\"#fdca26\"],[1.0,\"#f0f921\"]],\"type\":\"contour\"}],\"contourcarpet\":[{\"colorbar\":{\"outlinewidth\":0,\"ticks\":\"\"},\"type\":\"contourcarpet\"}],\"heatmap\":[{\"colorbar\":{\"outlinewidth\":0,\"ticks\":\"\"},\"colorscale\":[[0.0,\"#0d0887\"],[0.1111111111111111,\"#46039f\"],[0.2222222222222222,\"#7201a8\"],[0.3333333333333333,\"#9c179e\"],[0.4444444444444444,\"#bd3786\"],[0.5555555555555556,\"#d8576b\"],[0.6666666666666666,\"#ed7953\"],[0.7777777777777778,\"#fb9f3a\"],[0.8888888888888888,\"#fdca26\"],[1.0,\"#f0f921\"]],\"type\":\"heatmap\"}],\"heatmapgl\":[{\"colorbar\":{\"outlinewidth\":0,\"ticks\":\"\"},\"colorscale\":[[0.0,\"#0d0887\"],[0.1111111111111111,\"#46039f\"],[0.2222222222222222,\"#7201a8\"],[0.3333333333333333,\"#9c179e\"],[0.4444444444444444,\"#bd3786\"],[0.5555555555555556,\"#d8576b\"],[0.6666666666666666,\"#ed7953\"],[0.7777777777777778,\"#fb9f3a\"],[0.8888888888888888,\"#fdca26\"],[1.0,\"#f0f921\"]],\"type\":\"heatmapgl\"}],\"histogram\":[{\"marker\":{\"pattern\":{\"fillmode\":\"overlay\",\"size\":10,\"solidity\":0.2}},\"type\":\"histogram\"}],\"histogram2d\":[{\"colorbar\":{\"outlinewidth\":0,\"ticks\":\"\"},\"colorscale\":[[0.0,\"#0d0887\"],[0.1111111111111111,\"#46039f\"],[0.2222222222222222,\"#7201a8\"],[0.3333333333333333,\"#9c179e\"],[0.4444444444444444,\"#bd3786\"],[0.5555555555555556,\"#d8576b\"],[0.6666666666666666,\"#ed7953\"],[0.7777777777777778,\"#fb9f3a\"],[0.8888888888888888,\"#fdca26\"],[1.0,\"#f0f921\"]],\"type\":\"histogram2d\"}],\"histogram2dcontour\":[{\"colorbar\":{\"outlinewidth\":0,\"ticks\":\"\"},\"colorscale\":[[0.0,\"#0d0887\"],[0.1111111111111111,\"#46039f\"],[0.2222222222222222,\"#7201a8\"],[0.3333333333333333,\"#9c179e\"],[0.4444444444444444,\"#bd3786\"],[0.5555555555555556,\"#d8576b\"],[0.6666666666666666,\"#ed7953\"],[0.7777777777777778,\"#fb9f3a\"],[0.8888888888888888,\"#fdca26\"],[1.0,\"#f0f921\"]],\"type\":\"histogram2dcontour\"}],\"mesh3d\":[{\"colorbar\":{\"outlinewidth\":0,\"ticks\":\"\"},\"type\":\"mesh3d\"}],\"parcoords\":[{\"line\":{\"colorbar\":{\"outlinewidth\":0,\"ticks\":\"\"}},\"type\":\"parcoords\"}],\"pie\":[{\"automargin\":true,\"type\":\"pie\"}],\"scatter\":[{\"marker\":{\"colorbar\":{\"outlinewidth\":0,\"ticks\":\"\"}},\"type\":\"scatter\"}],\"scatter3d\":[{\"line\":{\"colorbar\":{\"outlinewidth\":0,\"ticks\":\"\"}},\"marker\":{\"colorbar\":{\"outlinewidth\":0,\"ticks\":\"\"}},\"type\":\"scatter3d\"}],\"scattercarpet\":[{\"marker\":{\"colorbar\":{\"outlinewidth\":0,\"ticks\":\"\"}},\"type\":\"scattercarpet\"}],\"scattergeo\":[{\"marker\":{\"colorbar\":{\"outlinewidth\":0,\"ticks\":\"\"}},\"type\":\"scattergeo\"}],\"scattergl\":[{\"marker\":{\"colorbar\":{\"outlinewidth\":0,\"ticks\":\"\"}},\"type\":\"scattergl\"}],\"scattermapbox\":[{\"marker\":{\"colorbar\":{\"outlinewidth\":0,\"ticks\":\"\"}},\"type\":\"scattermapbox\"}],\"scatterpolar\":[{\"marker\":{\"colorbar\":{\"outlinewidth\":0,\"ticks\":\"\"}},\"type\":\"scatterpolar\"}],\"scatterpolargl\":[{\"marker\":{\"colorbar\":{\"outlinewidth\":0,\"ticks\":\"\"}},\"type\":\"scatterpolargl\"}],\"scatterternary\":[{\"marker\":{\"colorbar\":{\"outlinewidth\":0,\"ticks\":\"\"}},\"type\":\"scatterternary\"}],\"surface\":[{\"colorbar\":{\"outlinewidth\":0,\"ticks\":\"\"},\"colorscale\":[[0.0,\"#0d0887\"],[0.1111111111111111,\"#46039f\"],[0.2222222222222222,\"#7201a8\"],[0.3333333333333333,\"#9c179e\"],[0.4444444444444444,\"#bd3786\"],[0.5555555555555556,\"#d8576b\"],[0.6666666666666666,\"#ed7953\"],[0.7777777777777778,\"#fb9f3a\"],[0.8888888888888888,\"#fdca26\"],[1.0,\"#f0f921\"]],\"type\":\"surface\"}],\"table\":[{\"cells\":{\"fill\":{\"color\":\"#EBF0F8\"},\"line\":{\"color\":\"white\"}},\"header\":{\"fill\":{\"color\":\"#C8D4E3\"},\"line\":{\"color\":\"white\"}},\"type\":\"table\"}]},\"layout\":{\"annotationdefaults\":{\"arrowcolor\":\"#2a3f5f\",\"arrowhead\":0,\"arrowwidth\":1},\"autotypenumbers\":\"strict\",\"coloraxis\":{\"colorbar\":{\"outlinewidth\":0,\"ticks\":\"\"}},\"colorscale\":{\"diverging\":[[0,\"#8e0152\"],[0.1,\"#c51b7d\"],[0.2,\"#de77ae\"],[0.3,\"#f1b6da\"],[0.4,\"#fde0ef\"],[0.5,\"#f7f7f7\"],[0.6,\"#e6f5d0\"],[0.7,\"#b8e186\"],[0.8,\"#7fbc41\"],[0.9,\"#4d9221\"],[1,\"#276419\"]],\"sequential\":[[0.0,\"#0d0887\"],[0.1111111111111111,\"#46039f\"],[0.2222222222222222,\"#7201a8\"],[0.3333333333333333,\"#9c179e\"],[0.4444444444444444,\"#bd3786\"],[0.5555555555555556,\"#d8576b\"],[0.6666666666666666,\"#ed7953\"],[0.7777777777777778,\"#fb9f3a\"],[0.8888888888888888,\"#fdca26\"],[1.0,\"#f0f921\"]],\"sequentialminus\":[[0.0,\"#0d0887\"],[0.1111111111111111,\"#46039f\"],[0.2222222222222222,\"#7201a8\"],[0.3333333333333333,\"#9c179e\"],[0.4444444444444444,\"#bd3786\"],[0.5555555555555556,\"#d8576b\"],[0.6666666666666666,\"#ed7953\"],[0.7777777777777778,\"#fb9f3a\"],[0.8888888888888888,\"#fdca26\"],[1.0,\"#f0f921\"]]},\"colorway\":[\"#636efa\",\"#EF553B\",\"#00cc96\",\"#ab63fa\",\"#FFA15A\",\"#19d3f3\",\"#FF6692\",\"#B6E880\",\"#FF97FF\",\"#FECB52\"],\"font\":{\"color\":\"#2a3f5f\"},\"geo\":{\"bgcolor\":\"white\",\"lakecolor\":\"white\",\"landcolor\":\"#E5ECF6\",\"showlakes\":true,\"showland\":true,\"subunitcolor\":\"white\"},\"hoverlabel\":{\"align\":\"left\"},\"hovermode\":\"closest\",\"mapbox\":{\"style\":\"light\"},\"paper_bgcolor\":\"white\",\"plot_bgcolor\":\"#E5ECF6\",\"polar\":{\"angularaxis\":{\"gridcolor\":\"white\",\"linecolor\":\"white\",\"ticks\":\"\"},\"bgcolor\":\"#E5ECF6\",\"radialaxis\":{\"gridcolor\":\"white\",\"linecolor\":\"white\",\"ticks\":\"\"}},\"scene\":{\"xaxis\":{\"backgroundcolor\":\"#E5ECF6\",\"gridcolor\":\"white\",\"gridwidth\":2,\"linecolor\":\"white\",\"showbackground\":true,\"ticks\":\"\",\"zerolinecolor\":\"white\"},\"yaxis\":{\"backgroundcolor\":\"#E5ECF6\",\"gridcolor\":\"white\",\"gridwidth\":2,\"linecolor\":\"white\",\"showbackground\":true,\"ticks\":\"\",\"zerolinecolor\":\"white\"},\"zaxis\":{\"backgroundcolor\":\"#E5ECF6\",\"gridcolor\":\"white\",\"gridwidth\":2,\"linecolor\":\"white\",\"showbackground\":true,\"ticks\":\"\",\"zerolinecolor\":\"white\"}},\"shapedefaults\":{\"line\":{\"color\":\"#2a3f5f\"}},\"ternary\":{\"aaxis\":{\"gridcolor\":\"white\",\"linecolor\":\"white\",\"ticks\":\"\"},\"baxis\":{\"gridcolor\":\"white\",\"linecolor\":\"white\",\"ticks\":\"\"},\"bgcolor\":\"#E5ECF6\",\"caxis\":{\"gridcolor\":\"white\",\"linecolor\":\"white\",\"ticks\":\"\"}},\"title\":{\"x\":0.05},\"xaxis\":{\"automargin\":true,\"gridcolor\":\"white\",\"linecolor\":\"white\",\"ticks\":\"\",\"title\":{\"standoff\":15},\"zerolinecolor\":\"white\",\"zerolinewidth\":2},\"yaxis\":{\"automargin\":true,\"gridcolor\":\"white\",\"linecolor\":\"white\",\"ticks\":\"\",\"title\":{\"standoff\":15},\"zerolinecolor\":\"white\",\"zerolinewidth\":2}}},\"legend\":{\"tracegroupgap\":0},\"margin\":{\"t\":0,\"l\":0,\"r\":0,\"b\":0},\"sunburstcolorway\":[\"rgb(102, 197, 204)\",\"rgb(246, 207, 113)\",\"rgb(248, 156, 116)\",\"rgb(220, 176, 242)\",\"rgb(135, 197, 95)\",\"rgb(158, 185, 243)\",\"rgb(254, 136, 177)\",\"rgb(201, 219, 116)\",\"rgb(139, 224, 164)\",\"rgb(180, 151, 231)\",\"rgb(179, 179, 179)\"]},                        {\"responsive\": true}                    ).then(function(){\n",
              "                            \n",
              "var gd = document.getElementById('ac6d8c0f-909a-44f6-88a9-39026b18a59d');\n",
              "var x = new MutationObserver(function (mutations, observer) {{\n",
              "        var display = window.getComputedStyle(gd).display;\n",
              "        if (!display || display === 'none') {{\n",
              "            console.log([gd, 'removed!']);\n",
              "            Plotly.purge(gd);\n",
              "            observer.disconnect();\n",
              "        }}\n",
              "}});\n",
              "\n",
              "// Listen for the removal of the full notebook cells\n",
              "var notebookContainer = gd.closest('#notebook-container');\n",
              "if (notebookContainer) {{\n",
              "    x.observe(notebookContainer, {childList: true});\n",
              "}}\n",
              "\n",
              "// Listen for the clearing of the current output cell\n",
              "var outputEl = gd.closest('.output');\n",
              "if (outputEl) {{\n",
              "    x.observe(outputEl, {childList: true});\n",
              "}}\n",
              "\n",
              "                        })                };                            </script>        </div>\n",
              "</body>\n",
              "</html>"
            ]
          },
          "metadata": {}
        }
      ]
    },
    {
      "cell_type": "markdown",
      "source": [
        "3D ploting"
      ],
      "metadata": {
        "id": "K1i-4C_C-3Nd"
      }
    },
    {
      "cell_type": "code",
      "source": [
        "import pandas as pd\n",
        "import plotly.express as px"
      ],
      "metadata": {
        "id": "wFAC7lMAz_Um"
      },
      "execution_count": null,
      "outputs": []
    },
    {
      "cell_type": "code",
      "source": [
        "df=pd.read_csv(\"/content/female_labour_cleaned.csv\")\n",
        "df.head()"
      ],
      "metadata": {
        "colab": {
          "base_uri": "https://localhost:8080/",
          "height": 285
        },
        "id": "d2NsyQYTmEmg",
        "outputId": "c460e544-97c4-4da5-d9e3-d2f21217143f"
      },
      "execution_count": null,
      "outputs": [
        {
          "output_type": "execute_result",
          "data": {
            "text/plain": [
              "        Entity Code  Year  % Econ. active  GDP per capita  population  \\\n",
              "0  Afghanistan  AFG  1800             NaN             NaN   3280000.0   \n",
              "1  Afghanistan  AFG  1801             NaN             NaN   3280000.0   \n",
              "2  Afghanistan  AFG  1802             NaN             NaN   3280000.0   \n",
              "3  Afghanistan  AFG  1803             NaN             NaN   3280000.0   \n",
              "4  Afghanistan  AFG  1804             NaN             NaN   3280000.0   \n",
              "\n",
              "   Years in school (avg) Continent  \n",
              "0                    NaN       NaN  \n",
              "1                    NaN       NaN  \n",
              "2                    NaN       NaN  \n",
              "3                    NaN       NaN  \n",
              "4                    NaN       NaN  "
            ],
            "text/html": [
              "\n",
              "  <div id=\"df-756681e1-6781-48c7-bad8-f969a3a6e206\">\n",
              "    <div class=\"colab-df-container\">\n",
              "      <div>\n",
              "<style scoped>\n",
              "    .dataframe tbody tr th:only-of-type {\n",
              "        vertical-align: middle;\n",
              "    }\n",
              "\n",
              "    .dataframe tbody tr th {\n",
              "        vertical-align: top;\n",
              "    }\n",
              "\n",
              "    .dataframe thead th {\n",
              "        text-align: right;\n",
              "    }\n",
              "</style>\n",
              "<table border=\"1\" class=\"dataframe\">\n",
              "  <thead>\n",
              "    <tr style=\"text-align: right;\">\n",
              "      <th></th>\n",
              "      <th>Entity</th>\n",
              "      <th>Code</th>\n",
              "      <th>Year</th>\n",
              "      <th>% Econ. active</th>\n",
              "      <th>GDP per capita</th>\n",
              "      <th>population</th>\n",
              "      <th>Years in school (avg)</th>\n",
              "      <th>Continent</th>\n",
              "    </tr>\n",
              "  </thead>\n",
              "  <tbody>\n",
              "    <tr>\n",
              "      <th>0</th>\n",
              "      <td>Afghanistan</td>\n",
              "      <td>AFG</td>\n",
              "      <td>1800</td>\n",
              "      <td>NaN</td>\n",
              "      <td>NaN</td>\n",
              "      <td>3280000.0</td>\n",
              "      <td>NaN</td>\n",
              "      <td>NaN</td>\n",
              "    </tr>\n",
              "    <tr>\n",
              "      <th>1</th>\n",
              "      <td>Afghanistan</td>\n",
              "      <td>AFG</td>\n",
              "      <td>1801</td>\n",
              "      <td>NaN</td>\n",
              "      <td>NaN</td>\n",
              "      <td>3280000.0</td>\n",
              "      <td>NaN</td>\n",
              "      <td>NaN</td>\n",
              "    </tr>\n",
              "    <tr>\n",
              "      <th>2</th>\n",
              "      <td>Afghanistan</td>\n",
              "      <td>AFG</td>\n",
              "      <td>1802</td>\n",
              "      <td>NaN</td>\n",
              "      <td>NaN</td>\n",
              "      <td>3280000.0</td>\n",
              "      <td>NaN</td>\n",
              "      <td>NaN</td>\n",
              "    </tr>\n",
              "    <tr>\n",
              "      <th>3</th>\n",
              "      <td>Afghanistan</td>\n",
              "      <td>AFG</td>\n",
              "      <td>1803</td>\n",
              "      <td>NaN</td>\n",
              "      <td>NaN</td>\n",
              "      <td>3280000.0</td>\n",
              "      <td>NaN</td>\n",
              "      <td>NaN</td>\n",
              "    </tr>\n",
              "    <tr>\n",
              "      <th>4</th>\n",
              "      <td>Afghanistan</td>\n",
              "      <td>AFG</td>\n",
              "      <td>1804</td>\n",
              "      <td>NaN</td>\n",
              "      <td>NaN</td>\n",
              "      <td>3280000.0</td>\n",
              "      <td>NaN</td>\n",
              "      <td>NaN</td>\n",
              "    </tr>\n",
              "  </tbody>\n",
              "</table>\n",
              "</div>\n",
              "      <button class=\"colab-df-convert\" onclick=\"convertToInteractive('df-756681e1-6781-48c7-bad8-f969a3a6e206')\"\n",
              "              title=\"Convert this dataframe to an interactive table.\"\n",
              "              style=\"display:none;\">\n",
              "        \n",
              "  <svg xmlns=\"http://www.w3.org/2000/svg\" height=\"24px\"viewBox=\"0 0 24 24\"\n",
              "       width=\"24px\">\n",
              "    <path d=\"M0 0h24v24H0V0z\" fill=\"none\"/>\n",
              "    <path d=\"M18.56 5.44l.94 2.06.94-2.06 2.06-.94-2.06-.94-.94-2.06-.94 2.06-2.06.94zm-11 1L8.5 8.5l.94-2.06 2.06-.94-2.06-.94L8.5 2.5l-.94 2.06-2.06.94zm10 10l.94 2.06.94-2.06 2.06-.94-2.06-.94-.94-2.06-.94 2.06-2.06.94z\"/><path d=\"M17.41 7.96l-1.37-1.37c-.4-.4-.92-.59-1.43-.59-.52 0-1.04.2-1.43.59L10.3 9.45l-7.72 7.72c-.78.78-.78 2.05 0 2.83L4 21.41c.39.39.9.59 1.41.59.51 0 1.02-.2 1.41-.59l7.78-7.78 2.81-2.81c.8-.78.8-2.07 0-2.86zM5.41 20L4 18.59l7.72-7.72 1.47 1.35L5.41 20z\"/>\n",
              "  </svg>\n",
              "      </button>\n",
              "      \n",
              "  <style>\n",
              "    .colab-df-container {\n",
              "      display:flex;\n",
              "      flex-wrap:wrap;\n",
              "      gap: 12px;\n",
              "    }\n",
              "\n",
              "    .colab-df-convert {\n",
              "      background-color: #E8F0FE;\n",
              "      border: none;\n",
              "      border-radius: 50%;\n",
              "      cursor: pointer;\n",
              "      display: none;\n",
              "      fill: #1967D2;\n",
              "      height: 32px;\n",
              "      padding: 0 0 0 0;\n",
              "      width: 32px;\n",
              "    }\n",
              "\n",
              "    .colab-df-convert:hover {\n",
              "      background-color: #E2EBFA;\n",
              "      box-shadow: 0px 1px 2px rgba(60, 64, 67, 0.3), 0px 1px 3px 1px rgba(60, 64, 67, 0.15);\n",
              "      fill: #174EA6;\n",
              "    }\n",
              "\n",
              "    [theme=dark] .colab-df-convert {\n",
              "      background-color: #3B4455;\n",
              "      fill: #D2E3FC;\n",
              "    }\n",
              "\n",
              "    [theme=dark] .colab-df-convert:hover {\n",
              "      background-color: #434B5C;\n",
              "      box-shadow: 0px 1px 3px 1px rgba(0, 0, 0, 0.15);\n",
              "      filter: drop-shadow(0px 1px 2px rgba(0, 0, 0, 0.3));\n",
              "      fill: #FFFFFF;\n",
              "    }\n",
              "  </style>\n",
              "\n",
              "      <script>\n",
              "        const buttonEl =\n",
              "          document.querySelector('#df-756681e1-6781-48c7-bad8-f969a3a6e206 button.colab-df-convert');\n",
              "        buttonEl.style.display =\n",
              "          google.colab.kernel.accessAllowed ? 'block' : 'none';\n",
              "\n",
              "        async function convertToInteractive(key) {\n",
              "          const element = document.querySelector('#df-756681e1-6781-48c7-bad8-f969a3a6e206');\n",
              "          const dataTable =\n",
              "            await google.colab.kernel.invokeFunction('convertToInteractive',\n",
              "                                                     [key], {});\n",
              "          if (!dataTable) return;\n",
              "\n",
              "          const docLinkHtml = 'Like what you see? Visit the ' +\n",
              "            '<a target=\"_blank\" href=https://colab.research.google.com/notebooks/data_table.ipynb>data table notebook</a>'\n",
              "            + ' to learn more about interactive tables.';\n",
              "          element.innerHTML = '';\n",
              "          dataTable['output_type'] = 'display_data';\n",
              "          await google.colab.output.renderOutput(dataTable, element);\n",
              "          const docLink = document.createElement('div');\n",
              "          docLink.innerHTML = docLinkHtml;\n",
              "          element.appendChild(docLink);\n",
              "        }\n",
              "      </script>\n",
              "    </div>\n",
              "  </div>\n",
              "  "
            ]
          },
          "metadata": {},
          "execution_count": 20
        }
      ]
    },
    {
      "cell_type": "code",
      "source": [
        "df.isnull().sum()"
      ],
      "metadata": {
        "colab": {
          "base_uri": "https://localhost:8080/"
        },
        "id": "Mdud_uhNmLo2",
        "outputId": "e91f2ea8-da51-44c7-8c10-4288c931dd6f"
      },
      "execution_count": null,
      "outputs": [
        {
          "output_type": "execute_result",
          "data": {
            "text/plain": [
              "Entity                       0\n",
              "Code                      4478\n",
              "Year                         0\n",
              "% Econ. active           44053\n",
              "GDP per capita           44170\n",
              "population                3694\n",
              "Years in school (avg)    48679\n",
              "Continent                39137\n",
              "dtype: int64"
            ]
          },
          "metadata": {},
          "execution_count": 4
        }
      ]
    },
    {
      "cell_type": "code",
      "source": [
        "df.shape"
      ],
      "metadata": {
        "colab": {
          "base_uri": "https://localhost:8080/"
        },
        "id": "s0Evuhg5mO-O",
        "outputId": "a83598e4-f413-493a-918c-9e0f68304183"
      },
      "execution_count": null,
      "outputs": [
        {
          "output_type": "execute_result",
          "data": {
            "text/plain": [
              "(50577, 8)"
            ]
          },
          "metadata": {},
          "execution_count": 5
        }
      ]
    },
    {
      "cell_type": "code",
      "source": [
        "df=df[df['Year'].isin(['1990','1995','2000','2005','2010'])]\n",
        "df=df[df['Continent'].isin(['Africa','Europe'])]\n",
        "df['resized_pop']=df['population']/10000000"
      ],
      "metadata": {
        "id": "mK4WW5dzmgWO"
      },
      "execution_count": null,
      "outputs": []
    },
    {
      "cell_type": "code",
      "source": [
        "fig=px.scatter_3d(\n",
        "    data_frame=df,x='GDP per capita',y=\"% Econ. active\",\n",
        "    z='Years in school (avg)',\n",
        "    color='Continent',\n",
        "    #color_discrete_sequence=['magenta','green'],\n",
        "    color_discrete_map={'Europe':'red','Africa':'yellow'},\n",
        "    symbol='Year',\n",
        "    log_x=True,\n",
        "    #symbole_sequence={'2005':\"square_open\",\"2010\":3},\n",
        "    template='ggplot2',\n",
        "    title='Female Labor Force Participation Analysis',\n",
        "    labels={'Years in school (avg)':'Years women are in school'},\n",
        "    hover_name='Entity',\n",
        "    height=700,\n",
        "    animation_frame='Year',\n",
        "    range_x=[500,100000],\n",
        "    range_z=[0,14],\n",
        "    range_y=[5,100]\n",
        "\n",
        ")\n",
        "fig.show()"
      ],
      "metadata": {
        "colab": {
          "base_uri": "https://localhost:8080/",
          "height": 717
        },
        "id": "HQ1B7AOlnKB5",
        "outputId": "da8940ad-7212-4c1a-87f2-880869d85485"
      },
      "execution_count": null,
      "outputs": [
        {
          "output_type": "display_data",
          "data": {
            "text/html": [
              "<html>\n",
              "<head><meta charset=\"utf-8\" /></head>\n",
              "<body>\n",
              "    <div>            <script src=\"https://cdnjs.cloudflare.com/ajax/libs/mathjax/2.7.5/MathJax.js?config=TeX-AMS-MML_SVG\"></script><script type=\"text/javascript\">if (window.MathJax) {MathJax.Hub.Config({SVG: {font: \"STIX-Web\"}});}</script>                <script type=\"text/javascript\">window.PlotlyConfig = {MathJaxConfig: 'local'};</script>\n",
              "        <script src=\"https://cdn.plot.ly/plotly-2.8.3.min.js\"></script>                <div id=\"f4de73fa-c1ef-4877-ac81-98acc427019c\" class=\"plotly-graph-div\" style=\"height:700px; width:100%;\"></div>            <script type=\"text/javascript\">                                    window.PLOTLYENV=window.PLOTLYENV || {};                                    if (document.getElementById(\"f4de73fa-c1ef-4877-ac81-98acc427019c\")) {                    Plotly.newPlot(                        \"f4de73fa-c1ef-4877-ac81-98acc427019c\",                        [{\"hovertemplate\":\"<b>%{hovertext}</b><br><br>Continent=Europe<br>Year=1990<br>GDP per capita=%{x}<br>% Econ. active=%{y}<br>Years women are in school=%{z}<extra></extra>\",\"hovertext\":[\"Albania\",\"Austria\",\"Belgium\",\"Bulgaria\",\"Denmark\",\"Finland\",\"France\",\"Germany\",\"Greece\",\"Hungary\",\"Iceland\",\"Italy\",\"Luxembourg\",\"Malta\",\"Netherlands\",\"Norway\",\"Poland\",\"Portugal\",\"Romania\",\"San Marino\",\"Spain\",\"Sweden\",\"Switzerland\",\"United Kingdom\"],\"legendgroup\":\"Europe, 1990\",\"marker\":{\"color\":\"red\",\"symbol\":\"circle\"},\"mode\":\"markers\",\"name\":\"Europe, 1990\",\"scene\":\"scene\",\"showlegend\":true,\"x\":[4722.838166,31341.90238,30647.82135,9296.952206,33785.65014,28905.57032,29514.853810000004,31287.06981,20686.13676,null,null,31141.90286,57618.0207,16176.49077,32090.21105,42813.76496,10276.57333,20166.92799,11422.46995,null,23758.7281,30933.63273,48181.75578,26827.84226],\"y\":[53.59000015,43.43299866,36.55799866,54.44499969,61.05099869,58.97600174,46.32799911,45.22700119,36.05899811,47.01699829,67.64199829,35.30199814,34.12099838,27.9279995,43.04899979,55.21300125,53.87400055,48.35900116,62.07600021,null,33.84000015,63.13600159,57.02299881,51.99300003],\"z\":[8.483493,8.00415,10.55961,9.296712,11.3936,9.170885,8.787752000000001,8.626876,10.02799,9.94243,9.834145,8.940700999999999,9.115874,9.774269,10.63524,10.96601,10.09329,7.527503,10.24098,null,7.957942999999999,11.56815,9.942136,9.564902],\"type\":\"scatter3d\"},{\"hovertemplate\":\"<b>%{hovertext}</b><br><br>Continent=Africa<br>Year=1990<br>GDP per capita=%{x}<br>% Econ. active=%{y}<br>Years women are in school=%{z}<extra></extra>\",\"hovertext\":[\"Algeria\",\"Angola\",\"Benin\",\"Burkina Faso\",\"Chad\",\"Comoros\",\"Congo\",\"Cote d'Ivoire\",\"Egypt\",\"Eritrea\",\"Ethiopia\",\"Gambia\",\"Ghana\",\"Guinea\",\"Kenya\",\"Liberia\",\"Libya\",\"Mauritania\",\"Morocco\",\"Niger\",\"Nigeria\",\"Rwanda\",\"Sudan\",\"Swaziland\",\"Tanzania\",\"Togo\",\"Tunisia\",\"Uganda\"],\"legendgroup\":\"Africa, 1990\",\"marker\":{\"color\":\"yellow\",\"symbol\":\"circle\"},\"mode\":\"markers\",\"name\":\"Africa, 1990\",\"scene\":\"scene\",\"showlegend\":true,\"x\":[10236.84066,3430.798427,1462.677421,844.3421676,1110.4379800000002,1599.95155,5140.4161460000005,3193.758531,5909.161575,null,651.9530906,1506.404687,1919.601511,1411.9489210000002,2380.495384,875.1895802000001,null,2806.73383,3912.005724,894.5407505000001,3041.509363,872.5285226,1743.4460390000002,5378.167768,1472.58375,1350.133276,5614.938383,769.4524841],\"y\":[11.49600029,75.15100098,57.34899902,76.21800232,64.89499664,31.55699921,65.76300049,48.52799988,21.3409996,75.22399902,66.49400329999999,44.97800064,72.41799927,63.0320015,70.32499695,52.80099869,20.00699997,29.95000076,24.08300018,68.13300323,47.57699966,86.77500153,23.44799995,37.64099884,82.10099792,80.84300232,22.50300026,62.46900177],\"z\":[3.588133,null,1.330599,null,null,null,4.8055010000000005,1.6184120000000002,3.469171,null,null,1.133028,4.6187,null,3.734478,1.614228,4.490730999999999,2.056543,2.174845,0.4768059,null,1.808815,1.630814,5.634875,3.5471220000000003,2.567736,3.593658,2.740765],\"type\":\"scatter3d\"}],                        {\"template\":{\"data\":{\"barpolar\":[{\"marker\":{\"line\":{\"color\":\"rgb(237,237,237)\",\"width\":0.5},\"pattern\":{\"fillmode\":\"overlay\",\"size\":10,\"solidity\":0.2}},\"type\":\"barpolar\"}],\"bar\":[{\"error_x\":{\"color\":\"rgb(51,51,51)\"},\"error_y\":{\"color\":\"rgb(51,51,51)\"},\"marker\":{\"line\":{\"color\":\"rgb(237,237,237)\",\"width\":0.5},\"pattern\":{\"fillmode\":\"overlay\",\"size\":10,\"solidity\":0.2}},\"type\":\"bar\"}],\"carpet\":[{\"aaxis\":{\"endlinecolor\":\"rgb(51,51,51)\",\"gridcolor\":\"white\",\"linecolor\":\"white\",\"minorgridcolor\":\"white\",\"startlinecolor\":\"rgb(51,51,51)\"},\"baxis\":{\"endlinecolor\":\"rgb(51,51,51)\",\"gridcolor\":\"white\",\"linecolor\":\"white\",\"minorgridcolor\":\"white\",\"startlinecolor\":\"rgb(51,51,51)\"},\"type\":\"carpet\"}],\"choropleth\":[{\"colorbar\":{\"outlinewidth\":0,\"tickcolor\":\"rgb(237,237,237)\",\"ticklen\":6,\"ticks\":\"inside\"},\"type\":\"choropleth\"}],\"contourcarpet\":[{\"colorbar\":{\"outlinewidth\":0,\"tickcolor\":\"rgb(237,237,237)\",\"ticklen\":6,\"ticks\":\"inside\"},\"type\":\"contourcarpet\"}],\"contour\":[{\"colorbar\":{\"outlinewidth\":0,\"tickcolor\":\"rgb(237,237,237)\",\"ticklen\":6,\"ticks\":\"inside\"},\"colorscale\":[[0,\"rgb(20,44,66)\"],[1,\"rgb(90,179,244)\"]],\"type\":\"contour\"}],\"heatmapgl\":[{\"colorbar\":{\"outlinewidth\":0,\"tickcolor\":\"rgb(237,237,237)\",\"ticklen\":6,\"ticks\":\"inside\"},\"colorscale\":[[0,\"rgb(20,44,66)\"],[1,\"rgb(90,179,244)\"]],\"type\":\"heatmapgl\"}],\"heatmap\":[{\"colorbar\":{\"outlinewidth\":0,\"tickcolor\":\"rgb(237,237,237)\",\"ticklen\":6,\"ticks\":\"inside\"},\"colorscale\":[[0,\"rgb(20,44,66)\"],[1,\"rgb(90,179,244)\"]],\"type\":\"heatmap\"}],\"histogram2dcontour\":[{\"colorbar\":{\"outlinewidth\":0,\"tickcolor\":\"rgb(237,237,237)\",\"ticklen\":6,\"ticks\":\"inside\"},\"colorscale\":[[0,\"rgb(20,44,66)\"],[1,\"rgb(90,179,244)\"]],\"type\":\"histogram2dcontour\"}],\"histogram2d\":[{\"colorbar\":{\"outlinewidth\":0,\"tickcolor\":\"rgb(237,237,237)\",\"ticklen\":6,\"ticks\":\"inside\"},\"colorscale\":[[0,\"rgb(20,44,66)\"],[1,\"rgb(90,179,244)\"]],\"type\":\"histogram2d\"}],\"histogram\":[{\"marker\":{\"pattern\":{\"fillmode\":\"overlay\",\"size\":10,\"solidity\":0.2}},\"type\":\"histogram\"}],\"mesh3d\":[{\"colorbar\":{\"outlinewidth\":0,\"tickcolor\":\"rgb(237,237,237)\",\"ticklen\":6,\"ticks\":\"inside\"},\"type\":\"mesh3d\"}],\"parcoords\":[{\"line\":{\"colorbar\":{\"outlinewidth\":0,\"tickcolor\":\"rgb(237,237,237)\",\"ticklen\":6,\"ticks\":\"inside\"}},\"type\":\"parcoords\"}],\"pie\":[{\"automargin\":true,\"type\":\"pie\"}],\"scatter3d\":[{\"line\":{\"colorbar\":{\"outlinewidth\":0,\"tickcolor\":\"rgb(237,237,237)\",\"ticklen\":6,\"ticks\":\"inside\"}},\"marker\":{\"colorbar\":{\"outlinewidth\":0,\"tickcolor\":\"rgb(237,237,237)\",\"ticklen\":6,\"ticks\":\"inside\"}},\"type\":\"scatter3d\"}],\"scattercarpet\":[{\"marker\":{\"colorbar\":{\"outlinewidth\":0,\"tickcolor\":\"rgb(237,237,237)\",\"ticklen\":6,\"ticks\":\"inside\"}},\"type\":\"scattercarpet\"}],\"scattergeo\":[{\"marker\":{\"colorbar\":{\"outlinewidth\":0,\"tickcolor\":\"rgb(237,237,237)\",\"ticklen\":6,\"ticks\":\"inside\"}},\"type\":\"scattergeo\"}],\"scattergl\":[{\"marker\":{\"colorbar\":{\"outlinewidth\":0,\"tickcolor\":\"rgb(237,237,237)\",\"ticklen\":6,\"ticks\":\"inside\"}},\"type\":\"scattergl\"}],\"scattermapbox\":[{\"marker\":{\"colorbar\":{\"outlinewidth\":0,\"tickcolor\":\"rgb(237,237,237)\",\"ticklen\":6,\"ticks\":\"inside\"}},\"type\":\"scattermapbox\"}],\"scatterpolargl\":[{\"marker\":{\"colorbar\":{\"outlinewidth\":0,\"tickcolor\":\"rgb(237,237,237)\",\"ticklen\":6,\"ticks\":\"inside\"}},\"type\":\"scatterpolargl\"}],\"scatterpolar\":[{\"marker\":{\"colorbar\":{\"outlinewidth\":0,\"tickcolor\":\"rgb(237,237,237)\",\"ticklen\":6,\"ticks\":\"inside\"}},\"type\":\"scatterpolar\"}],\"scatter\":[{\"marker\":{\"colorbar\":{\"outlinewidth\":0,\"tickcolor\":\"rgb(237,237,237)\",\"ticklen\":6,\"ticks\":\"inside\"}},\"type\":\"scatter\"}],\"scatterternary\":[{\"marker\":{\"colorbar\":{\"outlinewidth\":0,\"tickcolor\":\"rgb(237,237,237)\",\"ticklen\":6,\"ticks\":\"inside\"}},\"type\":\"scatterternary\"}],\"surface\":[{\"colorbar\":{\"outlinewidth\":0,\"tickcolor\":\"rgb(237,237,237)\",\"ticklen\":6,\"ticks\":\"inside\"},\"colorscale\":[[0,\"rgb(20,44,66)\"],[1,\"rgb(90,179,244)\"]],\"type\":\"surface\"}],\"table\":[{\"cells\":{\"fill\":{\"color\":\"rgb(237,237,237)\"},\"line\":{\"color\":\"white\"}},\"header\":{\"fill\":{\"color\":\"rgb(217,217,217)\"},\"line\":{\"color\":\"white\"}},\"type\":\"table\"}]},\"layout\":{\"annotationdefaults\":{\"arrowhead\":0,\"arrowwidth\":1},\"autotypenumbers\":\"strict\",\"coloraxis\":{\"colorbar\":{\"outlinewidth\":0,\"tickcolor\":\"rgb(237,237,237)\",\"ticklen\":6,\"ticks\":\"inside\"}},\"colorscale\":{\"sequential\":[[0,\"rgb(20,44,66)\"],[1,\"rgb(90,179,244)\"]],\"sequentialminus\":[[0,\"rgb(20,44,66)\"],[1,\"rgb(90,179,244)\"]]},\"colorway\":[\"#F8766D\",\"#A3A500\",\"#00BF7D\",\"#00B0F6\",\"#E76BF3\"],\"font\":{\"color\":\"rgb(51,51,51)\"},\"geo\":{\"bgcolor\":\"white\",\"lakecolor\":\"white\",\"landcolor\":\"rgb(237,237,237)\",\"showlakes\":true,\"showland\":true,\"subunitcolor\":\"white\"},\"hoverlabel\":{\"align\":\"left\"},\"hovermode\":\"closest\",\"paper_bgcolor\":\"white\",\"plot_bgcolor\":\"rgb(237,237,237)\",\"polar\":{\"angularaxis\":{\"gridcolor\":\"white\",\"linecolor\":\"white\",\"showgrid\":true,\"tickcolor\":\"rgb(51,51,51)\",\"ticks\":\"outside\"},\"bgcolor\":\"rgb(237,237,237)\",\"radialaxis\":{\"gridcolor\":\"white\",\"linecolor\":\"white\",\"showgrid\":true,\"tickcolor\":\"rgb(51,51,51)\",\"ticks\":\"outside\"}},\"scene\":{\"xaxis\":{\"backgroundcolor\":\"rgb(237,237,237)\",\"gridcolor\":\"white\",\"gridwidth\":2,\"linecolor\":\"white\",\"showbackground\":true,\"showgrid\":true,\"tickcolor\":\"rgb(51,51,51)\",\"ticks\":\"outside\",\"zerolinecolor\":\"white\"},\"yaxis\":{\"backgroundcolor\":\"rgb(237,237,237)\",\"gridcolor\":\"white\",\"gridwidth\":2,\"linecolor\":\"white\",\"showbackground\":true,\"showgrid\":true,\"tickcolor\":\"rgb(51,51,51)\",\"ticks\":\"outside\",\"zerolinecolor\":\"white\"},\"zaxis\":{\"backgroundcolor\":\"rgb(237,237,237)\",\"gridcolor\":\"white\",\"gridwidth\":2,\"linecolor\":\"white\",\"showbackground\":true,\"showgrid\":true,\"tickcolor\":\"rgb(51,51,51)\",\"ticks\":\"outside\",\"zerolinecolor\":\"white\"}},\"shapedefaults\":{\"fillcolor\":\"black\",\"line\":{\"width\":0},\"opacity\":0.3},\"ternary\":{\"aaxis\":{\"gridcolor\":\"white\",\"linecolor\":\"white\",\"showgrid\":true,\"tickcolor\":\"rgb(51,51,51)\",\"ticks\":\"outside\"},\"baxis\":{\"gridcolor\":\"white\",\"linecolor\":\"white\",\"showgrid\":true,\"tickcolor\":\"rgb(51,51,51)\",\"ticks\":\"outside\"},\"bgcolor\":\"rgb(237,237,237)\",\"caxis\":{\"gridcolor\":\"white\",\"linecolor\":\"white\",\"showgrid\":true,\"tickcolor\":\"rgb(51,51,51)\",\"ticks\":\"outside\"}},\"xaxis\":{\"automargin\":true,\"gridcolor\":\"white\",\"linecolor\":\"white\",\"showgrid\":true,\"tickcolor\":\"rgb(51,51,51)\",\"ticks\":\"outside\",\"title\":{\"standoff\":15},\"zerolinecolor\":\"white\"},\"yaxis\":{\"automargin\":true,\"gridcolor\":\"white\",\"linecolor\":\"white\",\"showgrid\":true,\"tickcolor\":\"rgb(51,51,51)\",\"ticks\":\"outside\",\"title\":{\"standoff\":15},\"zerolinecolor\":\"white\"}}},\"scene\":{\"domain\":{\"x\":[0.0,1.0],\"y\":[0.0,1.0]},\"xaxis\":{\"title\":{\"text\":\"GDP per capita\"},\"type\":\"log\",\"range\":[2.6989700043360183,5.0]},\"yaxis\":{\"title\":{\"text\":\"% Econ. active\"},\"range\":[5,100]},\"zaxis\":{\"title\":{\"text\":\"Years women are in school\"},\"range\":[0,14]}},\"legend\":{\"title\":{\"text\":\"Continent, Year\"},\"tracegroupgap\":0},\"title\":{\"text\":\"Female Labor Force Participation Analysis\"},\"height\":700,\"updatemenus\":[{\"buttons\":[{\"args\":[null,{\"frame\":{\"duration\":500,\"redraw\":true},\"mode\":\"immediate\",\"fromcurrent\":true,\"transition\":{\"duration\":500,\"easing\":\"linear\"}}],\"label\":\"&#9654;\",\"method\":\"animate\"},{\"args\":[[null],{\"frame\":{\"duration\":0,\"redraw\":true},\"mode\":\"immediate\",\"fromcurrent\":true,\"transition\":{\"duration\":0,\"easing\":\"linear\"}}],\"label\":\"&#9724;\",\"method\":\"animate\"}],\"direction\":\"left\",\"pad\":{\"r\":10,\"t\":70},\"showactive\":false,\"type\":\"buttons\",\"x\":0.1,\"xanchor\":\"right\",\"y\":0,\"yanchor\":\"top\"}],\"sliders\":[{\"active\":0,\"currentvalue\":{\"prefix\":\"Year=\"},\"len\":0.9,\"pad\":{\"b\":10,\"t\":60},\"steps\":[{\"args\":[[\"1990\"],{\"frame\":{\"duration\":0,\"redraw\":true},\"mode\":\"immediate\",\"fromcurrent\":true,\"transition\":{\"duration\":0,\"easing\":\"linear\"}}],\"label\":\"1990\",\"method\":\"animate\"},{\"args\":[[\"1995\"],{\"frame\":{\"duration\":0,\"redraw\":true},\"mode\":\"immediate\",\"fromcurrent\":true,\"transition\":{\"duration\":0,\"easing\":\"linear\"}}],\"label\":\"1995\",\"method\":\"animate\"},{\"args\":[[\"2000\"],{\"frame\":{\"duration\":0,\"redraw\":true},\"mode\":\"immediate\",\"fromcurrent\":true,\"transition\":{\"duration\":0,\"easing\":\"linear\"}}],\"label\":\"2000\",\"method\":\"animate\"},{\"args\":[[\"2005\"],{\"frame\":{\"duration\":0,\"redraw\":true},\"mode\":\"immediate\",\"fromcurrent\":true,\"transition\":{\"duration\":0,\"easing\":\"linear\"}}],\"label\":\"2005\",\"method\":\"animate\"},{\"args\":[[\"2010\"],{\"frame\":{\"duration\":0,\"redraw\":true},\"mode\":\"immediate\",\"fromcurrent\":true,\"transition\":{\"duration\":0,\"easing\":\"linear\"}}],\"label\":\"2010\",\"method\":\"animate\"}],\"x\":0.1,\"xanchor\":\"left\",\"y\":0,\"yanchor\":\"top\"}]},                        {\"responsive\": true}                    ).then(function(){\n",
              "                            Plotly.addFrames('f4de73fa-c1ef-4877-ac81-98acc427019c', [{\"data\":[{\"hovertemplate\":\"<b>%{hovertext}</b><br><br>Continent=Europe<br>Year=1990<br>GDP per capita=%{x}<br>% Econ. active=%{y}<br>Years women are in school=%{z}<extra></extra>\",\"hovertext\":[\"Albania\",\"Austria\",\"Belgium\",\"Bulgaria\",\"Denmark\",\"Finland\",\"France\",\"Germany\",\"Greece\",\"Hungary\",\"Iceland\",\"Italy\",\"Luxembourg\",\"Malta\",\"Netherlands\",\"Norway\",\"Poland\",\"Portugal\",\"Romania\",\"San Marino\",\"Spain\",\"Sweden\",\"Switzerland\",\"United Kingdom\"],\"legendgroup\":\"Europe, 1990\",\"marker\":{\"color\":\"red\",\"symbol\":\"circle\"},\"mode\":\"markers\",\"name\":\"Europe, 1990\",\"scene\":\"scene\",\"showlegend\":true,\"x\":[4722.838166,31341.90238,30647.82135,9296.952206,33785.65014,28905.57032,29514.853810000004,31287.06981,20686.13676,null,null,31141.90286,57618.0207,16176.49077,32090.21105,42813.76496,10276.57333,20166.92799,11422.46995,null,23758.7281,30933.63273,48181.75578,26827.84226],\"y\":[53.59000015,43.43299866,36.55799866,54.44499969,61.05099869,58.97600174,46.32799911,45.22700119,36.05899811,47.01699829,67.64199829,35.30199814,34.12099838,27.9279995,43.04899979,55.21300125,53.87400055,48.35900116,62.07600021,null,33.84000015,63.13600159,57.02299881,51.99300003],\"z\":[8.483493,8.00415,10.55961,9.296712,11.3936,9.170885,8.787752000000001,8.626876,10.02799,9.94243,9.834145,8.940700999999999,9.115874,9.774269,10.63524,10.96601,10.09329,7.527503,10.24098,null,7.957942999999999,11.56815,9.942136,9.564902],\"type\":\"scatter3d\"},{\"hovertemplate\":\"<b>%{hovertext}</b><br><br>Continent=Africa<br>Year=1990<br>GDP per capita=%{x}<br>% Econ. active=%{y}<br>Years women are in school=%{z}<extra></extra>\",\"hovertext\":[\"Algeria\",\"Angola\",\"Benin\",\"Burkina Faso\",\"Chad\",\"Comoros\",\"Congo\",\"Cote d'Ivoire\",\"Egypt\",\"Eritrea\",\"Ethiopia\",\"Gambia\",\"Ghana\",\"Guinea\",\"Kenya\",\"Liberia\",\"Libya\",\"Mauritania\",\"Morocco\",\"Niger\",\"Nigeria\",\"Rwanda\",\"Sudan\",\"Swaziland\",\"Tanzania\",\"Togo\",\"Tunisia\",\"Uganda\"],\"legendgroup\":\"Africa, 1990\",\"marker\":{\"color\":\"yellow\",\"symbol\":\"circle\"},\"mode\":\"markers\",\"name\":\"Africa, 1990\",\"scene\":\"scene\",\"showlegend\":true,\"x\":[10236.84066,3430.798427,1462.677421,844.3421676,1110.4379800000002,1599.95155,5140.4161460000005,3193.758531,5909.161575,null,651.9530906,1506.404687,1919.601511,1411.9489210000002,2380.495384,875.1895802000001,null,2806.73383,3912.005724,894.5407505000001,3041.509363,872.5285226,1743.4460390000002,5378.167768,1472.58375,1350.133276,5614.938383,769.4524841],\"y\":[11.49600029,75.15100098,57.34899902,76.21800232,64.89499664,31.55699921,65.76300049,48.52799988,21.3409996,75.22399902,66.49400329999999,44.97800064,72.41799927,63.0320015,70.32499695,52.80099869,20.00699997,29.95000076,24.08300018,68.13300323,47.57699966,86.77500153,23.44799995,37.64099884,82.10099792,80.84300232,22.50300026,62.46900177],\"z\":[3.588133,null,1.330599,null,null,null,4.8055010000000005,1.6184120000000002,3.469171,null,null,1.133028,4.6187,null,3.734478,1.614228,4.490730999999999,2.056543,2.174845,0.4768059,null,1.808815,1.630814,5.634875,3.5471220000000003,2.567736,3.593658,2.740765],\"type\":\"scatter3d\"}],\"name\":\"1990\"},{\"data\":[{\"hovertemplate\":\"<b>%{hovertext}</b><br><br>Continent=Europe<br>Year=1995<br>GDP per capita=%{x}<br>% Econ. active=%{y}<br>Years women are in school=%{z}<extra></extra>\",\"hovertext\":[\"Albania\",\"Austria\",\"Belgium\",\"Bulgaria\",\"Denmark\",\"Finland\",\"France\",\"Germany\",\"Greece\",\"Hungary\",\"Iceland\",\"Italy\",\"Luxembourg\",\"Malta\",\"Netherlands\",\"Norway\",\"Poland\",\"Portugal\",\"Romania\",\"San Marino\",\"Spain\",\"Sweden\",\"Switzerland\",\"United Kingdom\"],\"legendgroup\":\"Europe, 1995\",\"marker\":{\"color\":\"red\",\"symbol\":\"diamond\"},\"mode\":\"markers\",\"name\":\"Europe, 1995\",\"scene\":\"scene\",\"showlegend\":true,\"x\":[4278.689663,33791.80147,32613.40784,8446.248528,37237.72328,27596.41289,30918.067960000004,33653.12964,21247.0409,15319.2828,null,33152.040989999994,65357.504270000005,19822.29923,34762.86937,50051.87133,11300.27108,21850.74,10493.45747,null,25051.23368,31076.90485,46256.97059,28682.342160000004],\"y\":[53.5019989,48.80799866,40.47700119,50.87200165,57.95199966,54.75500107,47.72900009,47.85800171,36.93899918,40.61100006,71.28199768,33.57300186,35.28300095,28.27199936,47.30799866,57.24200058,51.15100098,49.25500107,61.82899857,null,36.68500137,59.08499908,55.80099869,51.80199814],\"z\":[8.972430000000001,8.706908,11.22274,9.944443,11.96544,10.2071,9.867418,9.59905,10.38584,11.05961,10.44296,9.847032,9.543327,10.99308,10.92608,11.52153,10.80575,8.618181,10.90898,null,9.251032,11.74699,9.58447,9.88399],\"type\":\"scatter3d\"},{\"hovertemplate\":\"<b>%{hovertext}</b><br><br>Continent=Africa<br>Year=1995<br>GDP per capita=%{x}<br>% Econ. active=%{y}<br>Years women are in school=%{z}<extra></extra>\",\"hovertext\":[\"Algeria\",\"Angola\",\"Benin\",\"Burkina Faso\",\"Chad\",\"Comoros\",\"Congo\",\"Cote d'Ivoire\",\"Egypt\",\"Eritrea\",\"Ethiopia\",\"Gambia\",\"Ghana\",\"Guinea\",\"Kenya\",\"Liberia\",\"Libya\",\"Mauritania\",\"Morocco\",\"Niger\",\"Nigeria\",\"Rwanda\",\"Sudan\",\"Swaziland\",\"Tanzania\",\"Togo\",\"Tunisia\",\"Uganda\"],\"legendgroup\":\"Africa, 1995\",\"marker\":{\"color\":\"yellow\",\"symbol\":\"diamond\"},\"mode\":\"markers\",\"name\":\"Africa, 1995\",\"scene\":\"scene\",\"showlegend\":true,\"x\":[9295.420114,2465.396619,1515.06774,893.2406808000001,1040.916137,1437.832802,4582.106819,2898.400745,6292.662391,1586.092241,574.8370982000001,1437.018694,2066.197615,1311.962151,2204.3898870000003,247.4365395,null,2861.843656,3915.217615,784.6071307999999,2750.071529,679.540322,1960.649671,5605.569907,1368.211617,1200.880848,6131.297603,916.2448658],\"y\":[11.8039999,74.66400146,59.91799927,72.90799713,64.63600159,31.71999931,65.63999939,48.4129982,21.00399971,74.44699859999999,67.54199982,45.51100159,72.55000305,62.7140007,70.10399628,51.70600128,21.9470005,30.01000023,24.4810009,67.93900299,47.31299973,86.09300232,27.60899925,37.52899933,81.86399841,80.53800201,22.89100075,63.20600128],\"z\":[4.566578,null,1.73409,null,null,null,5.431335,2.317236,4.36969,null,null,1.535555,5.303111,null,4.458177,1.813213,5.54574,2.297661,2.760362,0.6235033,null,2.4734130000000003,2.072459,5.344981,4.081976,2.984071,4.557305,3.246503],\"type\":\"scatter3d\"}],\"name\":\"1995\"},{\"data\":[{\"hovertemplate\":\"<b>%{hovertext}</b><br><br>Continent=Europe<br>Year=2000<br>GDP per capita=%{x}<br>% Econ. active=%{y}<br>Years women are in school=%{z}<extra></extra>\",\"hovertext\":[\"Albania\",\"Austria\",\"Belgium\",\"Bulgaria\",\"Denmark\",\"Finland\",\"France\",\"Germany\",\"Greece\",\"Hungary\",\"Iceland\",\"Italy\",\"Luxembourg\",\"Malta\",\"Netherlands\",\"Norway\",\"Poland\",\"Portugal\",\"Romania\",\"San Marino\",\"Spain\",\"Sweden\",\"Switzerland\",\"United Kingdom\"],\"legendgroup\":\"Europe, 2000\",\"marker\":{\"color\":\"red\",\"symbol\":\"square\"},\"mode\":\"markers\",\"name\":\"Europe, 2000\",\"scene\":\"scene\",\"showlegend\":true,\"x\":[5668.574777000001,38844.40471,37188.64369,8833.446566,42337.71437,34887.1788,34880.88182,36764.56293,24839.07591,17951.73552,34044.64902,36535.81877,81689.8164,24623.95372,41721.69405,58045.06727000001,14732.482,25999.49069,10470.96597,75678.5028,29967.13145,36854.868760000005,50775.97634,33266.11643],\"y\":[51.7179985,48.94400024,43.56999969,44.25600052,60.04999924,56.18899918,48.60499954,49.06499863,40.84899902,41.11199951,73.73699951,35.44599915,41.38199997,29.91399956,53.22000122,61.26399994,49.58100128,52.63100052,57.86899948,null,40.58200073,58.34600067,57.77299881,53.55400085],\"z\":[10.55099,9.378311,11.53041,10.22347,12.24365,10.73768,10.72463,10.14722,10.66628,11.68146,10.94124,10.46696,9.856388,11.25344,11.14206,11.77162,11.19825,9.722379,11.00754,null,10.26253,12.00516,9.410982,10.40127],\"type\":\"scatter3d\"},{\"hovertemplate\":\"<b>%{hovertext}</b><br><br>Continent=Africa<br>Year=2000<br>GDP per capita=%{x}<br>% Econ. active=%{y}<br>Years women are in school=%{z}<extra></extra>\",\"hovertext\":[\"Algeria\",\"Angola\",\"Benin\",\"Burkina Faso\",\"Chad\",\"Comoros\",\"Congo\",\"Cote d'Ivoire\",\"Egypt\",\"Eritrea\",\"Ethiopia\",\"Gambia\",\"Ghana\",\"Guinea\",\"Kenya\",\"Liberia\",\"Libya\",\"Mauritania\",\"Morocco\",\"Niger\",\"Nigeria\",\"Rwanda\",\"Sudan\",\"Swaziland\",\"Tanzania\",\"Togo\",\"Tunisia\",\"Uganda\"],\"legendgroup\":\"Africa, 2000\",\"marker\":{\"color\":\"yellow\",\"symbol\":\"square\"},\"mode\":\"markers\",\"name\":\"Africa, 2000\",\"scene\":\"scene\",\"showlegend\":true,\"x\":[10211.00186,2873.19301,1666.467464,1075.395337,993.1829822,1480.917674,4480.147677,2947.606573,7388.356411,1679.147143,618.2422187000001,1549.585721,2259.063142,1420.633253,2132.161897,838.6989396,21921.55202,2751.155549,4483.808406,753.4295254,2848.15052,792.9235783,2286.658691,5839.267051,1481.527903,1276.990341,7573.929212999999,1049.778625],\"y\":[11.89299965,74.73200226,63.92900085,68.02700043,64.48400116,32.35100174,66.04799652,48.40800095,19.90099907,74.09200287,72.72899628,46.71300125,72.72699738,62.70399857,68.49900055,52.96500015,24.4090004,30.1989994,25.25200081,67.76999664,47.22700119,85.47499847,26.59900093,38.11199951,81.70899963,80.35600281,23.44199944,64.02400208],\"z\":[5.309376,null,2.135805,null,null,null,5.870553,2.988317,5.413069999999999,null,null,1.949296,6.097065,null,5.082478,2.204974,7.065709,2.612433,3.260422,0.7723519,null,3.043703,2.5412,4.705796,4.553654,3.42,5.6366,3.73116],\"type\":\"scatter3d\"}],\"name\":\"2000\"},{\"data\":[{\"hovertemplate\":\"<b>%{hovertext}</b><br><br>Continent=Europe<br>Year=2005<br>GDP per capita=%{x}<br>% Econ. active=%{y}<br>Years women are in school=%{z}<extra></extra>\",\"hovertext\":[\"Albania\",\"Austria\",\"Belgium\",\"Bulgaria\",\"Denmark\",\"Finland\",\"France\",\"Germany\",\"Greece\",\"Hungary\",\"Iceland\",\"Italy\",\"Luxembourg\",\"Malta\",\"Netherlands\",\"Norway\",\"Poland\",\"Portugal\",\"Romania\",\"San Marino\",\"Spain\",\"Sweden\",\"Switzerland\",\"United Kingdom\"],\"legendgroup\":\"Europe, 2005\",\"marker\":{\"color\":\"red\",\"symbol\":\"x\"},\"mode\":\"markers\",\"name\":\"Europe, 2005\",\"scene\":\"scene\",\"showlegend\":true,\"x\":[7733.006933,41282.87999,39802.97227,12419.92875,44567.93131,39115.76479,36505.84873,37703.93294,29559.28139,22452.81593,39679.03924,37604.36062,88610.28987000001,26343.58536,43507.30043,62864.79647,17193.52373,26593.28555,14582.57431,83600.04794,32901.98773,41227.308710000005,52770.46893,37159.79896],\"y\":[48.05099869,50.66699982,45.48699951,44.74300003,60.49900055,56.62200165,50.11700058,50.70000076,42.7120018,42.91799927,70.87599945,37.86199951,45.36800003,29.62800026,56.64300156,60.7140007,47.7879982,55.2840004,46.31299973,null,46.09899902,59.58100128,59.45899963,54.71300125],\"z\":[10.69629,9.76521,11.51243,10.91005,12.16045,11.08979,11.28653,11.7662,11.58058,12.03843,11.62922,10.89173,10.57241,11.26292,11.21298,11.9036,11.86333,9.249411,11.05624,null,11.06696,12.01342,10.42786,12.01125],\"type\":\"scatter3d\"},{\"hovertemplate\":\"<b>%{hovertext}</b><br><br>Continent=Africa<br>Year=2005<br>GDP per capita=%{x}<br>% Econ. active=%{y}<br>Years women are in school=%{z}<extra></extra>\",\"hovertext\":[\"Algeria\",\"Angola\",\"Benin\",\"Burkina Faso\",\"Chad\",\"Comoros\",\"Congo\",\"Cote d'Ivoire\",\"Egypt\",\"Eritrea\",\"Ethiopia\",\"Gambia\",\"Ghana\",\"Guinea\",\"Kenya\",\"Liberia\",\"Libya\",\"Mauritania\",\"Morocco\",\"Niger\",\"Nigeria\",\"Rwanda\",\"Sudan\",\"Swaziland\",\"Tanzania\",\"Togo\",\"Tunisia\",\"Uganda\"],\"legendgroup\":\"Africa, 2005\",\"marker\":{\"color\":\"yellow\",\"symbol\":\"x\"},\"mode\":\"markers\",\"name\":\"Africa, 2005\",\"scene\":\"scene\",\"showlegend\":true,\"x\":[12322.48426,3987.814936,1735.97415,1266.361537,1793.406936,1471.559414,4742.935979999999,2682.448861,8001.516541,1628.869863,732.3804985,1533.249642,2539.329254,1504.031193,2224.0310010000003,597.8870314,26044.50141,2985.690698,5361.662834000001,763.2097772000001,4149.277997,1043.860774,2712.890404,6745.7178030000005,1820.07786,1180.416217,8802.943118000001,1222.703216],\"y\":[12.84300041,74.85399628,67.33200073,62.43500137,64.86799622,33.31800079,66.71399689,48.31499863,20.2329998,73.84400177,78.40499878,48.5320015,73.11699677,62.79499817,60.12900162,52.97000122,27.44400024,30.16399956,26.66900063,67.76999664,47.75299835,85.22599792,24.47500038,38.82400131,81.81900024,80.48300171,23.875,64.96399689],\"z\":[6.032556,null,2.6025240000000003,null,null,null,5.871382,3.442661,6.288136,null,null,2.597444,6.435355,null,5.899399,2.635418,8.396339,3.160787,3.922621,0.9673737,null,3.679489,2.931233,4.300684,5.138483,3.890025,6.770233999999999,4.365105000000001],\"type\":\"scatter3d\"}],\"name\":\"2005\"},{\"data\":[{\"hovertemplate\":\"<b>%{hovertext}</b><br><br>Continent=Europe<br>Year=2010<br>GDP per capita=%{x}<br>% Econ. active=%{y}<br>Years women are in school=%{z}<extra></extra>\",\"hovertext\":[\"Albania\",\"Austria\",\"Belgium\",\"Bulgaria\",\"Denmark\",\"Finland\",\"France\",\"Germany\",\"Greece\",\"Hungary\",\"Iceland\",\"Italy\",\"Luxembourg\",\"Malta\",\"Netherlands\",\"Norway\",\"Poland\",\"Portugal\",\"Romania\",\"San Marino\",\"Spain\",\"Sweden\",\"Switzerland\",\"United Kingdom\"],\"legendgroup\":\"Europe, 2010\",\"marker\":{\"color\":\"red\",\"symbol\":\"cross\"},\"mode\":\"markers\",\"name\":\"Europe, 2010\",\"scene\":\"scene\",\"showlegend\":true,\"x\":[9927.181841,43336.19785,41085.91894,15283.291480000002,43998.43667,39848.1345,36855.84468,40428.72103,28726.07928,22404.2392,38978.0056,36201.16157,91743.29389,28364.79932,45524.66214,62350.41071,21770.64444,27238.46067,17553.2833,73862.33744,32507.09397,42942.5625,55866.30507,36366.98318],\"y\":[45.69300079,53.50699997,47.49100113,47.69800186,59.79899979,56.02500153,50.92300034,52.7879982,44.75,43.77700043,70.63400269,37.78499985,48.82799911,34.08300018,58.24900055,61.79000092,48.27199936,55.81399918,46.33100128,null,51.54399872,58.89799881,59.91999817,55.45500183],\"z\":[10.66144,10.05477,11.65948,11.13841,11.93674,11.19973,11.79715,12.24965,11.94519,11.95175,12.39173,11.35855,11.32367,12.07201,11.86591,11.51435,12.08951,9.769664,11.16327,null,11.26946,12.08298,12.65844,12.77681],\"type\":\"scatter3d\"},{\"hovertemplate\":\"<b>%{hovertext}</b><br><br>Continent=Africa<br>Year=2010<br>GDP per capita=%{x}<br>% Econ. active=%{y}<br>Years women are in school=%{z}<extra></extra>\",\"hovertext\":[\"Algeria\",\"Angola\",\"Benin\",\"Burkina Faso\",\"Chad\",\"Comoros\",\"Congo\",\"Cote d'Ivoire\",\"Egypt\",\"Eritrea\",\"Ethiopia\",\"Gambia\",\"Ghana\",\"Guinea\",\"Kenya\",\"Liberia\",\"Libya\",\"Mauritania\",\"Morocco\",\"Niger\",\"Nigeria\",\"Rwanda\",\"Sudan\",\"Swaziland\",\"Tanzania\",\"Togo\",\"Tunisia\",\"Uganda\"],\"legendgroup\":\"Africa, 2010\",\"marker\":{\"color\":\"yellow\",\"symbol\":\"cross\"},\"mode\":\"markers\",\"name\":\"Africa, 2010\",\"scene\":\"scene\",\"showlegend\":true,\"x\":[12870.6027,5897.682841,1818.778461,1423.377706,1925.195118,1412.502687,5186.344788,2690.258002,9857.468282,1416.365802,1073.8262949999998,1644.242366,3059.3836260000003,1573.544958,2476.0107420000004,699.6537215,29630.22215,3316.97478,6443.253613,814.2409362000001,5150.158818,1365.17424,3366.096261,7296.511119,2090.583225,1208.28121,10436.3656,1515.866412],\"y\":[14.37899971,75.28299713,69.22399902,59.7179985,64.84799957,34.40100098,67.53700256,48.16600037,22.78000069,74.71900177,77.62599945,50.25899887,73.79399872,62.84199905,61.52999878,53.56200027,29.32699966,30.36300087,25.59700012,67.70700073,49.20100021,86.10800171,22.95700073,40.28699875,81.90599823,77.02300262,24.4640007,65.87599945],\"z\":[7.1039520000000005,null,3.266152,null,null,null,6.010641000000001,4.00035,7.258957,null,null,3.232567,6.885495,null,6.27312,3.166952,9.807397,3.932477,4.79899,1.292325,null,4.222264,3.333889,4.908533,5.70303,4.5030730000000005,7.972939999999999,5.288293],\"type\":\"scatter3d\"}],\"name\":\"2010\"}]);\n",
              "                        }).then(function(){\n",
              "                            \n",
              "var gd = document.getElementById('f4de73fa-c1ef-4877-ac81-98acc427019c');\n",
              "var x = new MutationObserver(function (mutations, observer) {{\n",
              "        var display = window.getComputedStyle(gd).display;\n",
              "        if (!display || display === 'none') {{\n",
              "            console.log([gd, 'removed!']);\n",
              "            Plotly.purge(gd);\n",
              "            observer.disconnect();\n",
              "        }}\n",
              "}});\n",
              "\n",
              "// Listen for the removal of the full notebook cells\n",
              "var notebookContainer = gd.closest('#notebook-container');\n",
              "if (notebookContainer) {{\n",
              "    x.observe(notebookContainer, {childList: true});\n",
              "}}\n",
              "\n",
              "// Listen for the clearing of the current output cell\n",
              "var outputEl = gd.closest('.output');\n",
              "if (outputEl) {{\n",
              "    x.observe(outputEl, {childList: true});\n",
              "}}\n",
              "\n",
              "                        })                };                            </script>        </div>\n",
              "</body>\n",
              "</html>"
            ]
          },
          "metadata": {}
        }
      ]
    },
    {
      "cell_type": "code",
      "source": [
        "import plotly.io as pio\n",
        "import numpy as np\n",
        "import plotly.graph_objects as go"
      ],
      "metadata": {
        "id": "QxMhSx1HyIkr"
      },
      "execution_count": 1,
      "outputs": []
    },
    {
      "cell_type": "code",
      "source": [
        "x_eye=-1.25\n",
        "y_eye=2\n",
        "z_eye=0.5"
      ],
      "metadata": {
        "id": "zD_1K1R4y2RD"
      },
      "execution_count": null,
      "outputs": []
    },
    {
      "cell_type": "code",
      "source": [
        "fig.update_layout(scene_camera_eye=dict(x=x_eye, y=y_eye, z=z_eye),\n",
        "                   updatemenus=[dict(type='buttons',\n",
        "                                     showactive=False,\n",
        "                                     y=1,\n",
        "                                     x=0.8,\n",
        "                                     xanchor='left',\n",
        "                                     yanchor='bottom',\n",
        "                                     pad=dict(t=45, r=10),\n",
        "                                     buttons=[dict(label='Play',\n",
        "                                                   method='animate',\n",
        "                                                   args=[None, dict(frame=dict(duration=300, redraw=True),\n",
        "                                                                    transition=dict(duration=0),\n",
        "                                                                    fromcurrent=True,\n",
        "                                                                    mode='immediate'\n",
        "                                                                    )]\n",
        "                                                   )\n",
        "                                              ]\n",
        "                                     )\n",
        "                                ]\n",
        "                   )\n",
        "\n",
        "\n",
        "def rotate_z(x, y, z, theta):\n",
        "     w = x + 1j * y\n",
        "     return np.real(np.exp(1j * theta) * w), np.imag(np.exp(1j * theta) * w), z\n",
        "\n",
        "\n",
        "frames = []\n",
        "\n",
        "for t in np.arange(0, 6.26, 0.1):\n",
        "     xe, ye, ze = rotate_z(x_eye, y_eye, z_eye, -t)\n",
        "     frames.append(go.Frame(layout=dict(scene_camera_eye=dict(x=xe, y=ye, z=ze))))\n",
        "fig.frames = frames\n",
        "\n",
        "fig.write_html(\"My3dPlot.html\")\n",
        "pio.show(fig)"
      ],
      "metadata": {
        "colab": {
          "base_uri": "https://localhost:8080/",
          "height": 717
        },
        "id": "p8fkU6hEovMv",
        "outputId": "b3d8db4f-da23-4477-be0d-c4473fd48fa1"
      },
      "execution_count": null,
      "outputs": [
        {
          "output_type": "display_data",
          "data": {
            "text/html": [
              "<html>\n",
              "<head><meta charset=\"utf-8\" /></head>\n",
              "<body>\n",
              "    <div>            <script src=\"https://cdnjs.cloudflare.com/ajax/libs/mathjax/2.7.5/MathJax.js?config=TeX-AMS-MML_SVG\"></script><script type=\"text/javascript\">if (window.MathJax) {MathJax.Hub.Config({SVG: {font: \"STIX-Web\"}});}</script>                <script type=\"text/javascript\">window.PlotlyConfig = {MathJaxConfig: 'local'};</script>\n",
              "        <script src=\"https://cdn.plot.ly/plotly-2.8.3.min.js\"></script>                <div id=\"d8e8801f-65ca-46dc-bb18-4526471449df\" class=\"plotly-graph-div\" style=\"height:700px; width:100%;\"></div>            <script type=\"text/javascript\">                                    window.PLOTLYENV=window.PLOTLYENV || {};                                    if (document.getElementById(\"d8e8801f-65ca-46dc-bb18-4526471449df\")) {                    Plotly.newPlot(                        \"d8e8801f-65ca-46dc-bb18-4526471449df\",                        [{\"hovertemplate\":\"<b>%{hovertext}</b><br><br>Continent=Europe<br>Year=2005<br>GDP per capita=%{x}<br>% Econ. active=%{y}<br>Years women are in school=%{z}<extra></extra>\",\"hovertext\":[\"Albania\",\"Austria\",\"Belgium\",\"Bulgaria\",\"Denmark\",\"Finland\",\"France\",\"Germany\",\"Greece\",\"Hungary\",\"Iceland\",\"Italy\",\"Luxembourg\",\"Malta\",\"Netherlands\",\"Norway\",\"Poland\",\"Portugal\",\"Romania\",\"San Marino\",\"Spain\",\"Sweden\",\"Switzerland\",\"United Kingdom\"],\"legendgroup\":\"Europe, 2005\",\"marker\":{\"color\":\"red\",\"symbol\":\"circle\"},\"mode\":\"markers\",\"name\":\"Europe, 2005\",\"scene\":\"scene\",\"showlegend\":true,\"x\":[7733.006933,41282.87999,39802.97227,12419.92875,44567.93131,39115.76479,36505.84873,37703.93294,29559.28139,22452.81593,39679.03924,37604.36062,88610.28987000001,26343.58536,43507.30043,62864.79647,17193.52373,26593.28555,14582.57431,83600.04794,32901.98773,41227.308710000005,52770.46893,37159.79896],\"y\":[48.05099869,50.66699982,45.48699951,44.74300003,60.49900055,56.62200165,50.11700058,50.70000076,42.7120018,42.91799927,70.87599945,37.86199951,45.36800003,29.62800026,56.64300156,60.7140007,47.7879982,55.2840004,46.31299973,null,46.09899902,59.58100128,59.45899963,54.71300125],\"z\":[10.69629,9.76521,11.51243,10.91005,12.16045,11.08979,11.28653,11.7662,11.58058,12.03843,11.62922,10.89173,10.57241,11.26292,11.21298,11.9036,11.86333,9.249411,11.05624,null,11.06696,12.01342,10.42786,12.01125],\"type\":\"scatter3d\"},{\"hovertemplate\":\"<b>%{hovertext}</b><br><br>Continent=Europe<br>Year=2010<br>GDP per capita=%{x}<br>% Econ. active=%{y}<br>Years women are in school=%{z}<extra></extra>\",\"hovertext\":[\"Albania\",\"Austria\",\"Belgium\",\"Bulgaria\",\"Denmark\",\"Finland\",\"France\",\"Germany\",\"Greece\",\"Hungary\",\"Iceland\",\"Italy\",\"Luxembourg\",\"Malta\",\"Netherlands\",\"Norway\",\"Poland\",\"Portugal\",\"Romania\",\"San Marino\",\"Spain\",\"Sweden\",\"Switzerland\",\"United Kingdom\"],\"legendgroup\":\"Europe, 2010\",\"marker\":{\"color\":\"red\",\"symbol\":\"diamond\"},\"mode\":\"markers\",\"name\":\"Europe, 2010\",\"scene\":\"scene\",\"showlegend\":true,\"x\":[9927.181841,43336.19785,41085.91894,15283.291480000002,43998.43667,39848.1345,36855.84468,40428.72103,28726.07928,22404.2392,38978.0056,36201.16157,91743.29389,28364.79932,45524.66214,62350.41071,21770.64444,27238.46067,17553.2833,73862.33744,32507.09397,42942.5625,55866.30507,36366.98318],\"y\":[45.69300079,53.50699997,47.49100113,47.69800186,59.79899979,56.02500153,50.92300034,52.7879982,44.75,43.77700043,70.63400269,37.78499985,48.82799911,34.08300018,58.24900055,61.79000092,48.27199936,55.81399918,46.33100128,null,51.54399872,58.89799881,59.91999817,55.45500183],\"z\":[10.66144,10.05477,11.65948,11.13841,11.93674,11.19973,11.79715,12.24965,11.94519,11.95175,12.39173,11.35855,11.32367,12.07201,11.86591,11.51435,12.08951,9.769664,11.16327,null,11.26946,12.08298,12.65844,12.77681],\"type\":\"scatter3d\"},{\"hovertemplate\":\"<b>%{hovertext}</b><br><br>Continent=Africa<br>Year=2005<br>GDP per capita=%{x}<br>% Econ. active=%{y}<br>Years women are in school=%{z}<extra></extra>\",\"hovertext\":[\"Algeria\",\"Angola\",\"Benin\",\"Burkina Faso\",\"Chad\",\"Comoros\",\"Congo\",\"Cote d'Ivoire\",\"Egypt\",\"Eritrea\",\"Ethiopia\",\"Gambia\",\"Ghana\",\"Guinea\",\"Kenya\",\"Liberia\",\"Libya\",\"Mauritania\",\"Morocco\",\"Niger\",\"Nigeria\",\"Rwanda\",\"Sudan\",\"Swaziland\",\"Tanzania\",\"Togo\",\"Tunisia\",\"Uganda\"],\"legendgroup\":\"Africa, 2005\",\"marker\":{\"color\":\"yellow\",\"symbol\":\"circle\"},\"mode\":\"markers\",\"name\":\"Africa, 2005\",\"scene\":\"scene\",\"showlegend\":true,\"x\":[12322.48426,3987.814936,1735.97415,1266.361537,1793.406936,1471.559414,4742.935979999999,2682.448861,8001.516541,1628.869863,732.3804985,1533.249642,2539.329254,1504.031193,2224.0310010000003,597.8870314,26044.50141,2985.690698,5361.662834000001,763.2097772000001,4149.277997,1043.860774,2712.890404,6745.7178030000005,1820.07786,1180.416217,8802.943118000001,1222.703216],\"y\":[12.84300041,74.85399628,67.33200073,62.43500137,64.86799622,33.31800079,66.71399689,48.31499863,20.2329998,73.84400177,78.40499878,48.5320015,73.11699677,62.79499817,60.12900162,52.97000122,27.44400024,30.16399956,26.66900063,67.76999664,47.75299835,85.22599792,24.47500038,38.82400131,81.81900024,80.48300171,23.875,64.96399689],\"z\":[6.032556,null,2.6025240000000003,null,null,null,5.871382,3.442661,6.288136,null,null,2.597444,6.435355,null,5.899399,2.635418,8.396339,3.160787,3.922621,0.9673737,null,3.679489,2.931233,4.300684,5.138483,3.890025,6.770233999999999,4.365105000000001],\"type\":\"scatter3d\"},{\"hovertemplate\":\"<b>%{hovertext}</b><br><br>Continent=Africa<br>Year=2010<br>GDP per capita=%{x}<br>% Econ. active=%{y}<br>Years women are in school=%{z}<extra></extra>\",\"hovertext\":[\"Algeria\",\"Angola\",\"Benin\",\"Burkina Faso\",\"Chad\",\"Comoros\",\"Congo\",\"Cote d'Ivoire\",\"Egypt\",\"Eritrea\",\"Ethiopia\",\"Gambia\",\"Ghana\",\"Guinea\",\"Kenya\",\"Liberia\",\"Libya\",\"Mauritania\",\"Morocco\",\"Niger\",\"Nigeria\",\"Rwanda\",\"Sudan\",\"Swaziland\",\"Tanzania\",\"Togo\",\"Tunisia\",\"Uganda\"],\"legendgroup\":\"Africa, 2010\",\"marker\":{\"color\":\"yellow\",\"symbol\":\"diamond\"},\"mode\":\"markers\",\"name\":\"Africa, 2010\",\"scene\":\"scene\",\"showlegend\":true,\"x\":[12870.6027,5897.682841,1818.778461,1423.377706,1925.195118,1412.502687,5186.344788,2690.258002,9857.468282,1416.365802,1073.8262949999998,1644.242366,3059.3836260000003,1573.544958,2476.0107420000004,699.6537215,29630.22215,3316.97478,6443.253613,814.2409362000001,5150.158818,1365.17424,3366.096261,7296.511119,2090.583225,1208.28121,10436.3656,1515.866412],\"y\":[14.37899971,75.28299713,69.22399902,59.7179985,64.84799957,34.40100098,67.53700256,48.16600037,22.78000069,74.71900177,77.62599945,50.25899887,73.79399872,62.84199905,61.52999878,53.56200027,29.32699966,30.36300087,25.59700012,67.70700073,49.20100021,86.10800171,22.95700073,40.28699875,81.90599823,77.02300262,24.4640007,65.87599945],\"z\":[7.1039520000000005,null,3.266152,null,null,null,6.010641000000001,4.00035,7.258957,null,null,3.232567,6.885495,null,6.27312,3.166952,9.807397,3.932477,4.79899,1.292325,null,4.222264,3.333889,4.908533,5.70303,4.5030730000000005,7.972939999999999,5.288293],\"type\":\"scatter3d\"}],                        {\"template\":{\"data\":{\"barpolar\":[{\"marker\":{\"line\":{\"color\":\"rgb(237,237,237)\",\"width\":0.5},\"pattern\":{\"fillmode\":\"overlay\",\"size\":10,\"solidity\":0.2}},\"type\":\"barpolar\"}],\"bar\":[{\"error_x\":{\"color\":\"rgb(51,51,51)\"},\"error_y\":{\"color\":\"rgb(51,51,51)\"},\"marker\":{\"line\":{\"color\":\"rgb(237,237,237)\",\"width\":0.5},\"pattern\":{\"fillmode\":\"overlay\",\"size\":10,\"solidity\":0.2}},\"type\":\"bar\"}],\"carpet\":[{\"aaxis\":{\"endlinecolor\":\"rgb(51,51,51)\",\"gridcolor\":\"white\",\"linecolor\":\"white\",\"minorgridcolor\":\"white\",\"startlinecolor\":\"rgb(51,51,51)\"},\"baxis\":{\"endlinecolor\":\"rgb(51,51,51)\",\"gridcolor\":\"white\",\"linecolor\":\"white\",\"minorgridcolor\":\"white\",\"startlinecolor\":\"rgb(51,51,51)\"},\"type\":\"carpet\"}],\"choropleth\":[{\"colorbar\":{\"outlinewidth\":0,\"tickcolor\":\"rgb(237,237,237)\",\"ticklen\":6,\"ticks\":\"inside\"},\"type\":\"choropleth\"}],\"contourcarpet\":[{\"colorbar\":{\"outlinewidth\":0,\"tickcolor\":\"rgb(237,237,237)\",\"ticklen\":6,\"ticks\":\"inside\"},\"type\":\"contourcarpet\"}],\"contour\":[{\"colorbar\":{\"outlinewidth\":0,\"tickcolor\":\"rgb(237,237,237)\",\"ticklen\":6,\"ticks\":\"inside\"},\"colorscale\":[[0,\"rgb(20,44,66)\"],[1,\"rgb(90,179,244)\"]],\"type\":\"contour\"}],\"heatmapgl\":[{\"colorbar\":{\"outlinewidth\":0,\"tickcolor\":\"rgb(237,237,237)\",\"ticklen\":6,\"ticks\":\"inside\"},\"colorscale\":[[0,\"rgb(20,44,66)\"],[1,\"rgb(90,179,244)\"]],\"type\":\"heatmapgl\"}],\"heatmap\":[{\"colorbar\":{\"outlinewidth\":0,\"tickcolor\":\"rgb(237,237,237)\",\"ticklen\":6,\"ticks\":\"inside\"},\"colorscale\":[[0,\"rgb(20,44,66)\"],[1,\"rgb(90,179,244)\"]],\"type\":\"heatmap\"}],\"histogram2dcontour\":[{\"colorbar\":{\"outlinewidth\":0,\"tickcolor\":\"rgb(237,237,237)\",\"ticklen\":6,\"ticks\":\"inside\"},\"colorscale\":[[0,\"rgb(20,44,66)\"],[1,\"rgb(90,179,244)\"]],\"type\":\"histogram2dcontour\"}],\"histogram2d\":[{\"colorbar\":{\"outlinewidth\":0,\"tickcolor\":\"rgb(237,237,237)\",\"ticklen\":6,\"ticks\":\"inside\"},\"colorscale\":[[0,\"rgb(20,44,66)\"],[1,\"rgb(90,179,244)\"]],\"type\":\"histogram2d\"}],\"histogram\":[{\"marker\":{\"pattern\":{\"fillmode\":\"overlay\",\"size\":10,\"solidity\":0.2}},\"type\":\"histogram\"}],\"mesh3d\":[{\"colorbar\":{\"outlinewidth\":0,\"tickcolor\":\"rgb(237,237,237)\",\"ticklen\":6,\"ticks\":\"inside\"},\"type\":\"mesh3d\"}],\"parcoords\":[{\"line\":{\"colorbar\":{\"outlinewidth\":0,\"tickcolor\":\"rgb(237,237,237)\",\"ticklen\":6,\"ticks\":\"inside\"}},\"type\":\"parcoords\"}],\"pie\":[{\"automargin\":true,\"type\":\"pie\"}],\"scatter3d\":[{\"line\":{\"colorbar\":{\"outlinewidth\":0,\"tickcolor\":\"rgb(237,237,237)\",\"ticklen\":6,\"ticks\":\"inside\"}},\"marker\":{\"colorbar\":{\"outlinewidth\":0,\"tickcolor\":\"rgb(237,237,237)\",\"ticklen\":6,\"ticks\":\"inside\"}},\"type\":\"scatter3d\"}],\"scattercarpet\":[{\"marker\":{\"colorbar\":{\"outlinewidth\":0,\"tickcolor\":\"rgb(237,237,237)\",\"ticklen\":6,\"ticks\":\"inside\"}},\"type\":\"scattercarpet\"}],\"scattergeo\":[{\"marker\":{\"colorbar\":{\"outlinewidth\":0,\"tickcolor\":\"rgb(237,237,237)\",\"ticklen\":6,\"ticks\":\"inside\"}},\"type\":\"scattergeo\"}],\"scattergl\":[{\"marker\":{\"colorbar\":{\"outlinewidth\":0,\"tickcolor\":\"rgb(237,237,237)\",\"ticklen\":6,\"ticks\":\"inside\"}},\"type\":\"scattergl\"}],\"scattermapbox\":[{\"marker\":{\"colorbar\":{\"outlinewidth\":0,\"tickcolor\":\"rgb(237,237,237)\",\"ticklen\":6,\"ticks\":\"inside\"}},\"type\":\"scattermapbox\"}],\"scatterpolargl\":[{\"marker\":{\"colorbar\":{\"outlinewidth\":0,\"tickcolor\":\"rgb(237,237,237)\",\"ticklen\":6,\"ticks\":\"inside\"}},\"type\":\"scatterpolargl\"}],\"scatterpolar\":[{\"marker\":{\"colorbar\":{\"outlinewidth\":0,\"tickcolor\":\"rgb(237,237,237)\",\"ticklen\":6,\"ticks\":\"inside\"}},\"type\":\"scatterpolar\"}],\"scatter\":[{\"marker\":{\"colorbar\":{\"outlinewidth\":0,\"tickcolor\":\"rgb(237,237,237)\",\"ticklen\":6,\"ticks\":\"inside\"}},\"type\":\"scatter\"}],\"scatterternary\":[{\"marker\":{\"colorbar\":{\"outlinewidth\":0,\"tickcolor\":\"rgb(237,237,237)\",\"ticklen\":6,\"ticks\":\"inside\"}},\"type\":\"scatterternary\"}],\"surface\":[{\"colorbar\":{\"outlinewidth\":0,\"tickcolor\":\"rgb(237,237,237)\",\"ticklen\":6,\"ticks\":\"inside\"},\"colorscale\":[[0,\"rgb(20,44,66)\"],[1,\"rgb(90,179,244)\"]],\"type\":\"surface\"}],\"table\":[{\"cells\":{\"fill\":{\"color\":\"rgb(237,237,237)\"},\"line\":{\"color\":\"white\"}},\"header\":{\"fill\":{\"color\":\"rgb(217,217,217)\"},\"line\":{\"color\":\"white\"}},\"type\":\"table\"}]},\"layout\":{\"annotationdefaults\":{\"arrowhead\":0,\"arrowwidth\":1},\"autotypenumbers\":\"strict\",\"coloraxis\":{\"colorbar\":{\"outlinewidth\":0,\"tickcolor\":\"rgb(237,237,237)\",\"ticklen\":6,\"ticks\":\"inside\"}},\"colorscale\":{\"sequential\":[[0,\"rgb(20,44,66)\"],[1,\"rgb(90,179,244)\"]],\"sequentialminus\":[[0,\"rgb(20,44,66)\"],[1,\"rgb(90,179,244)\"]]},\"colorway\":[\"#F8766D\",\"#A3A500\",\"#00BF7D\",\"#00B0F6\",\"#E76BF3\"],\"font\":{\"color\":\"rgb(51,51,51)\"},\"geo\":{\"bgcolor\":\"white\",\"lakecolor\":\"white\",\"landcolor\":\"rgb(237,237,237)\",\"showlakes\":true,\"showland\":true,\"subunitcolor\":\"white\"},\"hoverlabel\":{\"align\":\"left\"},\"hovermode\":\"closest\",\"paper_bgcolor\":\"white\",\"plot_bgcolor\":\"rgb(237,237,237)\",\"polar\":{\"angularaxis\":{\"gridcolor\":\"white\",\"linecolor\":\"white\",\"showgrid\":true,\"tickcolor\":\"rgb(51,51,51)\",\"ticks\":\"outside\"},\"bgcolor\":\"rgb(237,237,237)\",\"radialaxis\":{\"gridcolor\":\"white\",\"linecolor\":\"white\",\"showgrid\":true,\"tickcolor\":\"rgb(51,51,51)\",\"ticks\":\"outside\"}},\"scene\":{\"xaxis\":{\"backgroundcolor\":\"rgb(237,237,237)\",\"gridcolor\":\"white\",\"gridwidth\":2,\"linecolor\":\"white\",\"showbackground\":true,\"showgrid\":true,\"tickcolor\":\"rgb(51,51,51)\",\"ticks\":\"outside\",\"zerolinecolor\":\"white\"},\"yaxis\":{\"backgroundcolor\":\"rgb(237,237,237)\",\"gridcolor\":\"white\",\"gridwidth\":2,\"linecolor\":\"white\",\"showbackground\":true,\"showgrid\":true,\"tickcolor\":\"rgb(51,51,51)\",\"ticks\":\"outside\",\"zerolinecolor\":\"white\"},\"zaxis\":{\"backgroundcolor\":\"rgb(237,237,237)\",\"gridcolor\":\"white\",\"gridwidth\":2,\"linecolor\":\"white\",\"showbackground\":true,\"showgrid\":true,\"tickcolor\":\"rgb(51,51,51)\",\"ticks\":\"outside\",\"zerolinecolor\":\"white\"}},\"shapedefaults\":{\"fillcolor\":\"black\",\"line\":{\"width\":0},\"opacity\":0.3},\"ternary\":{\"aaxis\":{\"gridcolor\":\"white\",\"linecolor\":\"white\",\"showgrid\":true,\"tickcolor\":\"rgb(51,51,51)\",\"ticks\":\"outside\"},\"baxis\":{\"gridcolor\":\"white\",\"linecolor\":\"white\",\"showgrid\":true,\"tickcolor\":\"rgb(51,51,51)\",\"ticks\":\"outside\"},\"bgcolor\":\"rgb(237,237,237)\",\"caxis\":{\"gridcolor\":\"white\",\"linecolor\":\"white\",\"showgrid\":true,\"tickcolor\":\"rgb(51,51,51)\",\"ticks\":\"outside\"}},\"xaxis\":{\"automargin\":true,\"gridcolor\":\"white\",\"linecolor\":\"white\",\"showgrid\":true,\"tickcolor\":\"rgb(51,51,51)\",\"ticks\":\"outside\",\"title\":{\"standoff\":15},\"zerolinecolor\":\"white\"},\"yaxis\":{\"automargin\":true,\"gridcolor\":\"white\",\"linecolor\":\"white\",\"showgrid\":true,\"tickcolor\":\"rgb(51,51,51)\",\"ticks\":\"outside\",\"title\":{\"standoff\":15},\"zerolinecolor\":\"white\"}}},\"scene\":{\"domain\":{\"x\":[0.0,1.0],\"y\":[0.0,1.0]},\"xaxis\":{\"title\":{\"text\":\"GDP per capita\"},\"type\":\"log\"},\"yaxis\":{\"title\":{\"text\":\"% Econ. active\"}},\"zaxis\":{\"title\":{\"text\":\"Years women are in school\"}},\"camera\":{\"eye\":{\"x\":-1.25,\"y\":2,\"z\":0.5}}},\"legend\":{\"title\":{\"text\":\"Continent, Year\"},\"tracegroupgap\":0},\"title\":{\"text\":\"Female Labor Force Participation Analysis\"},\"height\":700,\"updatemenus\":[{\"buttons\":[{\"args\":[null,{\"frame\":{\"duration\":300,\"redraw\":true},\"transition\":{\"duration\":0},\"fromcurrent\":true,\"mode\":\"immediate\"}],\"label\":\"Play\",\"method\":\"animate\"}],\"pad\":{\"r\":10,\"t\":45},\"showactive\":false,\"type\":\"buttons\",\"x\":0.8,\"xanchor\":\"left\",\"y\":1,\"yanchor\":\"bottom\"}]},                        {\"responsive\": true}                    ).then(function(){\n",
              "                            Plotly.addFrames('d8e8801f-65ca-46dc-bb18-4526471449df', [{\"layout\":{\"scene\":{\"camera\":{\"eye\":{\"x\":-1.25,\"y\":2.0,\"z\":0.5}}}}},{\"layout\":{\"scene\":{\"camera\":{\"eye\":{\"x\":-1.0440883733038762,\"y\":2.1148001013645867,\"z\":0.5}}}}},{\"layout\":{\"scene\":{\"camera\":{\"eye\":{\"x\":-0.8277445607114295,\"y\":2.20846981917631,\"z\":0.5}}}}},{\"layout\":{\"scene\":{\"camera\":{\"eye\":{\"x\":-0.6031301980843282,\"y\":2.2800732365778864,\"z\":0.5}}}}},{\"layout\":{\"scene\":{\"camera\":{\"eye\":{\"x\":-0.37248955788630533,\"y\":2.3288949158915835,\"z\":0.5}}}}},{\"layout\":{\"scene\":{\"camera\":{\"eye\":{\"x\":-0.13812712515455994,\"y\":2.3544470470359995,\"z\":0.5}}}}},{\"layout\":{\"scene\":{\"camera\":{\"eye\":{\"x\":0.0976154281529733,\"y\":2.3564743215631507,\"z\":0.5}}}}},{\"layout\":{\"scene\":{\"camera\":{\"eye\":{\"x\":0.33238264036977183,\"y\":2.3349564836160908,\"z\":0.5}}}}},{\"layout\":{\"scene\":{\"camera\":{\"eye\":{\"x\":0.5638287951150889,\"y\":2.290108532318734,\"z\":0.5}}}}},{\"layout\":{\"scene\":{\"camera\":{\"eye\":{\"x\":0.7896413589166363,\"y\":2.222378573575683,\"z\":0.5}}}}},{\"layout\":{\"scene\":{\"camera\":{\"eye\":{\"x\":1.0075640872806182,\"y\":2.13244334274615,\"z\":0.5}}}}},{\"layout\":{\"scene\":{\"camera\":{\"eye\":{\"x\":1.215419568340899,\"y\":2.021201442927949,\"z\":0.5}}}}},{\"layout\":{\"scene\":{\"camera\":{\"eye\":{\"x\":1.411130978838611,\"y\":1.8897643664123798,\"z\":0.5}}}}},{\"layout\":{\"scene\":{\"camera\":{\"eye\":{\"x\":1.5927428350536517,\"y\":1.7394453890206658,\"z\":0.5}}}}},{\"layout\":{\"scene\":{\"camera\":{\"eye\":{\"x\":1.7584405313516194,\"y\":1.571746448286057,\"z\":0.5}}}}},{\"layout\":{\"scene\":{\"camera\":{\"eye\":{\"x\":1.9065684711234803,\"y\":1.388343136590474,\"z\":0.5}}}}},{\"layout\":{\"scene\":{\"camera\":{\"eye\":{\"x\":2.0356466089596212,\"y\":1.1910679591993036,\"z\":0.5}}}}},{\"layout\":{\"scene\":{\"camera\":{\"eye\":{\"x\":2.144385238774343,\"y\":0.981892024474536,\"z\":0.5}}}}},{\"layout\":{\"scene\":{\"camera\":{\"eye\":{\"x\":2.2316978801227494,\"y\":0.7629053492115697,\"z\":0.5}}}}},{\"layout\":{\"scene\":{\"camera\":{\"eye\":{\"x\":2.2967121339542085,\"y\":0.5362959758822609,\"z\":0.5}}}}},{\"layout\":{\"scene\":{\"camera\":{\"eye\":{\"x\":2.3387783993352915,\"y\":0.3043281104378174,\"z\":0.5}}}}},{\"layout\":{\"scene\":{\"camera\":{\"eye\":{\"x\":2.357476364047569,\"y\":0.06931949911137703,\"z\":0.5}}}}},{\"layout\":{\"scene\":{\"camera\":{\"eye\":{\"x\":2.3526192042083625,\"y\":-0.16638172973620402,\"z\":0.5}}}}},{\"layout\":{\"scene\":{\"camera\":{\"eye\":{\"x\":2.3242554509532205,\"y\":-0.4004205273387489,\"z\":0.5}}}}},{\"layout\":{\"scene\":{\"camera\":{\"eye\":{\"x\":2.2726685055288582,\"y\":-0.6304584553935533,\"z\":0.5}}}}},{\"layout\":{\"scene\":{\"camera\":{\"eye\":{\"x\":2.1983738076415804,\"y\":-0.8541970509639217,\"z\":0.5}}}}},{\"layout\":{\"scene\":{\"camera\":{\"eye\":{\"x\":2.1021136853541122,\"y\":-1.0694007919610644,\"z\":0.5}}}}},{\"layout\":{\"scene\":{\"camera\":{\"eye\":{\"x\":1.9848499379889861,\"y\":-1.2739194337418351,\"z\":0.5}}}}},{\"layout\":{\"scene\":{\"camera\":{\"eye\":{\"x\":1.8477542261476323,\"y\":-1.4657094936424357,\"z\":0.5}}}}},{\"layout\":{\"scene\":{\"camera\":{\"eye\":{\"x\":1.6921963648649523,\"y\":-1.6428546687817038,\"z\":0.5}}}}},{\"layout\":{\"scene\":{\"camera\":{\"eye\":{\"x\":1.5197306368702912,\"y\":-1.8035849831260569,\"z\":0.5}}}}},{\"layout\":{\"scene\":{\"camera\":{\"eye\":{\"x\":1.3320802627081803,\"y\":-1.9462944725049458,\"z\":0.5}}}}},{\"layout\":{\"scene\":{\"camera\":{\"eye\":{\"x\":1.1311201828882813,\"y\":-2.0695572308739814,\"z\":0.5}}}}},{\"layout\":{\"scene\":{\"camera\":{\"eye\":{\"x\":0.9188583240995838,\"y\":-2.1721416574967907,\"z\":0.5}}}}},{\"layout\":{\"scene\":{\"camera\":{\"eye\":{\"x\":0.6974155366706627,\"y\":-2.2530227626924613,\"z\":0.5}}}}},{\"layout\":{\"scene\":{\"camera\":{\"eye\":{\"x\":0.46900440373425567,\"y\":-2.3113924091936173,\"z\":0.5}}}}},{\"layout\":{\"scene\":{\"camera\":{\"eye\":{\"x\":0.2359071338279789,\"y\":-2.3466673867868595,\"z\":0.5}}}}},{\"layout\":{\"scene\":{\"camera\":{\"eye\":{\"x\":0.0004527578210231642,\"y\":-2.358495239556433,\"z\":0.5}}}}},{\"layout\":{\"scene\":{\"camera\":{\"eye\":{\"x\":-0.23500614199241787,\"y\":-2.346757787507232,\"z\":0.5}}}}},{\"layout\":{\"scene\":{\"camera\":{\"eye\":{\"x\":-0.46811693811777333,\"y\":-2.3115723073802474,\"z\":0.5}}}}},{\"layout\":{\"scene\":{\"camera\":{\"eye\":{\"x\":-0.6965504645363415,\"y\":-2.253290360862134,\"z\":0.5}}}}},{\"layout\":{\"scene\":{\"camera\":{\"eye\":{\"x\":-0.918024288962236,\"y\":-2.1724942818970505,\"z\":0.5}}}}},{\"layout\":{\"scene\":{\"camera\":{\"eye\":{\"x\":-1.1303255181513021,\"y\":-2.069991358198384,\"z\":0.5}}}}},{\"layout\":{\"scene\":{\"camera\":{\"eye\":{\"x\":-1.3313329083989405,\"y\":-1.9468057650967694,\"z\":0.5}}}}},{\"layout\":{\"scene\":{\"camera\":{\"eye\":{\"x\":-1.5190380603060079,\"y\":-1.8041683323187336,\"z\":0.5}}}}},{\"layout\":{\"scene\":{\"camera\":{\"eye\":{\"x\":-1.6915654860417195,\"y\":-1.6435042459429305,\"z\":0.5}}}}},{\"layout\":{\"scene\":{\"camera\":{\"eye\":{\"x\":-1.8471913485981115,\"y\":-1.4664188084119385,\"z\":0.5}}}}},{\"layout\":{\"scene\":{\"camera\":{\"eye\":{\"x\":-1.9843606857995884,\"y\":-1.2746813988809071,\"z\":0.5}}}}},{\"layout\":{\"scene\":{\"camera\":{\"eye\":{\"x\":-2.10170294697099,\"y\":-1.070207794165906,\"z\":0.5}}}}},{\"layout\":{\"scene\":{\"camera\":{\"eye\":{\"x\":-2.1980456870268847,\"y\":-0.855041026935264,\"z\":0.5}}}}},{\"layout\":{\"scene\":{\"camera\":{\"eye\":{\"x\":-2.2724262811553095,\"y\":-0.6313309724024706,\"z\":0.5}}}}},{\"layout\":{\"scene\":{\"camera\":{\"eye\":{\"x\":-2.3241015430466905,\"y\":-0.4013128674837031,\"z\":0.5}}}}},{\"layout\":{\"scene\":{\"camera\":{\"eye\":{\"x\":-2.352555150565778,\"y\":-0.16728497704943712,\"z\":0.5}}}}},{\"layout\":{\"scene\":{\"camera\":{\"eye\":{\"x\":-2.3575028046717534,\"y\":0.06841436957844715,\"z\":0.5}}}}},{\"layout\":{\"scene\":{\"camera\":{\"eye\":{\"x\":-2.3388950700402678,\"y\":0.30343014244028543,\"z\":0.5}}}}},{\"layout\":{\"scene\":{\"camera\":{\"eye\":{\"x\":-2.296917869004859,\"y\":0.53541414161953,\"z\":0.5}}}}},{\"layout\":{\"scene\":{\"camera\":{\"eye\":{\"x\":-2.2319906238824543,\"y\":0.7620484596800993,\"z\":0.5}}}}},{\"layout\":{\"scene\":{\"camera\":{\"eye\":{\"x\":-2.144762066244225,\"y\":0.9810686414312726,\"z\":0.5}}}}},{\"layout\":{\"scene\":{\"camera\":{\"eye\":{\"x\":-2.036103755004162,\"y\":1.190286309615443,\"z\":0.5}}}}},{\"layout\":{\"scene\":{\"camera\":{\"eye\":{\"x\":-1.9071013680905171,\"y\":1.3876110304502767,\"z\":0.5}}}}},{\"layout\":{\"scene\":{\"camera\":{\"eye\":{\"x\":-1.7590438547108092,\"y\":1.5710712005520746,\"z\":0.5}}}}},{\"layout\":{\"scene\":{\"camera\":{\"eye\":{\"x\":-1.5934105565974208,\"y\":1.7388337465450507,\"z\":0.5}}}}},{\"layout\":{\"scene\":{\"camera\":{\"eye\":{\"x\":-1.4118564269140148,\"y\":1.8892224405245646,\"z\":0.5}}}}}]);\n",
              "                        }).then(function(){\n",
              "                            \n",
              "var gd = document.getElementById('d8e8801f-65ca-46dc-bb18-4526471449df');\n",
              "var x = new MutationObserver(function (mutations, observer) {{\n",
              "        var display = window.getComputedStyle(gd).display;\n",
              "        if (!display || display === 'none') {{\n",
              "            console.log([gd, 'removed!']);\n",
              "            Plotly.purge(gd);\n",
              "            observer.disconnect();\n",
              "        }}\n",
              "}});\n",
              "\n",
              "// Listen for the removal of the full notebook cells\n",
              "var notebookContainer = gd.closest('#notebook-container');\n",
              "if (notebookContainer) {{\n",
              "    x.observe(notebookContainer, {childList: true});\n",
              "}}\n",
              "\n",
              "// Listen for the clearing of the current output cell\n",
              "var outputEl = gd.closest('.output');\n",
              "if (outputEl) {{\n",
              "    x.observe(outputEl, {childList: true});\n",
              "}}\n",
              "\n",
              "                        })                };                            </script>        </div>\n",
              "</body>\n",
              "</html>"
            ]
          },
          "metadata": {}
        }
      ]
    },
    {
      "cell_type": "code",
      "source": [
        "import os\n",
        "import cv2\n",
        "import tensorflow as tf\n",
        "import numpy as np\n",
        "from typing import List\n",
        "from matplotlib import pyplot as plt\n",
        "import imageio"
      ],
      "metadata": {
        "id": "sT5aLNrxxZAi"
      },
      "execution_count": 2,
      "outputs": []
    },
    {
      "cell_type": "code",
      "source": [
        "import gdown"
      ],
      "metadata": {
        "id": "qTRcaoA-k0_M"
      },
      "execution_count": 3,
      "outputs": []
    },
    {
      "cell_type": "code",
      "source": [
        "import plotly.graph_objects as go\n",
        "\n",
        "months = ['Jan', 'Feb', 'Mar', 'Apr', 'May', 'Jun',\n",
        "          'Jul', 'Aug', 'Sep', 'Oct', 'Nov', 'Dec']\n",
        "\n",
        "fig = go.Figure()\n",
        "fig.add_trace(go.Bar(\n",
        "    x=months,\n",
        "    y=[20, 14, 25, 16, 18, 22, 19, 15, 12, 16, 14, 17],\n",
        "    name='Primary Product',\n",
        "    marker_color='indianred'\n",
        "))\n",
        "fig.add_trace(go.Bar(\n",
        "    x=months,\n",
        "    y=[19, 14, 22, 14, 16, 19, 15, 14, 10, 12, 12, 16],\n",
        "    name='Secondary Product',\n",
        "    marker_color='lightsalmon'\n",
        "))\n",
        "\n",
        "# Here we modify the tickangle of the xaxis, resulting in rotated labels.\n",
        "fig.update_layout(barmode='group', xaxis_tickangle=-45)\n",
        "fig.show()"
      ],
      "metadata": {
        "colab": {
          "base_uri": "https://localhost:8080/",
          "height": 542
        },
        "id": "K3__U4hsk3Xa",
        "outputId": "773441c6-d85c-4d7f-9880-8e90c9fb06a3"
      },
      "execution_count": 5,
      "outputs": [
        {
          "output_type": "display_data",
          "data": {
            "text/html": [
              "<html>\n",
              "<head><meta charset=\"utf-8\" /></head>\n",
              "<body>\n",
              "    <div>            <script src=\"https://cdnjs.cloudflare.com/ajax/libs/mathjax/2.7.5/MathJax.js?config=TeX-AMS-MML_SVG\"></script><script type=\"text/javascript\">if (window.MathJax) {MathJax.Hub.Config({SVG: {font: \"STIX-Web\"}});}</script>                <script type=\"text/javascript\">window.PlotlyConfig = {MathJaxConfig: 'local'};</script>\n",
              "        <script src=\"https://cdn.plot.ly/plotly-2.8.3.min.js\"></script>                <div id=\"e943fc62-8468-4266-a3e4-ee6ede674600\" class=\"plotly-graph-div\" style=\"height:525px; width:100%;\"></div>            <script type=\"text/javascript\">                                    window.PLOTLYENV=window.PLOTLYENV || {};                                    if (document.getElementById(\"e943fc62-8468-4266-a3e4-ee6ede674600\")) {                    Plotly.newPlot(                        \"e943fc62-8468-4266-a3e4-ee6ede674600\",                        [{\"marker\":{\"color\":\"indianred\"},\"name\":\"Primary Product\",\"x\":[\"Jan\",\"Feb\",\"Mar\",\"Apr\",\"May\",\"Jun\",\"Jul\",\"Aug\",\"Sep\",\"Oct\",\"Nov\",\"Dec\"],\"y\":[20,14,25,16,18,22,19,15,12,16,14,17],\"type\":\"bar\"},{\"marker\":{\"color\":\"lightsalmon\"},\"name\":\"Secondary Product\",\"x\":[\"Jan\",\"Feb\",\"Mar\",\"Apr\",\"May\",\"Jun\",\"Jul\",\"Aug\",\"Sep\",\"Oct\",\"Nov\",\"Dec\"],\"y\":[19,14,22,14,16,19,15,14,10,12,12,16],\"type\":\"bar\"}],                        {\"template\":{\"data\":{\"bar\":[{\"error_x\":{\"color\":\"#2a3f5f\"},\"error_y\":{\"color\":\"#2a3f5f\"},\"marker\":{\"line\":{\"color\":\"#E5ECF6\",\"width\":0.5},\"pattern\":{\"fillmode\":\"overlay\",\"size\":10,\"solidity\":0.2}},\"type\":\"bar\"}],\"barpolar\":[{\"marker\":{\"line\":{\"color\":\"#E5ECF6\",\"width\":0.5},\"pattern\":{\"fillmode\":\"overlay\",\"size\":10,\"solidity\":0.2}},\"type\":\"barpolar\"}],\"carpet\":[{\"aaxis\":{\"endlinecolor\":\"#2a3f5f\",\"gridcolor\":\"white\",\"linecolor\":\"white\",\"minorgridcolor\":\"white\",\"startlinecolor\":\"#2a3f5f\"},\"baxis\":{\"endlinecolor\":\"#2a3f5f\",\"gridcolor\":\"white\",\"linecolor\":\"white\",\"minorgridcolor\":\"white\",\"startlinecolor\":\"#2a3f5f\"},\"type\":\"carpet\"}],\"choropleth\":[{\"colorbar\":{\"outlinewidth\":0,\"ticks\":\"\"},\"type\":\"choropleth\"}],\"contour\":[{\"colorbar\":{\"outlinewidth\":0,\"ticks\":\"\"},\"colorscale\":[[0.0,\"#0d0887\"],[0.1111111111111111,\"#46039f\"],[0.2222222222222222,\"#7201a8\"],[0.3333333333333333,\"#9c179e\"],[0.4444444444444444,\"#bd3786\"],[0.5555555555555556,\"#d8576b\"],[0.6666666666666666,\"#ed7953\"],[0.7777777777777778,\"#fb9f3a\"],[0.8888888888888888,\"#fdca26\"],[1.0,\"#f0f921\"]],\"type\":\"contour\"}],\"contourcarpet\":[{\"colorbar\":{\"outlinewidth\":0,\"ticks\":\"\"},\"type\":\"contourcarpet\"}],\"heatmap\":[{\"colorbar\":{\"outlinewidth\":0,\"ticks\":\"\"},\"colorscale\":[[0.0,\"#0d0887\"],[0.1111111111111111,\"#46039f\"],[0.2222222222222222,\"#7201a8\"],[0.3333333333333333,\"#9c179e\"],[0.4444444444444444,\"#bd3786\"],[0.5555555555555556,\"#d8576b\"],[0.6666666666666666,\"#ed7953\"],[0.7777777777777778,\"#fb9f3a\"],[0.8888888888888888,\"#fdca26\"],[1.0,\"#f0f921\"]],\"type\":\"heatmap\"}],\"heatmapgl\":[{\"colorbar\":{\"outlinewidth\":0,\"ticks\":\"\"},\"colorscale\":[[0.0,\"#0d0887\"],[0.1111111111111111,\"#46039f\"],[0.2222222222222222,\"#7201a8\"],[0.3333333333333333,\"#9c179e\"],[0.4444444444444444,\"#bd3786\"],[0.5555555555555556,\"#d8576b\"],[0.6666666666666666,\"#ed7953\"],[0.7777777777777778,\"#fb9f3a\"],[0.8888888888888888,\"#fdca26\"],[1.0,\"#f0f921\"]],\"type\":\"heatmapgl\"}],\"histogram\":[{\"marker\":{\"pattern\":{\"fillmode\":\"overlay\",\"size\":10,\"solidity\":0.2}},\"type\":\"histogram\"}],\"histogram2d\":[{\"colorbar\":{\"outlinewidth\":0,\"ticks\":\"\"},\"colorscale\":[[0.0,\"#0d0887\"],[0.1111111111111111,\"#46039f\"],[0.2222222222222222,\"#7201a8\"],[0.3333333333333333,\"#9c179e\"],[0.4444444444444444,\"#bd3786\"],[0.5555555555555556,\"#d8576b\"],[0.6666666666666666,\"#ed7953\"],[0.7777777777777778,\"#fb9f3a\"],[0.8888888888888888,\"#fdca26\"],[1.0,\"#f0f921\"]],\"type\":\"histogram2d\"}],\"histogram2dcontour\":[{\"colorbar\":{\"outlinewidth\":0,\"ticks\":\"\"},\"colorscale\":[[0.0,\"#0d0887\"],[0.1111111111111111,\"#46039f\"],[0.2222222222222222,\"#7201a8\"],[0.3333333333333333,\"#9c179e\"],[0.4444444444444444,\"#bd3786\"],[0.5555555555555556,\"#d8576b\"],[0.6666666666666666,\"#ed7953\"],[0.7777777777777778,\"#fb9f3a\"],[0.8888888888888888,\"#fdca26\"],[1.0,\"#f0f921\"]],\"type\":\"histogram2dcontour\"}],\"mesh3d\":[{\"colorbar\":{\"outlinewidth\":0,\"ticks\":\"\"},\"type\":\"mesh3d\"}],\"parcoords\":[{\"line\":{\"colorbar\":{\"outlinewidth\":0,\"ticks\":\"\"}},\"type\":\"parcoords\"}],\"pie\":[{\"automargin\":true,\"type\":\"pie\"}],\"scatter\":[{\"marker\":{\"colorbar\":{\"outlinewidth\":0,\"ticks\":\"\"}},\"type\":\"scatter\"}],\"scatter3d\":[{\"line\":{\"colorbar\":{\"outlinewidth\":0,\"ticks\":\"\"}},\"marker\":{\"colorbar\":{\"outlinewidth\":0,\"ticks\":\"\"}},\"type\":\"scatter3d\"}],\"scattercarpet\":[{\"marker\":{\"colorbar\":{\"outlinewidth\":0,\"ticks\":\"\"}},\"type\":\"scattercarpet\"}],\"scattergeo\":[{\"marker\":{\"colorbar\":{\"outlinewidth\":0,\"ticks\":\"\"}},\"type\":\"scattergeo\"}],\"scattergl\":[{\"marker\":{\"colorbar\":{\"outlinewidth\":0,\"ticks\":\"\"}},\"type\":\"scattergl\"}],\"scattermapbox\":[{\"marker\":{\"colorbar\":{\"outlinewidth\":0,\"ticks\":\"\"}},\"type\":\"scattermapbox\"}],\"scatterpolar\":[{\"marker\":{\"colorbar\":{\"outlinewidth\":0,\"ticks\":\"\"}},\"type\":\"scatterpolar\"}],\"scatterpolargl\":[{\"marker\":{\"colorbar\":{\"outlinewidth\":0,\"ticks\":\"\"}},\"type\":\"scatterpolargl\"}],\"scatterternary\":[{\"marker\":{\"colorbar\":{\"outlinewidth\":0,\"ticks\":\"\"}},\"type\":\"scatterternary\"}],\"surface\":[{\"colorbar\":{\"outlinewidth\":0,\"ticks\":\"\"},\"colorscale\":[[0.0,\"#0d0887\"],[0.1111111111111111,\"#46039f\"],[0.2222222222222222,\"#7201a8\"],[0.3333333333333333,\"#9c179e\"],[0.4444444444444444,\"#bd3786\"],[0.5555555555555556,\"#d8576b\"],[0.6666666666666666,\"#ed7953\"],[0.7777777777777778,\"#fb9f3a\"],[0.8888888888888888,\"#fdca26\"],[1.0,\"#f0f921\"]],\"type\":\"surface\"}],\"table\":[{\"cells\":{\"fill\":{\"color\":\"#EBF0F8\"},\"line\":{\"color\":\"white\"}},\"header\":{\"fill\":{\"color\":\"#C8D4E3\"},\"line\":{\"color\":\"white\"}},\"type\":\"table\"}]},\"layout\":{\"annotationdefaults\":{\"arrowcolor\":\"#2a3f5f\",\"arrowhead\":0,\"arrowwidth\":1},\"autotypenumbers\":\"strict\",\"coloraxis\":{\"colorbar\":{\"outlinewidth\":0,\"ticks\":\"\"}},\"colorscale\":{\"diverging\":[[0,\"#8e0152\"],[0.1,\"#c51b7d\"],[0.2,\"#de77ae\"],[0.3,\"#f1b6da\"],[0.4,\"#fde0ef\"],[0.5,\"#f7f7f7\"],[0.6,\"#e6f5d0\"],[0.7,\"#b8e186\"],[0.8,\"#7fbc41\"],[0.9,\"#4d9221\"],[1,\"#276419\"]],\"sequential\":[[0.0,\"#0d0887\"],[0.1111111111111111,\"#46039f\"],[0.2222222222222222,\"#7201a8\"],[0.3333333333333333,\"#9c179e\"],[0.4444444444444444,\"#bd3786\"],[0.5555555555555556,\"#d8576b\"],[0.6666666666666666,\"#ed7953\"],[0.7777777777777778,\"#fb9f3a\"],[0.8888888888888888,\"#fdca26\"],[1.0,\"#f0f921\"]],\"sequentialminus\":[[0.0,\"#0d0887\"],[0.1111111111111111,\"#46039f\"],[0.2222222222222222,\"#7201a8\"],[0.3333333333333333,\"#9c179e\"],[0.4444444444444444,\"#bd3786\"],[0.5555555555555556,\"#d8576b\"],[0.6666666666666666,\"#ed7953\"],[0.7777777777777778,\"#fb9f3a\"],[0.8888888888888888,\"#fdca26\"],[1.0,\"#f0f921\"]]},\"colorway\":[\"#636efa\",\"#EF553B\",\"#00cc96\",\"#ab63fa\",\"#FFA15A\",\"#19d3f3\",\"#FF6692\",\"#B6E880\",\"#FF97FF\",\"#FECB52\"],\"font\":{\"color\":\"#2a3f5f\"},\"geo\":{\"bgcolor\":\"white\",\"lakecolor\":\"white\",\"landcolor\":\"#E5ECF6\",\"showlakes\":true,\"showland\":true,\"subunitcolor\":\"white\"},\"hoverlabel\":{\"align\":\"left\"},\"hovermode\":\"closest\",\"mapbox\":{\"style\":\"light\"},\"paper_bgcolor\":\"white\",\"plot_bgcolor\":\"#E5ECF6\",\"polar\":{\"angularaxis\":{\"gridcolor\":\"white\",\"linecolor\":\"white\",\"ticks\":\"\"},\"bgcolor\":\"#E5ECF6\",\"radialaxis\":{\"gridcolor\":\"white\",\"linecolor\":\"white\",\"ticks\":\"\"}},\"scene\":{\"xaxis\":{\"backgroundcolor\":\"#E5ECF6\",\"gridcolor\":\"white\",\"gridwidth\":2,\"linecolor\":\"white\",\"showbackground\":true,\"ticks\":\"\",\"zerolinecolor\":\"white\"},\"yaxis\":{\"backgroundcolor\":\"#E5ECF6\",\"gridcolor\":\"white\",\"gridwidth\":2,\"linecolor\":\"white\",\"showbackground\":true,\"ticks\":\"\",\"zerolinecolor\":\"white\"},\"zaxis\":{\"backgroundcolor\":\"#E5ECF6\",\"gridcolor\":\"white\",\"gridwidth\":2,\"linecolor\":\"white\",\"showbackground\":true,\"ticks\":\"\",\"zerolinecolor\":\"white\"}},\"shapedefaults\":{\"line\":{\"color\":\"#2a3f5f\"}},\"ternary\":{\"aaxis\":{\"gridcolor\":\"white\",\"linecolor\":\"white\",\"ticks\":\"\"},\"baxis\":{\"gridcolor\":\"white\",\"linecolor\":\"white\",\"ticks\":\"\"},\"bgcolor\":\"#E5ECF6\",\"caxis\":{\"gridcolor\":\"white\",\"linecolor\":\"white\",\"ticks\":\"\"}},\"title\":{\"x\":0.05},\"xaxis\":{\"automargin\":true,\"gridcolor\":\"white\",\"linecolor\":\"white\",\"ticks\":\"\",\"title\":{\"standoff\":15},\"zerolinecolor\":\"white\",\"zerolinewidth\":2},\"yaxis\":{\"automargin\":true,\"gridcolor\":\"white\",\"linecolor\":\"white\",\"ticks\":\"\",\"title\":{\"standoff\":15},\"zerolinecolor\":\"white\",\"zerolinewidth\":2}}},\"xaxis\":{\"tickangle\":-45},\"barmode\":\"group\"},                        {\"responsive\": true}                    ).then(function(){\n",
              "                            \n",
              "var gd = document.getElementById('e943fc62-8468-4266-a3e4-ee6ede674600');\n",
              "var x = new MutationObserver(function (mutations, observer) {{\n",
              "        var display = window.getComputedStyle(gd).display;\n",
              "        if (!display || display === 'none') {{\n",
              "            console.log([gd, 'removed!']);\n",
              "            Plotly.purge(gd);\n",
              "            observer.disconnect();\n",
              "        }}\n",
              "}});\n",
              "\n",
              "// Listen for the removal of the full notebook cells\n",
              "var notebookContainer = gd.closest('#notebook-container');\n",
              "if (notebookContainer) {{\n",
              "    x.observe(notebookContainer, {childList: true});\n",
              "}}\n",
              "\n",
              "// Listen for the clearing of the current output cell\n",
              "var outputEl = gd.closest('.output');\n",
              "if (outputEl) {{\n",
              "    x.observe(outputEl, {childList: true});\n",
              "}}\n",
              "\n",
              "                        })                };                            </script>        </div>\n",
              "</body>\n",
              "</html>"
            ]
          },
          "metadata": {}
        }
      ]
    },
    {
      "cell_type": "code",
      "source": [
        "import plotly.graph_objects as go\n",
        "\n",
        "years = ['2016','2017','2018']\n",
        "\n",
        "fig = go.Figure()\n",
        "fig.add_trace(go.Bar(x=years, y=[500, 600, 700],\n",
        "                base=[-500,-600,-700],\n",
        "                marker_color='crimson',\n",
        "                name='expenses'))\n",
        "fig.add_trace(go.Bar(x=years, y=[300, 400, 700],\n",
        "                base=0,\n",
        "                marker_color='lightslategrey',\n",
        "                name='revenue'\n",
        "                ))\n",
        "\n",
        "fig.show()"
      ],
      "metadata": {
        "colab": {
          "base_uri": "https://localhost:8080/",
          "height": 542
        },
        "id": "i7QIDu8d330M",
        "outputId": "33f86a12-3d8d-4ef2-e068-3cf8f24e0a8e"
      },
      "execution_count": 6,
      "outputs": [
        {
          "output_type": "display_data",
          "data": {
            "text/html": [
              "<html>\n",
              "<head><meta charset=\"utf-8\" /></head>\n",
              "<body>\n",
              "    <div>            <script src=\"https://cdnjs.cloudflare.com/ajax/libs/mathjax/2.7.5/MathJax.js?config=TeX-AMS-MML_SVG\"></script><script type=\"text/javascript\">if (window.MathJax) {MathJax.Hub.Config({SVG: {font: \"STIX-Web\"}});}</script>                <script type=\"text/javascript\">window.PlotlyConfig = {MathJaxConfig: 'local'};</script>\n",
              "        <script src=\"https://cdn.plot.ly/plotly-2.8.3.min.js\"></script>                <div id=\"8f88ff79-933e-4f83-8fac-e379cfb6aef8\" class=\"plotly-graph-div\" style=\"height:525px; width:100%;\"></div>            <script type=\"text/javascript\">                                    window.PLOTLYENV=window.PLOTLYENV || {};                                    if (document.getElementById(\"8f88ff79-933e-4f83-8fac-e379cfb6aef8\")) {                    Plotly.newPlot(                        \"8f88ff79-933e-4f83-8fac-e379cfb6aef8\",                        [{\"base\":[-500,-600,-700],\"marker\":{\"color\":\"crimson\"},\"name\":\"expenses\",\"x\":[\"2016\",\"2017\",\"2018\"],\"y\":[500,600,700],\"type\":\"bar\"},{\"base\":0,\"marker\":{\"color\":\"lightslategrey\"},\"name\":\"revenue\",\"x\":[\"2016\",\"2017\",\"2018\"],\"y\":[300,400,700],\"type\":\"bar\"}],                        {\"template\":{\"data\":{\"bar\":[{\"error_x\":{\"color\":\"#2a3f5f\"},\"error_y\":{\"color\":\"#2a3f5f\"},\"marker\":{\"line\":{\"color\":\"#E5ECF6\",\"width\":0.5},\"pattern\":{\"fillmode\":\"overlay\",\"size\":10,\"solidity\":0.2}},\"type\":\"bar\"}],\"barpolar\":[{\"marker\":{\"line\":{\"color\":\"#E5ECF6\",\"width\":0.5},\"pattern\":{\"fillmode\":\"overlay\",\"size\":10,\"solidity\":0.2}},\"type\":\"barpolar\"}],\"carpet\":[{\"aaxis\":{\"endlinecolor\":\"#2a3f5f\",\"gridcolor\":\"white\",\"linecolor\":\"white\",\"minorgridcolor\":\"white\",\"startlinecolor\":\"#2a3f5f\"},\"baxis\":{\"endlinecolor\":\"#2a3f5f\",\"gridcolor\":\"white\",\"linecolor\":\"white\",\"minorgridcolor\":\"white\",\"startlinecolor\":\"#2a3f5f\"},\"type\":\"carpet\"}],\"choropleth\":[{\"colorbar\":{\"outlinewidth\":0,\"ticks\":\"\"},\"type\":\"choropleth\"}],\"contour\":[{\"colorbar\":{\"outlinewidth\":0,\"ticks\":\"\"},\"colorscale\":[[0.0,\"#0d0887\"],[0.1111111111111111,\"#46039f\"],[0.2222222222222222,\"#7201a8\"],[0.3333333333333333,\"#9c179e\"],[0.4444444444444444,\"#bd3786\"],[0.5555555555555556,\"#d8576b\"],[0.6666666666666666,\"#ed7953\"],[0.7777777777777778,\"#fb9f3a\"],[0.8888888888888888,\"#fdca26\"],[1.0,\"#f0f921\"]],\"type\":\"contour\"}],\"contourcarpet\":[{\"colorbar\":{\"outlinewidth\":0,\"ticks\":\"\"},\"type\":\"contourcarpet\"}],\"heatmap\":[{\"colorbar\":{\"outlinewidth\":0,\"ticks\":\"\"},\"colorscale\":[[0.0,\"#0d0887\"],[0.1111111111111111,\"#46039f\"],[0.2222222222222222,\"#7201a8\"],[0.3333333333333333,\"#9c179e\"],[0.4444444444444444,\"#bd3786\"],[0.5555555555555556,\"#d8576b\"],[0.6666666666666666,\"#ed7953\"],[0.7777777777777778,\"#fb9f3a\"],[0.8888888888888888,\"#fdca26\"],[1.0,\"#f0f921\"]],\"type\":\"heatmap\"}],\"heatmapgl\":[{\"colorbar\":{\"outlinewidth\":0,\"ticks\":\"\"},\"colorscale\":[[0.0,\"#0d0887\"],[0.1111111111111111,\"#46039f\"],[0.2222222222222222,\"#7201a8\"],[0.3333333333333333,\"#9c179e\"],[0.4444444444444444,\"#bd3786\"],[0.5555555555555556,\"#d8576b\"],[0.6666666666666666,\"#ed7953\"],[0.7777777777777778,\"#fb9f3a\"],[0.8888888888888888,\"#fdca26\"],[1.0,\"#f0f921\"]],\"type\":\"heatmapgl\"}],\"histogram\":[{\"marker\":{\"pattern\":{\"fillmode\":\"overlay\",\"size\":10,\"solidity\":0.2}},\"type\":\"histogram\"}],\"histogram2d\":[{\"colorbar\":{\"outlinewidth\":0,\"ticks\":\"\"},\"colorscale\":[[0.0,\"#0d0887\"],[0.1111111111111111,\"#46039f\"],[0.2222222222222222,\"#7201a8\"],[0.3333333333333333,\"#9c179e\"],[0.4444444444444444,\"#bd3786\"],[0.5555555555555556,\"#d8576b\"],[0.6666666666666666,\"#ed7953\"],[0.7777777777777778,\"#fb9f3a\"],[0.8888888888888888,\"#fdca26\"],[1.0,\"#f0f921\"]],\"type\":\"histogram2d\"}],\"histogram2dcontour\":[{\"colorbar\":{\"outlinewidth\":0,\"ticks\":\"\"},\"colorscale\":[[0.0,\"#0d0887\"],[0.1111111111111111,\"#46039f\"],[0.2222222222222222,\"#7201a8\"],[0.3333333333333333,\"#9c179e\"],[0.4444444444444444,\"#bd3786\"],[0.5555555555555556,\"#d8576b\"],[0.6666666666666666,\"#ed7953\"],[0.7777777777777778,\"#fb9f3a\"],[0.8888888888888888,\"#fdca26\"],[1.0,\"#f0f921\"]],\"type\":\"histogram2dcontour\"}],\"mesh3d\":[{\"colorbar\":{\"outlinewidth\":0,\"ticks\":\"\"},\"type\":\"mesh3d\"}],\"parcoords\":[{\"line\":{\"colorbar\":{\"outlinewidth\":0,\"ticks\":\"\"}},\"type\":\"parcoords\"}],\"pie\":[{\"automargin\":true,\"type\":\"pie\"}],\"scatter\":[{\"marker\":{\"colorbar\":{\"outlinewidth\":0,\"ticks\":\"\"}},\"type\":\"scatter\"}],\"scatter3d\":[{\"line\":{\"colorbar\":{\"outlinewidth\":0,\"ticks\":\"\"}},\"marker\":{\"colorbar\":{\"outlinewidth\":0,\"ticks\":\"\"}},\"type\":\"scatter3d\"}],\"scattercarpet\":[{\"marker\":{\"colorbar\":{\"outlinewidth\":0,\"ticks\":\"\"}},\"type\":\"scattercarpet\"}],\"scattergeo\":[{\"marker\":{\"colorbar\":{\"outlinewidth\":0,\"ticks\":\"\"}},\"type\":\"scattergeo\"}],\"scattergl\":[{\"marker\":{\"colorbar\":{\"outlinewidth\":0,\"ticks\":\"\"}},\"type\":\"scattergl\"}],\"scattermapbox\":[{\"marker\":{\"colorbar\":{\"outlinewidth\":0,\"ticks\":\"\"}},\"type\":\"scattermapbox\"}],\"scatterpolar\":[{\"marker\":{\"colorbar\":{\"outlinewidth\":0,\"ticks\":\"\"}},\"type\":\"scatterpolar\"}],\"scatterpolargl\":[{\"marker\":{\"colorbar\":{\"outlinewidth\":0,\"ticks\":\"\"}},\"type\":\"scatterpolargl\"}],\"scatterternary\":[{\"marker\":{\"colorbar\":{\"outlinewidth\":0,\"ticks\":\"\"}},\"type\":\"scatterternary\"}],\"surface\":[{\"colorbar\":{\"outlinewidth\":0,\"ticks\":\"\"},\"colorscale\":[[0.0,\"#0d0887\"],[0.1111111111111111,\"#46039f\"],[0.2222222222222222,\"#7201a8\"],[0.3333333333333333,\"#9c179e\"],[0.4444444444444444,\"#bd3786\"],[0.5555555555555556,\"#d8576b\"],[0.6666666666666666,\"#ed7953\"],[0.7777777777777778,\"#fb9f3a\"],[0.8888888888888888,\"#fdca26\"],[1.0,\"#f0f921\"]],\"type\":\"surface\"}],\"table\":[{\"cells\":{\"fill\":{\"color\":\"#EBF0F8\"},\"line\":{\"color\":\"white\"}},\"header\":{\"fill\":{\"color\":\"#C8D4E3\"},\"line\":{\"color\":\"white\"}},\"type\":\"table\"}]},\"layout\":{\"annotationdefaults\":{\"arrowcolor\":\"#2a3f5f\",\"arrowhead\":0,\"arrowwidth\":1},\"autotypenumbers\":\"strict\",\"coloraxis\":{\"colorbar\":{\"outlinewidth\":0,\"ticks\":\"\"}},\"colorscale\":{\"diverging\":[[0,\"#8e0152\"],[0.1,\"#c51b7d\"],[0.2,\"#de77ae\"],[0.3,\"#f1b6da\"],[0.4,\"#fde0ef\"],[0.5,\"#f7f7f7\"],[0.6,\"#e6f5d0\"],[0.7,\"#b8e186\"],[0.8,\"#7fbc41\"],[0.9,\"#4d9221\"],[1,\"#276419\"]],\"sequential\":[[0.0,\"#0d0887\"],[0.1111111111111111,\"#46039f\"],[0.2222222222222222,\"#7201a8\"],[0.3333333333333333,\"#9c179e\"],[0.4444444444444444,\"#bd3786\"],[0.5555555555555556,\"#d8576b\"],[0.6666666666666666,\"#ed7953\"],[0.7777777777777778,\"#fb9f3a\"],[0.8888888888888888,\"#fdca26\"],[1.0,\"#f0f921\"]],\"sequentialminus\":[[0.0,\"#0d0887\"],[0.1111111111111111,\"#46039f\"],[0.2222222222222222,\"#7201a8\"],[0.3333333333333333,\"#9c179e\"],[0.4444444444444444,\"#bd3786\"],[0.5555555555555556,\"#d8576b\"],[0.6666666666666666,\"#ed7953\"],[0.7777777777777778,\"#fb9f3a\"],[0.8888888888888888,\"#fdca26\"],[1.0,\"#f0f921\"]]},\"colorway\":[\"#636efa\",\"#EF553B\",\"#00cc96\",\"#ab63fa\",\"#FFA15A\",\"#19d3f3\",\"#FF6692\",\"#B6E880\",\"#FF97FF\",\"#FECB52\"],\"font\":{\"color\":\"#2a3f5f\"},\"geo\":{\"bgcolor\":\"white\",\"lakecolor\":\"white\",\"landcolor\":\"#E5ECF6\",\"showlakes\":true,\"showland\":true,\"subunitcolor\":\"white\"},\"hoverlabel\":{\"align\":\"left\"},\"hovermode\":\"closest\",\"mapbox\":{\"style\":\"light\"},\"paper_bgcolor\":\"white\",\"plot_bgcolor\":\"#E5ECF6\",\"polar\":{\"angularaxis\":{\"gridcolor\":\"white\",\"linecolor\":\"white\",\"ticks\":\"\"},\"bgcolor\":\"#E5ECF6\",\"radialaxis\":{\"gridcolor\":\"white\",\"linecolor\":\"white\",\"ticks\":\"\"}},\"scene\":{\"xaxis\":{\"backgroundcolor\":\"#E5ECF6\",\"gridcolor\":\"white\",\"gridwidth\":2,\"linecolor\":\"white\",\"showbackground\":true,\"ticks\":\"\",\"zerolinecolor\":\"white\"},\"yaxis\":{\"backgroundcolor\":\"#E5ECF6\",\"gridcolor\":\"white\",\"gridwidth\":2,\"linecolor\":\"white\",\"showbackground\":true,\"ticks\":\"\",\"zerolinecolor\":\"white\"},\"zaxis\":{\"backgroundcolor\":\"#E5ECF6\",\"gridcolor\":\"white\",\"gridwidth\":2,\"linecolor\":\"white\",\"showbackground\":true,\"ticks\":\"\",\"zerolinecolor\":\"white\"}},\"shapedefaults\":{\"line\":{\"color\":\"#2a3f5f\"}},\"ternary\":{\"aaxis\":{\"gridcolor\":\"white\",\"linecolor\":\"white\",\"ticks\":\"\"},\"baxis\":{\"gridcolor\":\"white\",\"linecolor\":\"white\",\"ticks\":\"\"},\"bgcolor\":\"#E5ECF6\",\"caxis\":{\"gridcolor\":\"white\",\"linecolor\":\"white\",\"ticks\":\"\"}},\"title\":{\"x\":0.05},\"xaxis\":{\"automargin\":true,\"gridcolor\":\"white\",\"linecolor\":\"white\",\"ticks\":\"\",\"title\":{\"standoff\":15},\"zerolinecolor\":\"white\",\"zerolinewidth\":2},\"yaxis\":{\"automargin\":true,\"gridcolor\":\"white\",\"linecolor\":\"white\",\"ticks\":\"\",\"title\":{\"standoff\":15},\"zerolinecolor\":\"white\",\"zerolinewidth\":2}}}},                        {\"responsive\": true}                    ).then(function(){\n",
              "                            \n",
              "var gd = document.getElementById('8f88ff79-933e-4f83-8fac-e379cfb6aef8');\n",
              "var x = new MutationObserver(function (mutations, observer) {{\n",
              "        var display = window.getComputedStyle(gd).display;\n",
              "        if (!display || display === 'none') {{\n",
              "            console.log([gd, 'removed!']);\n",
              "            Plotly.purge(gd);\n",
              "            observer.disconnect();\n",
              "        }}\n",
              "}});\n",
              "\n",
              "// Listen for the removal of the full notebook cells\n",
              "var notebookContainer = gd.closest('#notebook-container');\n",
              "if (notebookContainer) {{\n",
              "    x.observe(notebookContainer, {childList: true});\n",
              "}}\n",
              "\n",
              "// Listen for the clearing of the current output cell\n",
              "var outputEl = gd.closest('.output');\n",
              "if (outputEl) {{\n",
              "    x.observe(outputEl, {childList: true});\n",
              "}}\n",
              "\n",
              "                        })                };                            </script>        </div>\n",
              "</body>\n",
              "</html>"
            ]
          },
          "metadata": {}
        }
      ]
    }
  ]
}