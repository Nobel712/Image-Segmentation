{
  "nbformat": 4,
  "nbformat_minor": 0,
  "metadata": {
    "colab": {
      "provenance": [],
      "authorship_tag": "ABX9TyNYOmJKYDj5IkaRMGGVIHsT",
      "include_colab_link": true
    },
    "kernelspec": {
      "name": "python3",
      "display_name": "Python 3"
    },
    "language_info": {
      "name": "python"
    }
  },
  "cells": [
    {
      "cell_type": "markdown",
      "metadata": {
        "id": "view-in-github",
        "colab_type": "text"
      },
      "source": [
        "<a href=\"https://colab.research.google.com/github/Nobel712/Image-Segmentation/blob/main/Unet%2BECA%2BDenseNet121.ipynb\" target=\"_parent\"><img src=\"https://colab.research.google.com/assets/colab-badge.svg\" alt=\"Open In Colab\"/></a>"
      ]
    },
    {
      "cell_type": "code",
      "execution_count": null,
      "metadata": {
        "id": "yqNMbLkZA0wu"
      },
      "outputs": [],
      "source": [
        "from tensorflow.keras.models import Model\n",
        "from tensorflow.keras.layers import Input, Conv2D, MaxPooling2D, concatenate, UpSampling2D, BatchNormalization, Activation\n",
        "from tensorflow.keras.applications import DenseNet121\n",
        "from tensorflow.keras import backend as K\n",
        "\n",
        "def ECANet(input_tensor):\n",
        "    x = Conv2D(1, (1, 1), activation='sigmoid', padding='same')(input_tensor)\n",
        "    x = BatchNormalization()(x)\n",
        "    x = Activation('sigmoid')(x)\n",
        "    return x\n",
        "\n",
        "def eca_densenet(input_shape=(256, 256, 3), num_classes=1):\n",
        "    input_tensor = Input(input_shape)\n",
        "\n",
        "    # DenseNet121 encoder\n",
        "    densenet = DenseNet121(include_top=False, input_tensor=input_tensor)\n",
        "    encoder_output = densenet.get_layer('relu').output\n",
        "\n",
        "    # ECANet module\n",
        "    eca_output = ECANet(encoder_output)\n",
        "\n",
        "    # U-Net decoder\n",
        "    up = UpSampling2D(size=(32, 32))(eca_output)  # Modify the upsampling size\n",
        "    up = Conv2D(128, (3, 3), padding='same')(up)  # Reduce the number of filters\n",
        "    up = BatchNormalization()(up)\n",
        "    up = Activation('relu')(up)\n",
        "    up = Conv2D(128, (3, 3), padding='same')(up)  # Reduce the number of filters\n",
        "    up = BatchNormalization()(up)\n",
        "    up = Activation('relu')(up)\n",
        "\n",
        "    # Final prediction\n",
        "    output = Conv2D(num_classes, (1, 1), activation='sigmoid')(up)\n",
        "\n",
        "    model = Model(inputs=input_tensor, outputs=output)\n",
        "    return model\n",
        "\n",
        "# Create the model\n",
        "model = eca_densenet()\n",
        "model.summary()"
      ]
    }
  ]
}