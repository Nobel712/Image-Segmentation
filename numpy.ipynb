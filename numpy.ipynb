{
  "nbformat": 4,
  "nbformat_minor": 0,
  "metadata": {
    "colab": {
      "provenance": [],
      "authorship_tag": "ABX9TyMCi9ACkd/AgNXqe3jjDEJg",
      "include_colab_link": true
    },
    "kernelspec": {
      "name": "python3",
      "display_name": "Python 3"
    },
    "language_info": {
      "name": "python"
    }
  },
  "cells": [
    {
      "cell_type": "markdown",
      "metadata": {
        "id": "view-in-github",
        "colab_type": "text"
      },
      "source": [
        "<a href=\"https://colab.research.google.com/github/Nobel712/Visualisation-library/blob/main/numpy.ipynb\" target=\"_parent\"><img src=\"https://colab.research.google.com/assets/colab-badge.svg\" alt=\"Open In Colab\"/></a>"
      ]
    },
    {
      "cell_type": "markdown",
      "source": [
        "arrange"
      ],
      "metadata": {
        "id": "cytjmiNBMvS8"
      }
    },
    {
      "cell_type": "code",
      "source": [
        "import numpy as np\n",
        "ar=np.arange(1,23)\n",
        "ar"
      ],
      "metadata": {
        "id": "5O2b2RNt1rc-",
        "colab": {
          "base_uri": "https://localhost:8080/"
        },
        "outputId": "ab04147f-403d-4134-bdcc-f0fab4e011c4"
      },
      "execution_count": null,
      "outputs": [
        {
          "output_type": "execute_result",
          "data": {
            "text/plain": [
              "array([ 1,  2,  3,  4,  5,  6,  7,  8,  9, 10, 11, 12, 13, 14, 15, 16, 17,\n",
              "       18, 19, 20, 21, 22])"
            ]
          },
          "metadata": {},
          "execution_count": 2
        }
      ]
    },
    {
      "cell_type": "code",
      "source": [
        "ar=np.arange(1,13,2)\n",
        "ar"
      ],
      "metadata": {
        "colab": {
          "base_uri": "https://localhost:8080/"
        },
        "id": "eic8ETeV18De",
        "outputId": "fe705186-e2a3-48d6-d3c8-8f046e7f90fd"
      },
      "execution_count": null,
      "outputs": [
        {
          "output_type": "execute_result",
          "data": {
            "text/plain": [
              "array([ 1,  3,  5,  7,  9, 11])"
            ]
          },
          "metadata": {},
          "execution_count": 2
        }
      ]
    },
    {
      "cell_type": "markdown",
      "source": [
        "linsapace"
      ],
      "metadata": {
        "id": "yH6x4m55NiTs"
      }
    },
    {
      "cell_type": "code",
      "source": [
        "np.linspace(1,5,4)"
      ],
      "metadata": {
        "colab": {
          "base_uri": "https://localhost:8080/"
        },
        "id": "jiD5lhHyNI-p",
        "outputId": "4aeb7db9-da9c-4660-b270-6026e867a671"
      },
      "execution_count": null,
      "outputs": [
        {
          "output_type": "execute_result",
          "data": {
            "text/plain": [
              "array([1.        , 2.33333333, 3.66666667, 5.        ])"
            ]
          },
          "metadata": {},
          "execution_count": 3
        }
      ]
    },
    {
      "cell_type": "code",
      "source": [
        "ar=np.array([[11,23,45,67],\n",
        "            [34,67,54,67],\n",
        "            [34,54,34,53]])\n",
        "ar"
      ],
      "metadata": {
        "colab": {
          "base_uri": "https://localhost:8080/"
        },
        "id": "-CjLfM9pNv-R",
        "outputId": "f4f09f26-956c-4e14-c56d-a41d2f9a78ba"
      },
      "execution_count": null,
      "outputs": [
        {
          "output_type": "execute_result",
          "data": {
            "text/plain": [
              "array([[11, 23, 45, 67],\n",
              "       [34, 67, 54, 67],\n",
              "       [34, 54, 34, 53]])"
            ]
          },
          "metadata": {},
          "execution_count": 4
        }
      ]
    },
    {
      "cell_type": "code",
      "source": [
        "ar.reshape(4,3)"
      ],
      "metadata": {
        "colab": {
          "base_uri": "https://localhost:8080/"
        },
        "id": "xJw9HWnZNv7Y",
        "outputId": "587771e9-ebd8-4c69-b3d0-e6c894d7a007"
      },
      "execution_count": null,
      "outputs": [
        {
          "output_type": "execute_result",
          "data": {
            "text/plain": [
              "array([[11, 23, 45],\n",
              "       [67, 34, 67],\n",
              "       [54, 67, 34],\n",
              "       [54, 34, 53]])"
            ]
          },
          "metadata": {},
          "execution_count": 5
        }
      ]
    },
    {
      "cell_type": "markdown",
      "source": [
        "ravel() # 2d array k 1d te niya ase"
      ],
      "metadata": {
        "id": "HffSVuDtOoTB"
      }
    },
    {
      "cell_type": "code",
      "source": [
        "ar.ravel()"
      ],
      "metadata": {
        "colab": {
          "base_uri": "https://localhost:8080/"
        },
        "id": "CjXEoXAFNv5A",
        "outputId": "ba14b642-e18f-4594-a5a6-826b6455ab25"
      },
      "execution_count": null,
      "outputs": [
        {
          "output_type": "execute_result",
          "data": {
            "text/plain": [
              "array([11, 23, 45, 67, 34, 67, 54, 67, 34, 54, 34, 53])"
            ]
          },
          "metadata": {},
          "execution_count": 6
        }
      ]
    },
    {
      "cell_type": "markdown",
      "source": [
        "flatten() #multidimentional array k  1d te niya asa"
      ],
      "metadata": {
        "id": "BGN9Pn_LO4UB"
      }
    },
    {
      "cell_type": "code",
      "source": [
        "ar.flatten()"
      ],
      "metadata": {
        "colab": {
          "base_uri": "https://localhost:8080/"
        },
        "id": "Fg11hgN8Nv1x",
        "outputId": "a27c2aab-484e-4542-b3af-88c741f503a9"
      },
      "execution_count": null,
      "outputs": [
        {
          "output_type": "execute_result",
          "data": {
            "text/plain": [
              "array([11, 23, 45, 67, 34, 67, 54, 67, 34, 54, 34, 53])"
            ]
          },
          "metadata": {},
          "execution_count": 7
        }
      ]
    },
    {
      "cell_type": "markdown",
      "source": [
        "transpose # 2d kore"
      ],
      "metadata": {
        "id": "hyXYjH6VQK-Y"
      }
    },
    {
      "cell_type": "code",
      "source": [
        "ar.transpose()"
      ],
      "metadata": {
        "colab": {
          "base_uri": "https://localhost:8080/"
        },
        "id": "eTP6i9O3NvzB",
        "outputId": "a8f49614-51a0-4a3b-d679-a304fd096506"
      },
      "execution_count": null,
      "outputs": [
        {
          "output_type": "execute_result",
          "data": {
            "text/plain": [
              "array([[11, 34, 34],\n",
              "       [23, 67, 54],\n",
              "       [45, 54, 34],\n",
              "       [67, 67, 53]])"
            ]
          },
          "metadata": {},
          "execution_count": 8
        }
      ]
    },
    {
      "cell_type": "code",
      "source": [
        "ar=np.arange(1,101).reshape(10,10)\n",
        "ar"
      ],
      "metadata": {
        "colab": {
          "base_uri": "https://localhost:8080/"
        },
        "id": "y0nh7c1xPOAp",
        "outputId": "c0fb5241-e85f-4f74-a5b8-49756c6438ff"
      },
      "execution_count": null,
      "outputs": [
        {
          "output_type": "execute_result",
          "data": {
            "text/plain": [
              "array([[  1,   2,   3,   4,   5,   6,   7,   8,   9,  10],\n",
              "       [ 11,  12,  13,  14,  15,  16,  17,  18,  19,  20],\n",
              "       [ 21,  22,  23,  24,  25,  26,  27,  28,  29,  30],\n",
              "       [ 31,  32,  33,  34,  35,  36,  37,  38,  39,  40],\n",
              "       [ 41,  42,  43,  44,  45,  46,  47,  48,  49,  50],\n",
              "       [ 51,  52,  53,  54,  55,  56,  57,  58,  59,  60],\n",
              "       [ 61,  62,  63,  64,  65,  66,  67,  68,  69,  70],\n",
              "       [ 71,  72,  73,  74,  75,  76,  77,  78,  79,  80],\n",
              "       [ 81,  82,  83,  84,  85,  86,  87,  88,  89,  90],\n",
              "       [ 91,  92,  93,  94,  95,  96,  97,  98,  99, 100]])"
            ]
          },
          "metadata": {},
          "execution_count": 41
        }
      ]
    },
    {
      "cell_type": "code",
      "source": [
        "ar.ndim"
      ],
      "metadata": {
        "colab": {
          "base_uri": "https://localhost:8080/"
        },
        "id": "3WtyWwPHH_P6",
        "outputId": "8f8ae6af-956a-4a9f-bdf8-b4aa9f784ee4"
      },
      "execution_count": null,
      "outputs": [
        {
          "output_type": "execute_result",
          "data": {
            "text/plain": [
              "2"
            ]
          },
          "metadata": {},
          "execution_count": 42
        }
      ]
    },
    {
      "cell_type": "code",
      "source": [
        "ar.dtype"
      ],
      "metadata": {
        "colab": {
          "base_uri": "https://localhost:8080/"
        },
        "id": "b5z509RHIBjI",
        "outputId": "66abb80a-5231-4915-9ddf-c194971fd6a9"
      },
      "execution_count": null,
      "outputs": [
        {
          "output_type": "execute_result",
          "data": {
            "text/plain": [
              "dtype('int64')"
            ]
          },
          "metadata": {},
          "execution_count": 43
        }
      ]
    },
    {
      "cell_type": "code",
      "source": [],
      "metadata": {
        "id": "KTwQnn5XIEDA"
      },
      "execution_count": null,
      "outputs": []
    },
    {
      "cell_type": "code",
      "source": [
        "ar[0]"
      ],
      "metadata": {
        "colab": {
          "base_uri": "https://localhost:8080/"
        },
        "id": "_W3XVelBSh-V",
        "outputId": "26030e36-8c15-45a1-ce21-42d01362487f"
      },
      "execution_count": null,
      "outputs": [
        {
          "output_type": "execute_result",
          "data": {
            "text/plain": [
              "array([ 1,  2,  3,  4,  5,  6,  7,  8,  9, 10])"
            ]
          },
          "metadata": {},
          "execution_count": 4
        }
      ]
    },
    {
      "cell_type": "code",
      "source": [
        "ar[6:7,2:3]"
      ],
      "metadata": {
        "colab": {
          "base_uri": "https://localhost:8080/"
        },
        "id": "_8vjiYxACy-H",
        "outputId": "1787c466-df53-4df0-cb03-22805056b863"
      },
      "execution_count": null,
      "outputs": [
        {
          "output_type": "execute_result",
          "data": {
            "text/plain": [
              "array([[63]])"
            ]
          },
          "metadata": {},
          "execution_count": 17
        }
      ]
    },
    {
      "cell_type": "code",
      "source": [
        "ar[0: ,0:-1]"
      ],
      "metadata": {
        "colab": {
          "base_uri": "https://localhost:8080/"
        },
        "id": "JeA-SZ_EPN6A",
        "outputId": "3ac7687e-c0b7-486d-c981-810ef068e971"
      },
      "execution_count": null,
      "outputs": [
        {
          "output_type": "execute_result",
          "data": {
            "text/plain": [
              "array([[ 1,  2,  3,  4,  5,  6,  7,  8,  9],\n",
              "       [11, 12, 13, 14, 15, 16, 17, 18, 19],\n",
              "       [21, 22, 23, 24, 25, 26, 27, 28, 29],\n",
              "       [31, 32, 33, 34, 35, 36, 37, 38, 39],\n",
              "       [41, 42, 43, 44, 45, 46, 47, 48, 49],\n",
              "       [51, 52, 53, 54, 55, 56, 57, 58, 59],\n",
              "       [61, 62, 63, 64, 65, 66, 67, 68, 69],\n",
              "       [71, 72, 73, 74, 75, 76, 77, 78, 79],\n",
              "       [81, 82, 83, 84, 85, 86, 87, 88, 89],\n",
              "       [91, 92, 93, 94, 95, 96, 97, 98, 99]])"
            ]
          },
          "metadata": {},
          "execution_count": 11
        }
      ]
    },
    {
      "cell_type": "code",
      "source": [
        "ar[:-1,:-1]"
      ],
      "metadata": {
        "colab": {
          "base_uri": "https://localhost:8080/"
        },
        "id": "Y6YBwLE1TReB",
        "outputId": "d339c3a3-1967-4e43-fae3-ac16d2caa898"
      },
      "execution_count": null,
      "outputs": [
        {
          "output_type": "execute_result",
          "data": {
            "text/plain": [
              "array([[ 1,  2,  3,  4,  5,  6,  7,  8,  9],\n",
              "       [11, 12, 13, 14, 15, 16, 17, 18, 19],\n",
              "       [21, 22, 23, 24, 25, 26, 27, 28, 29],\n",
              "       [31, 32, 33, 34, 35, 36, 37, 38, 39],\n",
              "       [41, 42, 43, 44, 45, 46, 47, 48, 49],\n",
              "       [51, 52, 53, 54, 55, 56, 57, 58, 59],\n",
              "       [61, 62, 63, 64, 65, 66, 67, 68, 69],\n",
              "       [71, 72, 73, 74, 75, 76, 77, 78, 79],\n",
              "       [81, 82, 83, 84, 85, 86, 87, 88, 89]])"
            ]
          },
          "metadata": {},
          "execution_count": 12
        }
      ]
    },
    {
      "cell_type": "code",
      "source": [
        "ar[:,3:4]"
      ],
      "metadata": {
        "colab": {
          "base_uri": "https://localhost:8080/"
        },
        "id": "NVzojK66TA29",
        "outputId": "1c0aee9c-3ebb-4a0a-aa17-3634e7b9029e"
      },
      "execution_count": null,
      "outputs": [
        {
          "output_type": "execute_result",
          "data": {
            "text/plain": [
              "array([[ 4],\n",
              "       [14],\n",
              "       [24],\n",
              "       [34],\n",
              "       [44],\n",
              "       [54],\n",
              "       [64],\n",
              "       [74],\n",
              "       [84],\n",
              "       [94]])"
            ]
          },
          "metadata": {},
          "execution_count": 13
        }
      ]
    },
    {
      "cell_type": "code",
      "source": [
        "ar[8:9]"
      ],
      "metadata": {
        "colab": {
          "base_uri": "https://localhost:8080/"
        },
        "id": "g9GGtTe3TAzr",
        "outputId": "5600af8c-00f5-4544-e99f-ac36ccdd2026"
      },
      "execution_count": null,
      "outputs": [
        {
          "output_type": "execute_result",
          "data": {
            "text/plain": [
              "array([[81, 82, 83, 84, 85, 86, 87, 88, 89, 90]])"
            ]
          },
          "metadata": {},
          "execution_count": 14
        }
      ]
    },
    {
      "cell_type": "code",
      "source": [
        "ar[:,:1]"
      ],
      "metadata": {
        "id": "nl_a--zeTAxJ",
        "colab": {
          "base_uri": "https://localhost:8080/"
        },
        "outputId": "4fb48593-876b-48f9-ac7c-751eda6c6e82"
      },
      "execution_count": null,
      "outputs": [
        {
          "output_type": "execute_result",
          "data": {
            "text/plain": [
              "array([[ 1],\n",
              "       [11],\n",
              "       [21],\n",
              "       [31],\n",
              "       [41],\n",
              "       [51],\n",
              "       [61],\n",
              "       [71],\n",
              "       [81],\n",
              "       [91]])"
            ]
          },
          "metadata": {},
          "execution_count": 25
        }
      ]
    },
    {
      "cell_type": "code",
      "source": [
        "ar[4:7,2:6]"
      ],
      "metadata": {
        "id": "xu5tIsgTTAuP",
        "colab": {
          "base_uri": "https://localhost:8080/"
        },
        "outputId": "48480763-415d-4be3-e834-e1c44f1002d3"
      },
      "execution_count": null,
      "outputs": [
        {
          "output_type": "execute_result",
          "data": {
            "text/plain": [
              "array([[43, 44, 45, 46],\n",
              "       [53, 54, 55, 56],\n",
              "       [63, 64, 65, 66]])"
            ]
          },
          "metadata": {},
          "execution_count": 30
        }
      ]
    },
    {
      "cell_type": "code",
      "source": [
        "ar.flatten()"
      ],
      "metadata": {
        "colab": {
          "base_uri": "https://localhost:8080/"
        },
        "id": "ZTXcl0WlSwDW",
        "outputId": "79dfe370-2249-4dc6-da3a-e257e4436c24"
      },
      "execution_count": null,
      "outputs": [
        {
          "output_type": "execute_result",
          "data": {
            "text/plain": [
              "array([  1,   2,   3,   4,   5,   6,   7,   8,   9,  10,  11,  12,  13,\n",
              "        14,  15,  16,  17,  18,  19,  20,  21,  22,  23,  24,  25,  26,\n",
              "        27,  28,  29,  30,  31,  32,  33,  34,  35,  36,  37,  38,  39,\n",
              "        40,  41,  42,  43,  44,  45,  46,  47,  48,  49,  50,  51,  52,\n",
              "        53,  54,  55,  56,  57,  58,  59,  60,  61,  62,  63,  64,  65,\n",
              "        66,  67,  68,  69,  70,  71,  72,  73,  74,  75,  76,  77,  78,\n",
              "        79,  80,  81,  82,  83,  84,  85,  86,  87,  88,  89,  90,  91,\n",
              "        92,  93,  94,  95,  96,  97,  98,  99, 100])"
            ]
          },
          "metadata": {},
          "execution_count": 31
        }
      ]
    },
    {
      "cell_type": "code",
      "source": [
        "a=np.arange(1,61).reshape(10,6)"
      ],
      "metadata": {
        "id": "Tg7XI0RYTic9"
      },
      "execution_count": null,
      "outputs": []
    },
    {
      "cell_type": "code",
      "source": [
        "a"
      ],
      "metadata": {
        "colab": {
          "base_uri": "https://localhost:8080/"
        },
        "id": "ImxN-Jj2Tia_",
        "outputId": "eaeda70a-6233-493e-c73c-81316dcfa250"
      },
      "execution_count": null,
      "outputs": [
        {
          "output_type": "execute_result",
          "data": {
            "text/plain": [
              "array([[ 1,  2,  3,  4,  5,  6],\n",
              "       [ 7,  8,  9, 10, 11, 12],\n",
              "       [13, 14, 15, 16, 17, 18],\n",
              "       [19, 20, 21, 22, 23, 24],\n",
              "       [25, 26, 27, 28, 29, 30],\n",
              "       [31, 32, 33, 34, 35, 36],\n",
              "       [37, 38, 39, 40, 41, 42],\n",
              "       [43, 44, 45, 46, 47, 48],\n",
              "       [49, 50, 51, 52, 53, 54],\n",
              "       [55, 56, 57, 58, 59, 60]])"
            ]
          },
          "metadata": {},
          "execution_count": 35
        }
      ]
    },
    {
      "cell_type": "code",
      "source": [
        "b=np.arange(61,121).reshape(10,6)"
      ],
      "metadata": {
        "id": "Cz1CcccKUtOw"
      },
      "execution_count": null,
      "outputs": []
    },
    {
      "cell_type": "code",
      "source": [
        "b"
      ],
      "metadata": {
        "colab": {
          "base_uri": "https://localhost:8080/"
        },
        "id": "sf4w3qlsU8NH",
        "outputId": "59d217e3-e5b9-4676-a47d-5b6d25d03ac5"
      },
      "execution_count": null,
      "outputs": [
        {
          "output_type": "execute_result",
          "data": {
            "text/plain": [
              "array([[ 61,  62,  63,  64,  65,  66],\n",
              "       [ 67,  68,  69,  70,  71,  72],\n",
              "       [ 73,  74,  75,  76,  77,  78],\n",
              "       [ 79,  80,  81,  82,  83,  84],\n",
              "       [ 85,  86,  87,  88,  89,  90],\n",
              "       [ 91,  92,  93,  94,  95,  96],\n",
              "       [ 97,  98,  99, 100, 101, 102],\n",
              "       [103, 104, 105, 106, 107, 108],\n",
              "       [109, 110, 111, 112, 113, 114],\n",
              "       [115, 116, 117, 118, 119, 120]])"
            ]
          },
          "metadata": {},
          "execution_count": 38
        }
      ]
    },
    {
      "cell_type": "code",
      "source": [
        "np.concatenate((a,b),axis=1)"
      ],
      "metadata": {
        "colab": {
          "base_uri": "https://localhost:8080/"
        },
        "id": "5Pvaj14zU-Df",
        "outputId": "777cd76a-d492-473f-ec1a-cbce33cd6b5e"
      },
      "execution_count": null,
      "outputs": [
        {
          "output_type": "execute_result",
          "data": {
            "text/plain": [
              "array([[  1,   2,   3,   4,   5,   6,  61,  62,  63,  64,  65,  66],\n",
              "       [  7,   8,   9,  10,  11,  12,  67,  68,  69,  70,  71,  72],\n",
              "       [ 13,  14,  15,  16,  17,  18,  73,  74,  75,  76,  77,  78],\n",
              "       [ 19,  20,  21,  22,  23,  24,  79,  80,  81,  82,  83,  84],\n",
              "       [ 25,  26,  27,  28,  29,  30,  85,  86,  87,  88,  89,  90],\n",
              "       [ 31,  32,  33,  34,  35,  36,  91,  92,  93,  94,  95,  96],\n",
              "       [ 37,  38,  39,  40,  41,  42,  97,  98,  99, 100, 101, 102],\n",
              "       [ 43,  44,  45,  46,  47,  48, 103, 104, 105, 106, 107, 108],\n",
              "       [ 49,  50,  51,  52,  53,  54, 109, 110, 111, 112, 113, 114],\n",
              "       [ 55,  56,  57,  58,  59,  60, 115, 116, 117, 118, 119, 120]])"
            ]
          },
          "metadata": {},
          "execution_count": 40
        }
      ]
    },
    {
      "cell_type": "markdown",
      "source": [
        "vertical concatenate"
      ],
      "metadata": {
        "id": "CazxYDp2VflJ"
      }
    },
    {
      "cell_type": "code",
      "source": [
        "np.vstack((a,b))"
      ],
      "metadata": {
        "colab": {
          "base_uri": "https://localhost:8080/"
        },
        "id": "5YbucFpPVEcH",
        "outputId": "0af602a6-6ea9-412d-c155-b3d326dcae37"
      },
      "execution_count": null,
      "outputs": [
        {
          "output_type": "execute_result",
          "data": {
            "text/plain": [
              "array([[  1,   2,   3,   4,   5,   6],\n",
              "       [  7,   8,   9,  10,  11,  12],\n",
              "       [ 13,  14,  15,  16,  17,  18],\n",
              "       [ 19,  20,  21,  22,  23,  24],\n",
              "       [ 25,  26,  27,  28,  29,  30],\n",
              "       [ 31,  32,  33,  34,  35,  36],\n",
              "       [ 37,  38,  39,  40,  41,  42],\n",
              "       [ 43,  44,  45,  46,  47,  48],\n",
              "       [ 49,  50,  51,  52,  53,  54],\n",
              "       [ 55,  56,  57,  58,  59,  60],\n",
              "       [ 61,  62,  63,  64,  65,  66],\n",
              "       [ 67,  68,  69,  70,  71,  72],\n",
              "       [ 73,  74,  75,  76,  77,  78],\n",
              "       [ 79,  80,  81,  82,  83,  84],\n",
              "       [ 85,  86,  87,  88,  89,  90],\n",
              "       [ 91,  92,  93,  94,  95,  96],\n",
              "       [ 97,  98,  99, 100, 101, 102],\n",
              "       [103, 104, 105, 106, 107, 108],\n",
              "       [109, 110, 111, 112, 113, 114],\n",
              "       [115, 116, 117, 118, 119, 120]])"
            ]
          },
          "metadata": {},
          "execution_count": 43
        }
      ]
    },
    {
      "cell_type": "markdown",
      "source": [
        "horizontal concatenate"
      ],
      "metadata": {
        "id": "v1F7CSmRVkTG"
      }
    },
    {
      "cell_type": "code",
      "source": [
        "np.hstack((a,b))"
      ],
      "metadata": {
        "colab": {
          "base_uri": "https://localhost:8080/"
        },
        "id": "mnGi8Q5FVOQv",
        "outputId": "7bfa2e6a-22ed-4032-fa1b-91e59d6aa1e8"
      },
      "execution_count": null,
      "outputs": [
        {
          "output_type": "execute_result",
          "data": {
            "text/plain": [
              "array([[  1,   2,   3,   4,   5,   6,  61,  62,  63,  64,  65,  66],\n",
              "       [  7,   8,   9,  10,  11,  12,  67,  68,  69,  70,  71,  72],\n",
              "       [ 13,  14,  15,  16,  17,  18,  73,  74,  75,  76,  77,  78],\n",
              "       [ 19,  20,  21,  22,  23,  24,  79,  80,  81,  82,  83,  84],\n",
              "       [ 25,  26,  27,  28,  29,  30,  85,  86,  87,  88,  89,  90],\n",
              "       [ 31,  32,  33,  34,  35,  36,  91,  92,  93,  94,  95,  96],\n",
              "       [ 37,  38,  39,  40,  41,  42,  97,  98,  99, 100, 101, 102],\n",
              "       [ 43,  44,  45,  46,  47,  48, 103, 104, 105, 106, 107, 108],\n",
              "       [ 49,  50,  51,  52,  53,  54, 109, 110, 111, 112, 113, 114],\n",
              "       [ 55,  56,  57,  58,  59,  60, 115, 116, 117, 118, 119, 120]])"
            ]
          },
          "metadata": {},
          "execution_count": 45
        }
      ]
    },
    {
      "cell_type": "code",
      "source": [
        "np.split(a,2,axis=1)"
      ],
      "metadata": {
        "colab": {
          "base_uri": "https://localhost:8080/"
        },
        "id": "2_R9YGsMVXMA",
        "outputId": "502341db-9f9b-4993-c55e-af430e827b89"
      },
      "execution_count": null,
      "outputs": [
        {
          "output_type": "execute_result",
          "data": {
            "text/plain": [
              "[array([[ 1,  2,  3],\n",
              "        [ 7,  8,  9],\n",
              "        [13, 14, 15],\n",
              "        [19, 20, 21],\n",
              "        [25, 26, 27],\n",
              "        [31, 32, 33],\n",
              "        [37, 38, 39],\n",
              "        [43, 44, 45],\n",
              "        [49, 50, 51],\n",
              "        [55, 56, 57]]), array([[ 4,  5,  6],\n",
              "        [10, 11, 12],\n",
              "        [16, 17, 18],\n",
              "        [22, 23, 24],\n",
              "        [28, 29, 30],\n",
              "        [34, 35, 36],\n",
              "        [40, 41, 42],\n",
              "        [46, 47, 48],\n",
              "        [52, 53, 54],\n",
              "        [58, 59, 60]])]"
            ]
          },
          "metadata": {},
          "execution_count": 47
        }
      ]
    },
    {
      "cell_type": "code",
      "source": [
        "n='this is'\n",
        "m=' boy'\n",
        "np.char.add(n,m)"
      ],
      "metadata": {
        "colab": {
          "base_uri": "https://localhost:8080/"
        },
        "id": "N99nnN8OWi7g",
        "outputId": "afa45b0f-4c3d-42ff-9729-97b911b95a93"
      },
      "execution_count": null,
      "outputs": [
        {
          "output_type": "execute_result",
          "data": {
            "text/plain": [
              "array('this is boy', dtype='<U11')"
            ]
          },
          "metadata": {},
          "execution_count": 44
        }
      ]
    },
    {
      "cell_type": "code",
      "source": [
        "np.char.upper(n)"
      ],
      "metadata": {
        "colab": {
          "base_uri": "https://localhost:8080/"
        },
        "id": "wU8hWi20ayKx",
        "outputId": "9e99e236-5210-4e70-b5ee-98aa265222ba"
      },
      "execution_count": null,
      "outputs": [
        {
          "output_type": "execute_result",
          "data": {
            "text/plain": [
              "array('THIS IS', dtype='<U7')"
            ]
          },
          "metadata": {},
          "execution_count": 51
        }
      ]
    },
    {
      "cell_type": "code",
      "source": [
        "n11=np.char.center(n,50,fillchar='*')\n",
        "print(n11)\n",
        "n12=np.char.center(n,48,fillchar='*')\n",
        "print(n12)"
      ],
      "metadata": {
        "colab": {
          "base_uri": "https://localhost:8080/"
        },
        "id": "LGTER4KKa-Bo",
        "outputId": "6640e30b-fc7d-422e-aa75-f3a32076f178"
      },
      "execution_count": null,
      "outputs": [
        {
          "output_type": "stream",
          "name": "stdout",
          "text": [
            "*********************this is**********************\n",
            "********************this is*********************\n"
          ]
        }
      ]
    },
    {
      "cell_type": "code",
      "source": [
        "s1='dym'\n",
        "s2='ttt'\n",
        "np.char.join([':',\"/\"],[s1,s2])"
      ],
      "metadata": {
        "colab": {
          "base_uri": "https://localhost:8080/"
        },
        "id": "t8X7ks8wbKum",
        "outputId": "0c20a902-a2a7-490a-fa9c-89480a78f3dd"
      },
      "execution_count": null,
      "outputs": [
        {
          "output_type": "execute_result",
          "data": {
            "text/plain": [
              "array(['d:y:m', 't/t/t'], dtype='<U5')"
            ]
          },
          "metadata": {},
          "execution_count": 55
        }
      ]
    },
    {
      "cell_type": "code",
      "source": [
        "ar=np.array([[[1,2,3],\n",
        "              [1,3,6]],\n",
        "             [[6,5,3],\n",
        "             [4,6,9]]])\n",
        "ar"
      ],
      "metadata": {
        "id": "-faeG938bKta",
        "colab": {
          "base_uri": "https://localhost:8080/"
        },
        "outputId": "0f019f76-6941-4c3e-f521-be051d925fda"
      },
      "execution_count": null,
      "outputs": [
        {
          "output_type": "execute_result",
          "data": {
            "text/plain": [
              "array([[[1, 2, 3],\n",
              "        [1, 3, 6]],\n",
              "\n",
              "       [[6, 5, 3],\n",
              "        [4, 6, 9]]])"
            ]
          },
          "metadata": {},
          "execution_count": 18
        }
      ]
    },
    {
      "cell_type": "code",
      "source": [
        "ar[:,:,1:2]"
      ],
      "metadata": {
        "colab": {
          "base_uri": "https://localhost:8080/"
        },
        "id": "HxOKyonEFY8_",
        "outputId": "6c3641e5-e525-4cba-86e1-25fe9700afe9"
      },
      "execution_count": null,
      "outputs": [
        {
          "output_type": "execute_result",
          "data": {
            "text/plain": [
              "array([[[2],\n",
              "        [3]],\n",
              "\n",
              "       [[5],\n",
              "        [6]]])"
            ]
          },
          "metadata": {},
          "execution_count": 38
        }
      ]
    },
    {
      "cell_type": "code",
      "source": [
        "np.full((2,2),99)"
      ],
      "metadata": {
        "colab": {
          "base_uri": "https://localhost:8080/"
        },
        "id": "mYlwB0wEFdUv",
        "outputId": "07a58659-c6b3-41bf-b589-e2d485fba6b1"
      },
      "execution_count": null,
      "outputs": [
        {
          "output_type": "execute_result",
          "data": {
            "text/plain": [
              "array([[99, 99],\n",
              "       [99, 99]])"
            ]
          },
          "metadata": {},
          "execution_count": 48
        }
      ]
    },
    {
      "cell_type": "code",
      "source": [],
      "metadata": {
        "id": "GK_jUyAEJC2G"
      },
      "execution_count": null,
      "outputs": []
    },
    {
      "cell_type": "code",
      "source": [
        "np.full_like(ar,4)"
      ],
      "metadata": {
        "colab": {
          "base_uri": "https://localhost:8080/"
        },
        "id": "2OGmrYyLI2Tg",
        "outputId": "cb45f282-bc51-46a5-bb76-91ffdb4d6f61"
      },
      "execution_count": null,
      "outputs": [
        {
          "output_type": "execute_result",
          "data": {
            "text/plain": [
              "array([[4, 4, 4, 4, 4, 4, 4, 4, 4, 4],\n",
              "       [4, 4, 4, 4, 4, 4, 4, 4, 4, 4],\n",
              "       [4, 4, 4, 4, 4, 4, 4, 4, 4, 4],\n",
              "       [4, 4, 4, 4, 4, 4, 4, 4, 4, 4],\n",
              "       [4, 4, 4, 4, 4, 4, 4, 4, 4, 4],\n",
              "       [4, 4, 4, 4, 4, 4, 4, 4, 4, 4],\n",
              "       [4, 4, 4, 4, 4, 4, 4, 4, 4, 4],\n",
              "       [4, 4, 4, 4, 4, 4, 4, 4, 4, 4],\n",
              "       [4, 4, 4, 4, 4, 4, 4, 4, 4, 4],\n",
              "       [4, 4, 4, 4, 4, 4, 4, 4, 4, 4]])"
            ]
          },
          "metadata": {},
          "execution_count": 51
        }
      ]
    },
    {
      "cell_type": "code",
      "source": [
        "np.random. rand(4,2)# +"
      ],
      "metadata": {
        "colab": {
          "base_uri": "https://localhost:8080/"
        },
        "id": "WzU_-v00I5tY",
        "outputId": "681be47f-758b-4601-d56a-9403bbbb7087"
      },
      "execution_count": null,
      "outputs": [
        {
          "output_type": "execute_result",
          "data": {
            "text/plain": [
              "array([[0.06976724, 0.38687359],\n",
              "       [0.5561412 , 0.21985275],\n",
              "       [0.41030696, 0.26419894],\n",
              "       [0.4896887 , 0.44736244]])"
            ]
          },
          "metadata": {},
          "execution_count": 62
        }
      ]
    },
    {
      "cell_type": "code",
      "source": [
        "np.random.randn(4,2) #+,-"
      ],
      "metadata": {
        "colab": {
          "base_uri": "https://localhost:8080/"
        },
        "id": "m41Zh2WNKUQz",
        "outputId": "d4c46946-a49b-445c-c029-8a86c3f1f7e8"
      },
      "execution_count": null,
      "outputs": [
        {
          "output_type": "execute_result",
          "data": {
            "text/plain": [
              "array([[-0.52775997, -1.53324294],\n",
              "       [-0.61795267, -0.27976889],\n",
              "       [-0.86036769,  0.75376979],\n",
              "       [-0.48805496, -1.31449808]])"
            ]
          },
          "metadata": {},
          "execution_count": 63
        }
      ]
    },
    {
      "cell_type": "code",
      "source": [
        "np.random.randint(8,size=(4,6))"
      ],
      "metadata": {
        "colab": {
          "base_uri": "https://localhost:8080/"
        },
        "id": "pd0F_paaJQlA",
        "outputId": "cd224b99-be00-47b4-f50d-0d34e89bc9d6"
      },
      "execution_count": null,
      "outputs": [
        {
          "output_type": "execute_result",
          "data": {
            "text/plain": [
              "array([[6, 2, 6, 1, 6, 6],\n",
              "       [7, 0, 4, 2, 3, 0],\n",
              "       [1, 0, 6, 3, 2, 1],\n",
              "       [0, 1, 2, 0, 5, 5]])"
            ]
          },
          "metadata": {},
          "execution_count": 56
        }
      ]
    },
    {
      "cell_type": "code",
      "source": [
        "np.random.randint(1,8,size=(4,6))"
      ],
      "metadata": {
        "colab": {
          "base_uri": "https://localhost:8080/"
        },
        "id": "z4x3QTzvJ2ja",
        "outputId": "37994a80-1b75-48b2-cefe-244fda714e0a"
      },
      "execution_count": null,
      "outputs": [
        {
          "output_type": "execute_result",
          "data": {
            "text/plain": [
              "array([[1, 5, 6, 5, 2, 6],\n",
              "       [6, 7, 6, 7, 6, 2],\n",
              "       [1, 3, 6, 4, 5, 2],\n",
              "       [6, 6, 1, 5, 2, 3]])"
            ]
          },
          "metadata": {},
          "execution_count": 61
        }
      ]
    },
    {
      "cell_type": "code",
      "source": [
        "np.identity(5)"
      ],
      "metadata": {
        "colab": {
          "base_uri": "https://localhost:8080/"
        },
        "id": "kj40FFqIJXl5",
        "outputId": "dd2713aa-4328-4493-88f4-0c3669e0b98f"
      },
      "execution_count": null,
      "outputs": [
        {
          "output_type": "execute_result",
          "data": {
            "text/plain": [
              "array([[1., 0., 0., 0., 0.],\n",
              "       [0., 1., 0., 0., 0.],\n",
              "       [0., 0., 1., 0., 0.],\n",
              "       [0., 0., 0., 1., 0.],\n",
              "       [0., 0., 0., 0., 1.]])"
            ]
          },
          "metadata": {},
          "execution_count": 57
        }
      ]
    },
    {
      "cell_type": "code",
      "source": [
        "ar=np.array([[1,2,3]])\n",
        "np.repeat(ar,3,axis=0)"
      ],
      "metadata": {
        "colab": {
          "base_uri": "https://localhost:8080/"
        },
        "id": "SizL2j-3JyV5",
        "outputId": "bd249b3e-3a24-4628-d612-83bee32dcfd4"
      },
      "execution_count": null,
      "outputs": [
        {
          "output_type": "execute_result",
          "data": {
            "text/plain": [
              "array([[1, 2, 3],\n",
              "       [1, 2, 3],\n",
              "       [1, 2, 3]])"
            ]
          },
          "metadata": {},
          "execution_count": 66
        }
      ]
    },
    {
      "cell_type": "code",
      "source": [
        "a=np.array([1,2,3,4])\n",
        "b=a.copy()\n",
        "b[0]=100\n",
        "print(a,b)"
      ],
      "metadata": {
        "colab": {
          "base_uri": "https://localhost:8080/"
        },
        "id": "GEasWuNLKmVR",
        "outputId": "5268ced9-957c-4582-b373-4548a5a1e60c"
      },
      "execution_count": null,
      "outputs": [
        {
          "output_type": "stream",
          "name": "stdout",
          "text": [
            "[1 2 3 4] [100   2   3   4]\n"
          ]
        }
      ]
    },
    {
      "cell_type": "code",
      "source": [
        "a=np.array([1,2,3,4])\n",
        "b=a.view()\n",
        "b[0]=100\n",
        "print(a,b)"
      ],
      "metadata": {
        "colab": {
          "base_uri": "https://localhost:8080/"
        },
        "id": "eA6RtB66MbOp",
        "outputId": "0cef60ae-764f-4dd0-8a25-517f303b0d2d"
      },
      "execution_count": null,
      "outputs": [
        {
          "output_type": "stream",
          "name": "stdout",
          "text": [
            "[100   2   3   4] [100   2   3   4]\n"
          ]
        }
      ]
    },
    {
      "cell_type": "code",
      "source": [
        "a=np.array([1,2,3,4])\n",
        "b=a\n",
        "b[0]=100\n",
        "print(a,b)"
      ],
      "metadata": {
        "colab": {
          "base_uri": "https://localhost:8080/"
        },
        "id": "IGHBQ-WCMiGJ",
        "outputId": "5bfd2e47-d213-41c4-eaba-3901b71e3e55"
      },
      "execution_count": null,
      "outputs": [
        {
          "output_type": "stream",
          "name": "stdout",
          "text": [
            "[100   2   3   4] [100   2   3   4]\n"
          ]
        }
      ]
    },
    {
      "cell_type": "code",
      "source": [
        "data=np.genfromtxt('/content/yyy.txt',delimiter=',')\n",
        "data.astype('int64')"
      ],
      "metadata": {
        "colab": {
          "base_uri": "https://localhost:8080/"
        },
        "id": "WhhMFjnvMnXR",
        "outputId": "8ff91b04-7370-463c-b502-6d1ce70628e3"
      },
      "execution_count": null,
      "outputs": [
        {
          "output_type": "execute_result",
          "data": {
            "text/plain": [
              "array([[1, 2, 3, 4, 5, 6, 7, 8],\n",
              "       [1, 2, 3, 4, 5, 6, 7, 8],\n",
              "       [1, 2, 3, 4, 5, 6, 7, 8],\n",
              "       [1, 2, 3, 4, 5, 6, 7, 8],\n",
              "       [1, 2, 3, 4, 5, 6, 7, 8],\n",
              "       [1, 2, 3, 4, 5, 6, 7, 8],\n",
              "       [1, 2, 3, 4, 5, 6, 7, 8],\n",
              "       [1, 2, 3, 4, 5, 6, 7, 8]])"
            ]
          },
          "metadata": {},
          "execution_count": 81
        }
      ]
    },
    {
      "cell_type": "code",
      "source": [],
      "metadata": {
        "id": "eByvVHCgOxBD"
      },
      "execution_count": null,
      "outputs": []
    }
  ]
}